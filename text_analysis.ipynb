{
 "cells": [
  {
   "cell_type": "markdown",
   "metadata": {},
   "source": [
    "<font size=6> <b> 4,5 주차 강의 Notebook </b> </font>\n",
    "<div class=\"alert alert-block alert-success\">\n",
    "  클리앙 사이트에서 글을 scrap하고, 그 내용을 분석해 보자! <br>\n",
    "</div>\n",
    "<p style=\"text-align:right;\"> sumyeon@gmail.com </p>"
   ]
  },
  {
   "cell_type": "markdown",
   "metadata": {
    "execution": {
     "iopub.execute_input": "2020-08-18T12:02:46.435982Z",
     "iopub.status.busy": "2020-08-18T12:02:46.435982Z",
     "iopub.status.idle": "2020-08-18T12:02:46.441983Z",
     "shell.execute_reply": "2020-08-18T12:02:46.440984Z",
     "shell.execute_reply.started": "2020-08-18T12:02:46.435982Z"
    }
   },
   "source": [
    "> pip install --upgrade pip\n",
    "> pip install konlpy"
   ]
  },
  {
   "cell_type": "markdown",
   "metadata": {},
   "source": [
    " <hr>"
   ]
  },
  {
   "cell_type": "markdown",
   "metadata": {},
   "source": [
    "# Preparation"
   ]
  },
  {
   "cell_type": "code",
   "execution_count": 1,
   "metadata": {
    "execution": {
     "iopub.execute_input": "2020-08-19T11:50:32.748215Z",
     "iopub.status.busy": "2020-08-19T11:50:32.748215Z",
     "iopub.status.idle": "2020-08-19T11:50:33.093223Z",
     "shell.execute_reply": "2020-08-19T11:50:33.093223Z",
     "shell.execute_reply.started": "2020-08-19T11:50:32.748215Z"
    }
   },
   "outputs": [],
   "source": [
    "import requests\n",
    "from bs4 import BeautifulSoup\n",
    "import datetime\n",
    "import pandas as pd\n",
    "import numpy as np\n",
    "import matplotlib.pyplot as plt\n",
    "import re\n",
    "import time\n",
    "\n",
    "%matplotlib inline"
   ]
  },
  {
   "cell_type": "markdown",
   "metadata": {},
   "source": [
    "# Data Scrap"
   ]
  },
  {
   "cell_type": "raw",
   "metadata": {},
   "source": [
    "proxies={\"https\":\"https://168.219.61.252:8080\", \"http\":\"http://168.219.61.252:8080\"}\n",
    "proxies=None\n",
    "clienURL= \"https://www.clien.net/service/board/\""
   ]
  },
  {
   "cell_type": "raw",
   "metadata": {},
   "source": [
    "\n",
    "def retrieveURLasBSObj(siteurl):\n",
    "    \"\"\"\n",
    "    retrieve the web content of the URL in the form of BeautifulSoup object\n",
    "    \"\"\"\n",
    "    \n",
    "    page = requests.get(siteurl, proxies=proxies, verify=False) #Request(siteurl, headers={'User-Agent': 'Mozilla/5.0'})\n",
    "    bsobj = BeautifulSoup(page.text, \"html.parser\")\n",
    "    return bsobj\n",
    "\n",
    "def cleanhtml(rawhtml):\n",
    "    \"\"\"\n",
    "    transform the rawhtml into plain text : (ex, remove html tags such as <p> <div>)\n",
    "    \"\"\"\n",
    "    cleanregex = re.compile('<.*?>')\n",
    "    cleantext = re.sub(cleanregex,'', rawhtml)\n",
    "    return cleantext.replace('\\n','')"
   ]
  },
  {
   "cell_type": "raw",
   "metadata": {},
   "source": [
    "def retrieveArticle(articleid, bboard='park'):\n",
    "    \"\"\"\n",
    "    retrieve the article information of the given article id.\n",
    "    \n",
    "    Parameters:\n",
    "        articleid (int): article number id\n",
    "        bboard (str): bulleting board name such as 'park','jirum',etc.\n",
    "        \n",
    "    Returns:\n",
    "        tuple (bboard, articleid, title, create_time, author_id, author_ip, content, reply_count, symph_count, view_count):\n",
    "            bboard (str): bulletin board name\n",
    "            articleid (str): article number id\n",
    "            title (str): article title\n",
    "            create_time (str): creation time in the form of \"2020-07-27 21:04:21\"\n",
    "            author_id (str): article author id\n",
    "            author_ip (str): ip ex) 223.♡.21.155\n",
    "            content (str): article content\n",
    "            reply_count (str): the number of replies\n",
    "            symph_count (str): the number of symphathy clicks\n",
    "            view_count (str): the number of view\n",
    "    \"\"\"\n",
    "\n",
    "    targetUrl = clienURL+\"/\"+bboard+\"/\"+str(articleid)\n",
    "\n",
    "    bsobj = retrieveURLasBSObj(targetUrl)\n",
    "    if bsobj is None:\n",
    "        return None\n",
    "        \n",
    "    bsobj = bsobj.find('div', attrs={'class' : 'content_view'})\n",
    "    if bsobj is None:\n",
    "        return None    # sometimes, login page popped up\n",
    "\n",
    "    # title : <h3 class=\"post subject\"  ...> title </h3>\n",
    "    title_h3 = bsobj.find('h3', attrs={'class' : 'post_subject'}).span.get_text()\n",
    "    title = title_h3.replace('\\n',' ').replace('\\r','').replace('|','')\n",
    "\n",
    "    symph_div = bsobj.find('div', attrs={'class' : 'post_symph view_symph'})\n",
    "    if symph_div is None:\n",
    "        symph_count = 0\n",
    "    else:\n",
    "        symph_count = symph_div.get_text()\n",
    "        symph_count = (int)(symph_count.replace('\\n', ' ').replace('\\r', ''))\n",
    "\n",
    "        \n",
    "    view_count = bsobj.find('div', attrs={'class' : 'view_info'}).get_text()\n",
    "    view_count = (int)(view_count.replace('\\n', ' ').replace('\\r', '').replace(',', ''))\n",
    "    \n",
    "    content_div = bsobj.find('div', attrs={'class':'post_article'})\n",
    "    content = cleanhtml( content_div.body.get_text().strip().replace('|','') ) \n",
    "\n",
    "    \n",
    "    author_div = bsobj.find('div', attrs={'class' : 'post_author'})\n",
    "    author_span = author_div.find_all('span', attrs={'class': None})\n",
    "    create_time = author_span[0].text.split('\\n')[1].strip() \n",
    "    author_ip = author_span[-1].text.strip()\n",
    "    \n",
    "    \n",
    "    authorid_span = bsobj.find('span', attrs={'class':'contact_name'})\n",
    "    if authorid_span.find('img'):\n",
    "        author_id =authorid_span.find(\"img\")['alt']\n",
    "    else:\n",
    "        author_id = authorid_span.find_all('span')[0].text.replace('\\n', ' ').replace('\\r', '').replace(',', '').strip()\n",
    "\n",
    "    reply_count_text= bsobj.find('div', attrs={'class' : 'comment_head'}).get_text()\n",
    "    reply_count = (int)(re.findall('\\d+', reply_count_text)[0])\n",
    "\n",
    "    return (bboard, str(articleid), title, create_time, author_id, author_ip, content, str(reply_count), str(symph_count), str(view_count))"
   ]
  },
  {
   "cell_type": "raw",
   "metadata": {},
   "source": [
    "header = \"board|articleid|title|create_time|author_id|author_ip|content|reply_cnt|symph_cnt|view_cnt\"\n",
    "\n",
    "def clien_article_download(bboard, startid, endid, filename):\n",
    "    with open(filename,\"w\", encoding='utf-8') as ofile:\n",
    "        ofile.write(header+\"\\n\")\n",
    "        for articleid in tqdm(range(startid,endid, 1)):\n",
    "            article_tuple = retrieveArticle(articleid, 'park')\n",
    "            if article_tuple is not None:\n",
    "                ofile.write(\"|\".join(article_tuple)+'\\n')\n",
    "            time.sleep(0.1)\n",
    "            if not articleid % 1000:\n",
    "                time.sleep(10)"
   ]
  },
  {
   "cell_type": "raw",
   "metadata": {},
   "source": [
    "clien_article_download('park', 15242011,15261076, \"c:/temp/clien_park_aug_5to10.csv\")"
   ]
  },
  {
   "cell_type": "markdown",
   "metadata": {},
   "source": [
    " <hr>"
   ]
  },
  {
   "cell_type": "markdown",
   "metadata": {},
   "source": [
    "# Data Loading"
   ]
  },
  {
   "cell_type": "code",
   "execution_count": 60,
   "metadata": {
    "execution": {
     "iopub.execute_input": "2020-08-19T12:14:50.808213Z",
     "iopub.status.busy": "2020-08-19T12:14:50.808213Z",
     "iopub.status.idle": "2020-08-19T12:14:50.947215Z",
     "shell.execute_reply": "2020-08-19T12:14:50.946215Z",
     "shell.execute_reply.started": "2020-08-19T12:14:50.808213Z"
    }
   },
   "outputs": [],
   "source": [
    "df = pd.read_csv(\"clien_park_aug_5to10.csv\", sep='|', error_bad_lines=False, parse_dates=[3])"
   ]
  },
  {
   "cell_type": "markdown",
   "metadata": {},
   "source": [
    "<div class=\"alert alert-block alert-info\">\n",
    "<b> Tip:</b> 앞서 배운대로 오류가 생길 경우, 무시할 수준이라고 판단된다면 error_bad_lines로 무시하고 loading </b>\n",
    "\n",
    "</div>"
   ]
  },
  {
   "cell_type": "code",
   "execution_count": 3,
   "metadata": {
    "execution": {
     "iopub.execute_input": "2020-08-19T11:50:33.244215Z",
     "iopub.status.busy": "2020-08-19T11:50:33.244215Z",
     "iopub.status.idle": "2020-08-19T11:50:33.264212Z",
     "shell.execute_reply": "2020-08-19T11:50:33.263223Z",
     "shell.execute_reply.started": "2020-08-19T11:50:33.244215Z"
    }
   },
   "outputs": [
    {
     "data": {
      "text/html": [
       "<div>\n",
       "<style scoped>\n",
       "    .dataframe tbody tr th:only-of-type {\n",
       "        vertical-align: middle;\n",
       "    }\n",
       "\n",
       "    .dataframe tbody tr th {\n",
       "        vertical-align: top;\n",
       "    }\n",
       "\n",
       "    .dataframe thead th {\n",
       "        text-align: right;\n",
       "    }\n",
       "</style>\n",
       "<table border=\"1\" class=\"dataframe\">\n",
       "  <thead>\n",
       "    <tr style=\"text-align: right;\">\n",
       "      <th></th>\n",
       "      <th>board</th>\n",
       "      <th>articleid</th>\n",
       "      <th>title</th>\n",
       "      <th>create_time</th>\n",
       "      <th>author_id</th>\n",
       "      <th>author_ip</th>\n",
       "      <th>content</th>\n",
       "      <th>reply_cnt</th>\n",
       "      <th>symph_cnt</th>\n",
       "      <th>view_cnt</th>\n",
       "    </tr>\n",
       "  </thead>\n",
       "  <tbody>\n",
       "    <tr>\n",
       "      <th>0</th>\n",
       "      <td>park</td>\n",
       "      <td>15242011</td>\n",
       "      <td>익스플로러가 느린 이유</td>\n",
       "      <td>2020-08-05 00:01:04</td>\n",
       "      <td>내일은$</td>\n",
       "      <td>218.♡.42.208</td>\n",
       "      <td>얼마전 초딩 아들이 어느 인터넷으로 공부하는 사이트를 사용하더니 저에게 묻습니다아들...</td>\n",
       "      <td>11</td>\n",
       "      <td>2</td>\n",
       "      <td>3208</td>\n",
       "    </tr>\n",
       "    <tr>\n",
       "      <th>1</th>\n",
       "      <td>park</td>\n",
       "      <td>15242012</td>\n",
       "      <td>수요일 자정 러블리즈 입니다. [8/4 단신] (데뷔로부터 2095일)</td>\n",
       "      <td>2020-08-05 00:02:03</td>\n",
       "      <td>224-rainbow</td>\n",
       "      <td>115.♡.203.252</td>\n",
       "      <td>카메오(Musical Ver.) 작업 트랙 공개 &amp; 분석(1)[공식] tvN 새 예...</td>\n",
       "      <td>14</td>\n",
       "      <td>10</td>\n",
       "      <td>496</td>\n",
       "    </tr>\n",
       "    <tr>\n",
       "      <th>2</th>\n",
       "      <td>park</td>\n",
       "      <td>15242014</td>\n",
       "      <td>제 나이는 여름에는 쿨 이었는데...</td>\n",
       "      <td>2020-08-05 00:02:19</td>\n",
       "      <td>화이트덕</td>\n",
       "      <td>125.♡.110.208</td>\n",
       "      <td>1.코요테가 이렇게 옛날 감성으로 돌아오니 좋네요.2.신지씨 특유의 음 끝 바이브레...</td>\n",
       "      <td>1</td>\n",
       "      <td>0</td>\n",
       "      <td>936</td>\n",
       "    </tr>\n",
       "    <tr>\n",
       "      <th>3</th>\n",
       "      <td>park</td>\n",
       "      <td>15242018</td>\n",
       "      <td>어느 여자사람의 셀프네일 도전기</td>\n",
       "      <td>2020-08-05 00:04:35</td>\n",
       "      <td>해리비안의 캐적</td>\n",
       "      <td>49.♡.102.42</td>\n",
       "      <td>클리앙에서 이과천재들의 전자기기 후기들을 보며 1도 이해할수 없는 용어의 홍수속에서...</td>\n",
       "      <td>51</td>\n",
       "      <td>24</td>\n",
       "      <td>11075</td>\n",
       "    </tr>\n",
       "    <tr>\n",
       "      <th>4</th>\n",
       "      <td>park</td>\n",
       "      <td>15242019</td>\n",
       "      <td>아이맥 2020 업데이트</td>\n",
       "      <td>2020-08-05 00:04:54</td>\n",
       "      <td>Daspfel</td>\n",
       "      <td>125.♡.240.232</td>\n",
       "      <td>27인치만 나왔네요. 예상대로 디자인 변화 없이 내부만 업데이트. 10 세대 인텔 ...</td>\n",
       "      <td>8</td>\n",
       "      <td>0</td>\n",
       "      <td>2014</td>\n",
       "    </tr>\n",
       "  </tbody>\n",
       "</table>\n",
       "</div>"
      ],
      "text/plain": [
       "  board  articleid                                    title  \\\n",
       "0  park   15242011                             익스플로러가 느린 이유   \n",
       "1  park   15242012  수요일 자정 러블리즈 입니다. [8/4 단신] (데뷔로부터 2095일)   \n",
       "2  park   15242014                     제 나이는 여름에는 쿨 이었는데...   \n",
       "3  park   15242018                        어느 여자사람의 셀프네일 도전기   \n",
       "4  park   15242019                            아이맥 2020 업데이트   \n",
       "\n",
       "          create_time    author_id      author_ip  \\\n",
       "0 2020-08-05 00:01:04         내일은$   218.♡.42.208   \n",
       "1 2020-08-05 00:02:03  224-rainbow  115.♡.203.252   \n",
       "2 2020-08-05 00:02:19         화이트덕  125.♡.110.208   \n",
       "3 2020-08-05 00:04:35     해리비안의 캐적    49.♡.102.42   \n",
       "4 2020-08-05 00:04:54      Daspfel  125.♡.240.232   \n",
       "\n",
       "                                             content  reply_cnt  symph_cnt  \\\n",
       "0  얼마전 초딩 아들이 어느 인터넷으로 공부하는 사이트를 사용하더니 저에게 묻습니다아들...         11          2   \n",
       "1  카메오(Musical Ver.) 작업 트랙 공개 & 분석(1)[공식] tvN 새 예...         14         10   \n",
       "2  1.코요테가 이렇게 옛날 감성으로 돌아오니 좋네요.2.신지씨 특유의 음 끝 바이브레...          1          0   \n",
       "3  클리앙에서 이과천재들의 전자기기 후기들을 보며 1도 이해할수 없는 용어의 홍수속에서...         51         24   \n",
       "4  27인치만 나왔네요. 예상대로 디자인 변화 없이 내부만 업데이트. 10 세대 인텔 ...          8          0   \n",
       "\n",
       "   view_cnt  \n",
       "0      3208  \n",
       "1       496  \n",
       "2       936  \n",
       "3     11075  \n",
       "4      2014  "
      ]
     },
     "execution_count": 3,
     "metadata": {},
     "output_type": "execute_result"
    }
   ],
   "source": [
    "df.head()"
   ]
  },
  {
   "cell_type": "code",
   "execution_count": 4,
   "metadata": {
    "execution": {
     "iopub.execute_input": "2020-08-19T11:50:33.265213Z",
     "iopub.status.busy": "2020-08-19T11:50:33.265213Z",
     "iopub.status.idle": "2020-08-19T11:50:33.281212Z",
     "shell.execute_reply": "2020-08-19T11:50:33.280214Z",
     "shell.execute_reply.started": "2020-08-19T11:50:33.265213Z"
    }
   },
   "outputs": [],
   "source": [
    "pd.set_option('display.max_rows', 100)\n",
    "pd.set_option('display.max_colwidth',1000)"
   ]
  },
  {
   "cell_type": "markdown",
   "metadata": {},
   "source": [
    "<div class=\"alert alert-block alert-info\">\n",
    "<b> Tip:</b> pandas의 option 설정으로, Dataframe의 출력 갯수 및 컬럼 길이를 변화시켜 자연어 처리를 준비 </b>\n",
    "\n",
    "</div>"
   ]
  },
  {
   "cell_type": "code",
   "execution_count": 61,
   "metadata": {
    "execution": {
     "iopub.execute_input": "2020-08-19T12:14:53.457224Z",
     "iopub.status.busy": "2020-08-19T12:14:53.457224Z",
     "iopub.status.idle": "2020-08-19T12:14:53.466215Z",
     "shell.execute_reply": "2020-08-19T12:14:53.465229Z",
     "shell.execute_reply.started": "2020-08-19T12:14:53.457224Z"
    }
   },
   "outputs": [
    {
     "data": {
      "text/plain": [
       "board                                                                                                                                                                                                                                                                                                                                                                                                                                                                                                                             park\n",
       "articleid                                                                                                                                                                                                                                                                                                                                                                                                                                                                                                                     15250897\n",
       "title                                                                                                                                                                                                                                                                                                                                                                                                                                                                                                '사우디 왕세자, 까슈끄지 살해 직후 캐나다에 암살단 파견'\n",
       "create_time                                                                                                                                                                                                                                                                                                                                                                                                                                                                                                        2020-08-07 12:33:42\n",
       "author_id                                                                                                                                                                                                                                                                                                                                                                                                                                                                                                                  Rabbitbunny\n",
       "author_ip                                                                                                                                                                                                                                                                                                                                                                                                                                                                                                                 182.♡.79.197\n",
       "content        https://news.v.daum.net/v/20200807103027336  무함마드 빈 살만 사우디아라비아 왕세자가 전직 사우디 정보 관계자를 살해하기 위해 캐나다에 암살단을 보내려 시도했다는 주장이 제기됐다. 터키 이스탄불에서 언론인 자말 까슈끄지가 암살 당한지 불과 며칠 뒤에 캐나다에서도 같은 일을 벌이려 했다는 것이다. 특히 캐나다에 파견하려 했던 암살단과 까슈끄지를 암살했던 일당들이 동일한 것으로 알려졌다.6일(현지시간) 영국 BBC와 미 CNN 등은 미 법원에 제출된 문서들을 인용해, 빈 살만 왕세자가 지난 2018년 10월 2일 터키 이스탄불에서 망명한 사우디 언론인 까슈끄지가 살해된지 약 2주 뒤에 전 정보기관 관리 사드 알 자브리(61) 살해를 위해 캐나다로 암살단을 파견하려 한 것으로 나타났다고 보도했다.자브리는 2017년 캐나다로 망명했으며 이후 토론토에서 보호를 받으며 지내고 있다...------------------------생각이상으로 무서운 나라입니다..ㄷㄷ\n",
       "reply_cnt                                                                                                                                                                                                                                                                                                                                                                                                                                                                                                                            4\n",
       "symph_cnt                                                                                                                                                                                                                                                                                                                                                                                                                                                                                                                            1\n",
       "view_cnt                                                                                                                                                                                                                                                                                                                                                                                                                                                                                                                          3549\n",
       "Name: 5928, dtype: object"
      ]
     },
     "execution_count": 61,
     "metadata": {},
     "output_type": "execute_result"
    }
   ],
   "source": [
    "df.iloc[5928]"
   ]
  },
  {
   "cell_type": "markdown",
   "metadata": {},
   "source": [
    " <hr>"
   ]
  },
  {
   "cell_type": "markdown",
   "metadata": {},
   "source": [
    "# 한글 NLP 패키지 로딩"
   ]
  },
  {
   "cell_type": "code",
   "execution_count": 62,
   "metadata": {
    "execution": {
     "iopub.execute_input": "2020-08-19T12:15:07.364228Z",
     "iopub.status.busy": "2020-08-19T12:15:07.364228Z",
     "iopub.status.idle": "2020-08-19T12:15:07.370221Z",
     "shell.execute_reply": "2020-08-19T12:15:07.369215Z",
     "shell.execute_reply.started": "2020-08-19T12:15:07.364228Z"
    }
   },
   "outputs": [],
   "source": [
    "from konlpy.tag import Hannanum, Kkma, Komoran, Okt, Mecab\n",
    "from konlpy.utils import pprint"
   ]
  },
  {
   "cell_type": "code",
   "execution_count": 71,
   "metadata": {
    "execution": {
     "iopub.execute_input": "2020-08-19T12:22:36.337218Z",
     "iopub.status.busy": "2020-08-19T12:22:36.336215Z",
     "iopub.status.idle": "2020-08-19T12:22:36.361214Z",
     "shell.execute_reply": "2020-08-19T12:22:36.360214Z",
     "shell.execute_reply.started": "2020-08-19T12:22:36.337218Z"
    }
   },
   "outputs": [],
   "source": [
    "tagger = Okt() # Hannanum()  #Kkma()"
   ]
  },
  {
   "cell_type": "markdown",
   "metadata": {},
   "source": [
    "<div class=\"alert alert-block alert-info\">\n",
    "<b> Tip:</b> 한글 처리 엔진은 여러 종류가 지원된다. 장단점을 살펴보고 가장 적합한 엔진을 선택하면 된다. </b> <br>\n",
    "   엔진별 성능 비교  => https://blog.naver.com/PostView.nhn?blogId=wideeyed&logNo=221337575742 \n",
    "</div>"
   ]
  },
  {
   "cell_type": "markdown",
   "metadata": {},
   "source": [
    "<div class=\"alert alert-block alert-info\">\n",
    "<b> Tip:</b> 카카오에서 만든 Khaii라는 한글 처리기가 성능이 뛰어난 것으로 알려려 있음. 실전에 사용에 추천 (https://github.com/kakao/khaiii). </b>\n",
    "</div>"
   ]
  },
  {
   "cell_type": "markdown",
   "metadata": {},
   "source": [
    " <hr>"
   ]
  },
  {
   "cell_type": "markdown",
   "metadata": {},
   "source": [
    "# 통계 분석\n",
    " - title과 content에서 unpack과 관련된 내용을 찾아, 통계를 내어 보자"
   ]
  },
  {
   "cell_type": "markdown",
   "metadata": {},
   "source": [
    "##  Title/Content를 하나의 content로 처리, whitespace 제거, URL 제거"
   ]
  },
  {
   "cell_type": "code",
   "execution_count": 64,
   "metadata": {
    "execution": {
     "iopub.execute_input": "2020-08-19T12:15:17.988228Z",
     "iopub.status.busy": "2020-08-19T12:15:17.988228Z",
     "iopub.status.idle": "2020-08-19T12:15:18.219213Z",
     "shell.execute_reply": "2020-08-19T12:15:18.218212Z",
     "shell.execute_reply.started": "2020-08-19T12:15:17.988228Z"
    }
   },
   "outputs": [],
   "source": [
    "df['all_content'] = df.apply(lambda row: '.'.join([str(row['title']), str(row['content'])]), axis=1 )\n"
   ]
  },
  {
   "cell_type": "code",
   "execution_count": 65,
   "metadata": {
    "execution": {
     "iopub.execute_input": "2020-08-19T12:15:19.053213Z",
     "iopub.status.busy": "2020-08-19T12:15:19.053213Z",
     "iopub.status.idle": "2020-08-19T12:15:19.087213Z",
     "shell.execute_reply": "2020-08-19T12:15:19.086230Z",
     "shell.execute_reply.started": "2020-08-19T12:15:19.053213Z"
    }
   },
   "outputs": [],
   "source": [
    "df['all_content'] = df['all_content'].apply(lambda x : re.sub(r'https?://\\S+', '', str(x)))\n"
   ]
  },
  {
   "cell_type": "code",
   "execution_count": 66,
   "metadata": {
    "execution": {
     "iopub.execute_input": "2020-08-19T12:15:19.150217Z",
     "iopub.status.busy": "2020-08-19T12:15:19.150217Z",
     "iopub.status.idle": "2020-08-19T12:15:19.167229Z",
     "shell.execute_reply": "2020-08-19T12:15:19.166228Z",
     "shell.execute_reply.started": "2020-08-19T12:15:19.150217Z"
    }
   },
   "outputs": [],
   "source": [
    "df['all_content'] = df['all_content'].apply(lambda x: str(x).replace(u'\\xa0', u' '))\n"
   ]
  },
  {
   "cell_type": "markdown",
   "metadata": {},
   "source": [
    "## Title/Content에서 명사만을 뽑아보자"
   ]
  },
  {
   "cell_type": "raw",
   "metadata": {
    "execution": {
     "iopub.execute_input": "2020-08-19T12:17:01.402223Z",
     "iopub.status.busy": "2020-08-19T12:17:01.401212Z",
     "iopub.status.idle": "2020-08-19T12:22:34.416213Z",
     "shell.execute_reply": "2020-08-19T12:22:34.415222Z",
     "shell.execute_reply.started": "2020-08-19T12:17:01.402223Z"
    }
   },
   "source": [
    "df['nouns'] = df['all_content'].apply(lambda x : tagger.nouns(str(x)))\n",
    "df.to_csv(\"clien_park_aug_5to10_with_nouns.csv\", index=None)"
   ]
  },
  {
   "cell_type": "code",
   "execution_count": 13,
   "metadata": {
    "execution": {
     "iopub.execute_input": "2020-08-19T12:02:52.892214Z",
     "iopub.status.busy": "2020-08-19T12:02:52.892214Z",
     "iopub.status.idle": "2020-08-19T12:02:56.148228Z",
     "shell.execute_reply": "2020-08-19T12:02:56.147242Z",
     "shell.execute_reply.started": "2020-08-19T12:02:52.892214Z"
    }
   },
   "outputs": [],
   "source": [
    "import ast\n",
    "df = pd.read_csv(\"clien_park_aug_5to10_with_nouns.csv\", converters={11:ast.literal_eval})"
   ]
  },
  {
   "cell_type": "markdown",
   "metadata": {},
   "source": [
    "<div class=\"alert alert-block alert-info\">\n",
    "<b> Tip:</b> pd.read_csv를 이용해 저장된 데이터를 읽어올때, str으로 저장된 list를 복원하기 위해 Abstract Syntax Tree (ast)의 literaal_eval 활용 </b>\n",
    "</div>"
   ]
  },
  {
   "cell_type": "markdown",
   "metadata": {},
   "source": [
    "## 언팩과 관련된 단어 리스트를 만들고, 해당 단어가 나타나는 article을 찾아보자"
   ]
  },
  {
   "cell_type": "code",
   "execution_count": 74,
   "metadata": {
    "execution": {
     "iopub.execute_input": "2020-08-19T12:24:36.605213Z",
     "iopub.status.busy": "2020-08-19T12:24:36.605213Z",
     "iopub.status.idle": "2020-08-19T12:24:36.609218Z",
     "shell.execute_reply": "2020-08-19T12:24:36.608217Z",
     "shell.execute_reply.started": "2020-08-19T12:24:36.605213Z"
    }
   },
   "outputs": [],
   "source": [
    "filter_keywords = \"노트20 note20 갤럭시노트 언팩 버즈 와치\".split()"
   ]
  },
  {
   "cell_type": "code",
   "execution_count": 75,
   "metadata": {
    "execution": {
     "iopub.execute_input": "2020-08-19T12:24:37.719212Z",
     "iopub.status.busy": "2020-08-19T12:24:37.719212Z",
     "iopub.status.idle": "2020-08-19T12:24:37.726214Z",
     "shell.execute_reply": "2020-08-19T12:24:37.725215Z",
     "shell.execute_reply.started": "2020-08-19T12:24:37.719212Z"
    }
   },
   "outputs": [
    {
     "data": {
      "text/plain": [
       "['노트20', 'note20', '갤럭시노트', '언팩', '버즈', '와치']"
      ]
     },
     "execution_count": 75,
     "metadata": {},
     "output_type": "execute_result"
    }
   ],
   "source": [
    "filter_keywords"
   ]
  },
  {
   "cell_type": "code",
   "execution_count": 76,
   "metadata": {
    "execution": {
     "iopub.execute_input": "2020-08-19T12:24:37.728214Z",
     "iopub.status.busy": "2020-08-19T12:24:37.727214Z",
     "iopub.status.idle": "2020-08-19T12:24:37.938229Z",
     "shell.execute_reply": "2020-08-19T12:24:37.937228Z",
     "shell.execute_reply.started": "2020-08-19T12:24:37.728214Z"
    }
   },
   "outputs": [],
   "source": [
    "df['interest_list'] = df['nouns'].apply(lambda nouns: [ (keyword in nouns) for keyword in filter_keywords])\n",
    "df['interest'] = df['interest_list'].apply(lambda interest_list : np.sum(interest_list))"
   ]
  },
  {
   "cell_type": "code",
   "execution_count": 77,
   "metadata": {
    "execution": {
     "iopub.execute_input": "2020-08-19T12:24:37.940215Z",
     "iopub.status.busy": "2020-08-19T12:24:37.939228Z",
     "iopub.status.idle": "2020-08-19T12:24:38.012212Z",
     "shell.execute_reply": "2020-08-19T12:24:38.011212Z",
     "shell.execute_reply.started": "2020-08-19T12:24:37.940215Z"
    }
   },
   "outputs": [],
   "source": [
    "df['interest'] = df['nouns'].apply(lambda nouns: sum([ (keyword in nouns) for keyword in filter_keywords]))"
   ]
  },
  {
   "cell_type": "markdown",
   "metadata": {},
   "source": [
    "<div class=\"alert alert-block alert-info\">\n",
    "<b> Tip:</b> 가독성을 위해 두 개의 sentence로 나누어 작업했으나, 아래와 같이 하나의 sentence로 처리 가능 </b> <br><br>\n",
    "<pre>\n",
    "  df['interest'] = df['nouns'].apply(lambda nouns: sum([ (keyword in nouns) for keyword in filter_keywords]))\n",
    "</pre>\n",
    "</div>"
   ]
  },
  {
   "cell_type": "markdown",
   "metadata": {},
   "source": [
    "## 날짜별로 언팩 관련 article 비율 확인"
   ]
  },
  {
   "cell_type": "code",
   "execution_count": 78,
   "metadata": {
    "execution": {
     "iopub.execute_input": "2020-08-19T12:24:39.763216Z",
     "iopub.status.busy": "2020-08-19T12:24:39.763216Z",
     "iopub.status.idle": "2020-08-19T12:24:39.789215Z",
     "shell.execute_reply": "2020-08-19T12:24:39.788223Z",
     "shell.execute_reply.started": "2020-08-19T12:24:39.763216Z"
    }
   },
   "outputs": [],
   "source": [
    "df['create_time'] = pd.to_datetime(df['create_time'], infer_datetime_format=True)\n",
    "df['date'] = df['create_time'].dt.date"
   ]
  },
  {
   "cell_type": "code",
   "execution_count": 79,
   "metadata": {
    "execution": {
     "iopub.execute_input": "2020-08-19T12:24:39.791212Z",
     "iopub.status.busy": "2020-08-19T12:24:39.790212Z",
     "iopub.status.idle": "2020-08-19T12:24:39.815224Z",
     "shell.execute_reply": "2020-08-19T12:24:39.815224Z",
     "shell.execute_reply.started": "2020-08-19T12:24:39.791212Z"
    }
   },
   "outputs": [
    {
     "data": {
      "text/html": [
       "<div>\n",
       "<style scoped>\n",
       "    .dataframe tbody tr th:only-of-type {\n",
       "        vertical-align: middle;\n",
       "    }\n",
       "\n",
       "    .dataframe tbody tr th {\n",
       "        vertical-align: top;\n",
       "    }\n",
       "\n",
       "    .dataframe thead th {\n",
       "        text-align: right;\n",
       "    }\n",
       "</style>\n",
       "<table border=\"1\" class=\"dataframe\">\n",
       "  <thead>\n",
       "    <tr style=\"text-align: right;\">\n",
       "      <th></th>\n",
       "      <th>totalcnt</th>\n",
       "      <th>galaxycnt</th>\n",
       "    </tr>\n",
       "    <tr>\n",
       "      <th>date</th>\n",
       "      <th></th>\n",
       "      <th></th>\n",
       "    </tr>\n",
       "  </thead>\n",
       "  <tbody>\n",
       "    <tr>\n",
       "      <th>2020-08-05</th>\n",
       "      <td>2291</td>\n",
       "      <td>79</td>\n",
       "    </tr>\n",
       "    <tr>\n",
       "      <th>2020-08-06</th>\n",
       "      <td>2755</td>\n",
       "      <td>143</td>\n",
       "    </tr>\n",
       "    <tr>\n",
       "      <th>2020-08-07</th>\n",
       "      <td>2319</td>\n",
       "      <td>56</td>\n",
       "    </tr>\n",
       "    <tr>\n",
       "      <th>2020-08-08</th>\n",
       "      <td>1784</td>\n",
       "      <td>24</td>\n",
       "    </tr>\n",
       "    <tr>\n",
       "      <th>2020-08-09</th>\n",
       "      <td>1648</td>\n",
       "      <td>20</td>\n",
       "    </tr>\n",
       "    <tr>\n",
       "      <th>2020-08-10</th>\n",
       "      <td>1623</td>\n",
       "      <td>15</td>\n",
       "    </tr>\n",
       "  </tbody>\n",
       "</table>\n",
       "</div>"
      ],
      "text/plain": [
       "            totalcnt  galaxycnt\n",
       "date                           \n",
       "2020-08-05      2291         79\n",
       "2020-08-06      2755        143\n",
       "2020-08-07      2319         56\n",
       "2020-08-08      1784         24\n",
       "2020-08-09      1648         20\n",
       "2020-08-10      1623         15"
      ]
     },
     "execution_count": 79,
     "metadata": {},
     "output_type": "execute_result"
    }
   ],
   "source": [
    "statdf = df.groupby('date').agg(totalcnt=('interest','count'), galaxycnt=('interest',np.count_nonzero))\n",
    "statdf"
   ]
  },
  {
   "cell_type": "code",
   "execution_count": 80,
   "metadata": {
    "execution": {
     "iopub.execute_input": "2020-08-19T12:24:40.754213Z",
     "iopub.status.busy": "2020-08-19T12:24:40.754213Z",
     "iopub.status.idle": "2020-08-19T12:24:40.920213Z",
     "shell.execute_reply": "2020-08-19T12:24:40.919213Z",
     "shell.execute_reply.started": "2020-08-19T12:24:40.754213Z"
    }
   },
   "outputs": [
    {
     "data": {
      "text/plain": [
       "<AxesSubplot:xlabel='date'>"
      ]
     },
     "execution_count": 80,
     "metadata": {},
     "output_type": "execute_result"
    },
    {
     "data": {
      "image/png": "[encoded data removed]",
      "text/plain": [
       "<Figure size 432x288 with 1 Axes>"
      ]
     },
     "metadata": {
      "needs_background": "light"
     },
     "output_type": "display_data"
    }
   ],
   "source": [
    "statdf['ratio'] = statdf['galaxycnt'] / statdf['totalcnt'] * 100\n",
    "statdf['ratio'].plot(kind='bar')"
   ]
  },
  {
   "cell_type": "markdown",
   "metadata": {},
   "source": [
    "## 언팩 관련 오피니언 리더 확인?"
   ]
  },
  {
   "cell_type": "code",
   "execution_count": 81,
   "metadata": {
    "execution": {
     "iopub.execute_input": "2020-08-19T12:24:40.921213Z",
     "iopub.status.busy": "2020-08-19T12:24:40.921213Z",
     "iopub.status.idle": "2020-08-19T12:24:40.944213Z",
     "shell.execute_reply": "2020-08-19T12:24:40.943217Z",
     "shell.execute_reply.started": "2020-08-19T12:24:40.921213Z"
    }
   },
   "outputs": [],
   "source": [
    "cntdf = df[ df.interest > 0].groupby('author_id').agg(cnt=('title','count')).sort_values(by='cnt', ascending=False)"
   ]
  },
  {
   "cell_type": "code",
   "execution_count": 82,
   "metadata": {
    "execution": {
     "iopub.execute_input": "2020-08-19T12:24:40.946225Z",
     "iopub.status.busy": "2020-08-19T12:24:40.945214Z",
     "iopub.status.idle": "2020-08-19T12:24:40.978215Z",
     "shell.execute_reply": "2020-08-19T12:24:40.977216Z",
     "shell.execute_reply.started": "2020-08-19T12:24:40.946225Z"
    }
   },
   "outputs": [
    {
     "data": {
      "text/html": [
       "<div>\n",
       "<style scoped>\n",
       "    .dataframe tbody tr th:only-of-type {\n",
       "        vertical-align: middle;\n",
       "    }\n",
       "\n",
       "    .dataframe tbody tr th {\n",
       "        vertical-align: top;\n",
       "    }\n",
       "\n",
       "    .dataframe thead th {\n",
       "        text-align: right;\n",
       "    }\n",
       "</style>\n",
       "<table border=\"1\" class=\"dataframe\">\n",
       "  <thead>\n",
       "    <tr style=\"text-align: right;\">\n",
       "      <th></th>\n",
       "      <th>cnt</th>\n",
       "    </tr>\n",
       "    <tr>\n",
       "      <th>author_id</th>\n",
       "      <th></th>\n",
       "    </tr>\n",
       "  </thead>\n",
       "  <tbody>\n",
       "    <tr>\n",
       "      <th>fiat</th>\n",
       "      <td>9</td>\n",
       "    </tr>\n",
       "    <tr>\n",
       "      <th>도라에몽펀치</th>\n",
       "      <td>8</td>\n",
       "    </tr>\n",
       "    <tr>\n",
       "      <th>요트맨</th>\n",
       "      <td>7</td>\n",
       "    </tr>\n",
       "    <tr>\n",
       "      <th>이리야즈</th>\n",
       "      <td>7</td>\n",
       "    </tr>\n",
       "    <tr>\n",
       "      <th>그물새</th>\n",
       "      <td>6</td>\n",
       "    </tr>\n",
       "    <tr>\n",
       "      <th>또하나의가족</th>\n",
       "      <td>6</td>\n",
       "    </tr>\n",
       "    <tr>\n",
       "      <th>TIME_TRAVELER</th>\n",
       "      <td>4</td>\n",
       "    </tr>\n",
       "    <tr>\n",
       "      <th>SovereignLightCafe</th>\n",
       "      <td>4</td>\n",
       "    </tr>\n",
       "    <tr>\n",
       "      <th>쉭한도시남자</th>\n",
       "      <td>4</td>\n",
       "    </tr>\n",
       "    <tr>\n",
       "      <th>Estere</th>\n",
       "      <td>4</td>\n",
       "    </tr>\n",
       "  </tbody>\n",
       "</table>\n",
       "</div>"
      ],
      "text/plain": [
       "                    cnt\n",
       "author_id              \n",
       "fiat                  9\n",
       "도라에몽펀치                8\n",
       "요트맨                   7\n",
       "이리야즈                  7\n",
       "그물새                   6\n",
       "또하나의가족                6\n",
       "TIME_TRAVELER         4\n",
       "SovereignLightCafe    4\n",
       "쉭한도시남자                4\n",
       "Estere                4"
      ]
     },
     "execution_count": 82,
     "metadata": {},
     "output_type": "execute_result"
    }
   ],
   "source": [
    "cntdf.head(10)"
   ]
  },
  {
   "cell_type": "code",
   "execution_count": 83,
   "metadata": {
    "execution": {
     "iopub.execute_input": "2020-08-19T12:24:40.979217Z",
     "iopub.status.busy": "2020-08-19T12:24:40.979217Z",
     "iopub.status.idle": "2020-08-19T12:24:41.183219Z",
     "shell.execute_reply": "2020-08-19T12:24:41.182211Z",
     "shell.execute_reply.started": "2020-08-19T12:24:40.979217Z"
    }
   },
   "outputs": [
    {
     "data": {
      "text/plain": [
       "array([[<AxesSubplot:title={'center':'cnt'}>]], dtype=object)"
      ]
     },
     "execution_count": 83,
     "metadata": {},
     "output_type": "execute_result"
    },
    {
     "data": {
      "image/png": "[encoded data removed]",
      "text/plain": [
       "<Figure size 432x288 with 1 Axes>"
      ]
     },
     "metadata": {
      "needs_background": "light"
     },
     "output_type": "display_data"
    }
   ],
   "source": [
    "\n",
    "cntdf.hist()"
   ]
  },
  {
   "cell_type": "markdown",
   "metadata": {},
   "source": [
    "##  언팩 관련 article의 긍부정 여부를 확인해 보자!\n",
    " - 한국어 감성 사전 ( https://github.com/park1200656/KnuSentiLex )을 활용해 보자"
   ]
  },
  {
   "cell_type": "markdown",
   "metadata": {
    "execution": {
     "iopub.execute_input": "2020-08-18T11:34:25.876981Z",
     "iopub.status.busy": "2020-08-18T11:34:25.875982Z",
     "iopub.status.idle": "2020-08-18T11:34:25.884981Z",
     "shell.execute_reply": "2020-08-18T11:34:25.883982Z",
     "shell.execute_reply.started": "2020-08-18T11:34:25.876981Z"
    }
   },
   "source": [
    "<b> 감성 사전의 내용 샘플 </b>\n",
    "<pre>\n",
    "[\n",
    "{\n",
    "\t\"word\": \"(-;\",\n",
    "\t\"word_root\": \"(\",\n",
    "\t\"polarity\": \"1\"\n",
    "},\n",
    "{\n",
    "\t\"word\": \"(;_;)\",\n",
    "\t\"word_root\": \"(;_;)\",\n",
    "\t\"polarity\": \"-1\"\n",
    "},\n",
    "...\n",
    "{\n",
    "\t\"word\": \"(^^)\",\n",
    "\t\"word_root\": \"(^^)\",\n",
    "\t\"polarity\": \"1\"\n",
    "},\n",
    "]\n",
    "</pre>"
   ]
  },
  {
   "cell_type": "markdown",
   "metadata": {},
   "source": [
    "<div class=\"alert alert-block alert-info\">\n",
    "<b> Tip:</b> 한국어 감성 사전을 활용, 긍정의 단어가 많은 경우 긍정의 article로 반대의 경우 부저의 article로 판단\n",
    "</div>"
   ]
  },
  {
   "cell_type": "markdown",
   "metadata": {},
   "source": [
    "<b> 감성 사전 데이터 로딩 </b>"
   ]
  },
  {
   "cell_type": "code",
   "execution_count": 84,
   "metadata": {
    "execution": {
     "iopub.execute_input": "2020-08-19T12:24:41.185212Z",
     "iopub.status.busy": "2020-08-19T12:24:41.185212Z",
     "iopub.status.idle": "2020-08-19T12:24:41.222213Z",
     "shell.execute_reply": "2020-08-19T12:24:41.221213Z",
     "shell.execute_reply.started": "2020-08-19T12:24:41.185212Z"
    }
   },
   "outputs": [],
   "source": [
    "import json\n",
    "with open('SentiWord_info.json', encoding='utf-8', mode='r') as f:\n",
    "    data = json.load(f)"
   ]
  },
  {
   "cell_type": "markdown",
   "metadata": {},
   "source": [
    "<b> 단어 : 긍부정점수 형태의 dict 로 변환 </b>"
   ]
  },
  {
   "cell_type": "code",
   "execution_count": 85,
   "metadata": {
    "execution": {
     "iopub.execute_input": "2020-08-19T12:24:43.194212Z",
     "iopub.status.busy": "2020-08-19T12:24:43.194212Z",
     "iopub.status.idle": "2020-08-19T12:24:43.203222Z",
     "shell.execute_reply": "2020-08-19T12:24:43.202221Z",
     "shell.execute_reply.started": "2020-08-19T12:24:43.194212Z"
    }
   },
   "outputs": [],
   "source": [
    "polarity_dict = { item['word'] : item['polarity'] for item in data}"
   ]
  },
  {
   "cell_type": "markdown",
   "metadata": {},
   "source": [
    "<b> 언팩 관련된 article만을 모아 별도의 Dataframe 구성 </b>"
   ]
  },
  {
   "cell_type": "code",
   "execution_count": 86,
   "metadata": {
    "execution": {
     "iopub.execute_input": "2020-08-19T12:24:43.204214Z",
     "iopub.status.busy": "2020-08-19T12:24:43.204214Z",
     "iopub.status.idle": "2020-08-19T12:24:43.247227Z",
     "shell.execute_reply": "2020-08-19T12:24:43.246223Z",
     "shell.execute_reply.started": "2020-08-19T12:24:43.204214Z"
    }
   },
   "outputs": [],
   "source": [
    "focusdf = df[ df.interest > 0]"
   ]
  },
  {
   "cell_type": "markdown",
   "metadata": {},
   "source": [
    "<b> article내 단어들의 긍부정을 sum해서 article 전체의 긍부정 판단 </b>"
   ]
  },
  {
   "cell_type": "code",
   "execution_count": 87,
   "metadata": {
    "execution": {
     "iopub.execute_input": "2020-08-19T12:24:44.981214Z",
     "iopub.status.busy": "2020-08-19T12:24:44.981214Z",
     "iopub.status.idle": "2020-08-19T12:24:44.996212Z",
     "shell.execute_reply": "2020-08-19T12:24:44.995212Z",
     "shell.execute_reply.started": "2020-08-19T12:24:44.981214Z"
    }
   },
   "outputs": [
    {
     "name": "stderr",
     "output_type": "stream",
     "text": [
      "C:\\ProgramData\\Anaconda3\\lib\\site-packages\\ipykernel_launcher.py:1: SettingWithCopyWarning: \n",
      "A value is trying to be set on a copy of a slice from a DataFrame.\n",
      "Try using .loc[row_indexer,col_indexer] = value instead\n",
      "\n",
      "See the caveats in the documentation: https://pandas.pydata.org/pandas-docs/stable/user_guide/indexing.html#returning-a-view-versus-a-copy\n",
      "  \"\"\"Entry point for launching an IPython kernel.\n"
     ]
    }
   ],
   "source": [
    "focusdf['polarity'] = focusdf['nouns'].apply(lambda x : np.sum([ int(polarity_dict.get(noun, 0)) for noun in x]) )"
   ]
  },
  {
   "cell_type": "markdown",
   "metadata": {},
   "source": [
    "<b> 긍부정 점수의 histogram을 보자</b>"
   ]
  },
  {
   "cell_type": "code",
   "execution_count": 88,
   "metadata": {
    "execution": {
     "iopub.execute_input": "2020-08-19T12:24:47.598215Z",
     "iopub.status.busy": "2020-08-19T12:24:47.598215Z",
     "iopub.status.idle": "2020-08-19T12:24:47.779213Z",
     "shell.execute_reply": "2020-08-19T12:24:47.778211Z",
     "shell.execute_reply.started": "2020-08-19T12:24:47.598215Z"
    }
   },
   "outputs": [
    {
     "data": {
      "text/plain": [
       "<AxesSubplot:>"
      ]
     },
     "execution_count": 88,
     "metadata": {},
     "output_type": "execute_result"
    },
    {
     "data": {
      "image/png": "[encoded data removed]",
      "text/plain": [
       "<Figure size 432x288 with 1 Axes>"
      ]
     },
     "metadata": {
      "needs_background": "light"
     },
     "output_type": "display_data"
    }
   ],
   "source": [
    "focusdf['polarity'].hist()"
   ]
  },
  {
   "cell_type": "markdown",
   "metadata": {},
   "source": [
    "<b> 긍부정 점수로 긍정(positive), 부정 (negative), 중립 (neutral) 구성</b>"
   ]
  },
  {
   "cell_type": "code",
   "execution_count": 89,
   "metadata": {
    "execution": {
     "iopub.execute_input": "2020-08-19T12:24:47.780212Z",
     "iopub.status.busy": "2020-08-19T12:24:47.780212Z",
     "iopub.status.idle": "2020-08-19T12:24:47.789213Z",
     "shell.execute_reply": "2020-08-19T12:24:47.788212Z",
     "shell.execute_reply.started": "2020-08-19T12:24:47.780212Z"
    }
   },
   "outputs": [
    {
     "name": "stderr",
     "output_type": "stream",
     "text": [
      "C:\\ProgramData\\Anaconda3\\lib\\site-packages\\ipykernel_launcher.py:1: SettingWithCopyWarning: \n",
      "A value is trying to be set on a copy of a slice from a DataFrame.\n",
      "Try using .loc[row_indexer,col_indexer] = value instead\n",
      "\n",
      "See the caveats in the documentation: https://pandas.pydata.org/pandas-docs/stable/user_guide/indexing.html#returning-a-view-versus-a-copy\n",
      "  \"\"\"Entry point for launching an IPython kernel.\n",
      "C:\\ProgramData\\Anaconda3\\lib\\site-packages\\ipykernel_launcher.py:2: SettingWithCopyWarning: \n",
      "A value is trying to be set on a copy of a slice from a DataFrame.\n",
      "Try using .loc[row_indexer,col_indexer] = value instead\n",
      "\n",
      "See the caveats in the documentation: https://pandas.pydata.org/pandas-docs/stable/user_guide/indexing.html#returning-a-view-versus-a-copy\n",
      "  \n",
      "C:\\ProgramData\\Anaconda3\\lib\\site-packages\\ipykernel_launcher.py:3: SettingWithCopyWarning: \n",
      "A value is trying to be set on a copy of a slice from a DataFrame.\n",
      "Try using .loc[row_indexer,col_indexer] = value instead\n",
      "\n",
      "See the caveats in the documentation: https://pandas.pydata.org/pandas-docs/stable/user_guide/indexing.html#returning-a-view-versus-a-copy\n",
      "  This is separate from the ipykernel package so we can avoid doing imports until\n"
     ]
    }
   ],
   "source": [
    "focusdf['sentiment'] = 'neutral'\n",
    "focusdf['sentiment'] = focusdf['sentiment'].where( focusdf['polarity'] >= 0, 'negative' )\n",
    "focusdf['sentiment'] = focusdf['sentiment'].where( focusdf['polarity'] <= 0, 'positive' )"
   ]
  },
  {
   "cell_type": "markdown",
   "metadata": {},
   "source": [
    "<b> 긍부정으로 구분된 article의 갯수, 글쓴이 숫자 확인</b>"
   ]
  },
  {
   "cell_type": "code",
   "execution_count": 90,
   "metadata": {
    "execution": {
     "iopub.execute_input": "2020-08-19T12:24:49.762214Z",
     "iopub.status.busy": "2020-08-19T12:24:49.761212Z",
     "iopub.status.idle": "2020-08-19T12:24:49.782214Z",
     "shell.execute_reply": "2020-08-19T12:24:49.781213Z",
     "shell.execute_reply.started": "2020-08-19T12:24:49.762214Z"
    }
   },
   "outputs": [
    {
     "data": {
      "text/html": [
       "<div>\n",
       "<style scoped>\n",
       "    .dataframe tbody tr th:only-of-type {\n",
       "        vertical-align: middle;\n",
       "    }\n",
       "\n",
       "    .dataframe tbody tr th {\n",
       "        vertical-align: top;\n",
       "    }\n",
       "\n",
       "    .dataframe thead th {\n",
       "        text-align: right;\n",
       "    }\n",
       "</style>\n",
       "<table border=\"1\" class=\"dataframe\">\n",
       "  <thead>\n",
       "    <tr style=\"text-align: right;\">\n",
       "      <th></th>\n",
       "      <th>article_cnt</th>\n",
       "      <th>author_cnt</th>\n",
       "    </tr>\n",
       "    <tr>\n",
       "      <th>sentiment</th>\n",
       "      <th></th>\n",
       "      <th></th>\n",
       "    </tr>\n",
       "  </thead>\n",
       "  <tbody>\n",
       "    <tr>\n",
       "      <th>negative</th>\n",
       "      <td>56</td>\n",
       "      <td>51</td>\n",
       "    </tr>\n",
       "    <tr>\n",
       "      <th>neutral</th>\n",
       "      <td>224</td>\n",
       "      <td>166</td>\n",
       "    </tr>\n",
       "    <tr>\n",
       "      <th>positive</th>\n",
       "      <td>57</td>\n",
       "      <td>47</td>\n",
       "    </tr>\n",
       "  </tbody>\n",
       "</table>\n",
       "</div>"
      ],
      "text/plain": [
       "           article_cnt  author_cnt\n",
       "sentiment                         \n",
       "negative            56          51\n",
       "neutral            224         166\n",
       "positive            57          47"
      ]
     },
     "execution_count": 90,
     "metadata": {},
     "output_type": "execute_result"
    }
   ],
   "source": [
    "focusdf.groupby('sentiment').agg(article_cnt=('articleid','count'), author_cnt=('author_id','nunique'))"
   ]
  },
  {
   "cell_type": "code",
   "execution_count": 91,
   "metadata": {
    "execution": {
     "iopub.execute_input": "2020-08-19T12:24:49.784215Z",
     "iopub.status.busy": "2020-08-19T12:24:49.783213Z",
     "iopub.status.idle": "2020-08-19T12:24:50.037212Z",
     "shell.execute_reply": "2020-08-19T12:24:50.037212Z",
     "shell.execute_reply.started": "2020-08-19T12:24:49.784215Z"
    }
   },
   "outputs": [
    {
     "data": {
      "text/plain": [
       "<AxesSubplot:xlabel='date'>"
      ]
     },
     "execution_count": 91,
     "metadata": {},
     "output_type": "execute_result"
    },
    {
     "data": {
      "image/png": "[encoded data removed]",
      "text/plain": [
       "<Figure size 432x288 with 1 Axes>"
      ]
     },
     "metadata": {
      "needs_background": "light"
     },
     "output_type": "display_data"
    }
   ],
   "source": [
    "focusdf.groupby(['date','sentiment']).agg(article_cnt=('articleid','count'), author_cnt=('author_id','nunique')).unstack()['article_cnt'].plot(kind='bar')"
   ]
  },
  {
   "cell_type": "markdown",
   "metadata": {},
   "source": [
    "<div class=\"alert alert-block alert-warning\">\n",
    "<b> Note:</b> 언팩 후에 negative 성향의 글들이 사라지고, positive한 효과가 나왔다. </b>\n",
    "</div>"
   ]
  },
  {
   "cell_type": "markdown",
   "metadata": {},
   "source": [
    "# Word Cloud 생성 (긍/부정의 중심 단어를 찾아보자)"
   ]
  },
  {
   "cell_type": "markdown",
   "metadata": {},
   "source": [
    "## 긍정 성향의 article의 word cloud 생성"
   ]
  },
  {
   "cell_type": "code",
   "execution_count": 92,
   "metadata": {
    "execution": {
     "iopub.execute_input": "2020-08-19T12:24:50.882214Z",
     "iopub.status.busy": "2020-08-19T12:24:50.882214Z",
     "iopub.status.idle": "2020-08-19T12:24:50.892217Z",
     "shell.execute_reply": "2020-08-19T12:24:50.891214Z",
     "shell.execute_reply.started": "2020-08-19T12:24:50.882214Z"
    }
   },
   "outputs": [
    {
     "data": {
      "text/plain": [
       "array([list(['갤럭시', '언팩', '것', '오늘', '밤', '11시', '시작이긴', '유출', '영상', '들', '싶습니다;;언팩에서', '가격', '사양', '확인', '출시', '일정', '발표', 'ㅎㅎ']),\n",
       "       list(['갤럭시', '버즈', '라이브', '11번', '재유출(', '+', '예판', '혜택', '버즈', '라이브', '글', '이번', '끝', '거', '어제', '버즈', '라이브', '11번', '글', '어제', '글', '링크', '이', '검색', '줄', '꿈', '몇', '시간', '뒤', '버즈', '플러스', '줄', '전', '검색', '곳', '버즈', '라이브', ';;(네이버', '버즈', '플러스', '최고', '순', '정렬하시', '96만원', '담당자', '것', '링크', '모바일', '네이버', '검색', '버즈', '플러스', '검색', '최고', '96만원', '클릭하시', '가격', '경유', '1', '할인가격', '19.8', '것', '같구', '예판', '혜택', '케이스', '5', '할인쿠폰', '자세한', '거', '페이지', '참조']),\n",
       "       list(['안드로이드', '플랫폼', '100', '만족', '불가능', '10년', '안드로이드', '1년', '외도', '안드로이드', '생각인데요', '안드로이드만', '죽', '때', '경직적', '자유도', '쓰레기', '정도', '인식', '장점', '눈', '시작', '미', '아주아주', '탭틱엔진', '촉감(알람앱', '다이얼', '때', '다들', '아실거에요', 'ㅎㅎ),', '듯', '지원', '기간', '등등', '좋은걸', '안드로이드', '이것들', '그리워지는거', '예전', '줄', '것들', '눈', '시작', '안드로이드', '때', '안드로이드', '뭔가', '부족', '다음폰', '노트21', '정도', '것', '데', '그때', '갤럭시노트', '기가막히', '생각', 'ㅎㅎ'])],\n",
       "      dtype=object)"
      ]
     },
     "execution_count": 92,
     "metadata": {},
     "output_type": "execute_result"
    }
   ],
   "source": [
    "focusdf[ focusdf.sentiment == 'positive'].nouns.values[:3]"
   ]
  },
  {
   "cell_type": "code",
   "execution_count": 93,
   "metadata": {
    "execution": {
     "iopub.execute_input": "2020-08-19T12:24:50.894215Z",
     "iopub.status.busy": "2020-08-19T12:24:50.894215Z",
     "iopub.status.idle": "2020-08-19T12:24:50.919213Z",
     "shell.execute_reply": "2020-08-19T12:24:50.918213Z",
     "shell.execute_reply.started": "2020-08-19T12:24:50.894215Z"
    }
   },
   "outputs": [],
   "source": [
    "from itertools import chain\n",
    "flat_words = list(chain( *(focusdf[ focusdf.sentiment == 'positive'].nouns.values)))"
   ]
  },
  {
   "cell_type": "markdown",
   "metadata": {},
   "source": [
    "## 불용어 (stopword 제거)\n",
    " - 한국어 불용어 사전 ( https://www.ranks.nl/stopwords/korean )을 활용해서 불용어를 제거하자"
   ]
  },
  {
   "cell_type": "code",
   "execution_count": 94,
   "metadata": {
    "execution": {
     "iopub.execute_input": "2020-08-19T12:24:50.921220Z",
     "iopub.status.busy": "2020-08-19T12:24:50.920213Z",
     "iopub.status.idle": "2020-08-19T12:24:50.935214Z",
     "shell.execute_reply": "2020-08-19T12:24:50.934213Z",
     "shell.execute_reply.started": "2020-08-19T12:24:50.921220Z"
    }
   },
   "outputs": [],
   "source": [
    "stopwords = []\n",
    "with open('korean_stopwords.txt','r', encoding='utf_8') as infile:\n",
    "    for line in infile:\n",
    "        stopwords.append(line.strip())"
   ]
  },
  {
   "cell_type": "code",
   "execution_count": 95,
   "metadata": {
    "execution": {
     "iopub.execute_input": "2020-08-19T12:24:50.936214Z",
     "iopub.status.busy": "2020-08-19T12:24:50.936214Z",
     "iopub.status.idle": "2020-08-19T12:24:50.964213Z",
     "shell.execute_reply": "2020-08-19T12:24:50.963212Z",
     "shell.execute_reply.started": "2020-08-19T12:24:50.936214Z"
    }
   },
   "outputs": [
    {
     "data": {
      "text/plain": [
       "['아', '휴', '아이구', '아이쿠', '아이고', '어', '나', '우리', '저희', '따라']"
      ]
     },
     "execution_count": 95,
     "metadata": {},
     "output_type": "execute_result"
    }
   ],
   "source": [
    "stopwords[:10]"
   ]
  },
  {
   "cell_type": "code",
   "execution_count": 96,
   "metadata": {
    "execution": {
     "iopub.execute_input": "2020-08-19T12:24:50.965212Z",
     "iopub.status.busy": "2020-08-19T12:24:50.965212Z",
     "iopub.status.idle": "2020-08-19T12:24:51.003213Z",
     "shell.execute_reply": "2020-08-19T12:24:51.002213Z",
     "shell.execute_reply.started": "2020-08-19T12:24:50.965212Z"
    }
   },
   "outputs": [],
   "source": [
    "meaningful_words = [word for word in flat_words if word not in stopwords]"
   ]
  },
  {
   "cell_type": "code",
   "execution_count": 97,
   "metadata": {
    "execution": {
     "iopub.execute_input": "2020-08-19T12:24:51.005213Z",
     "iopub.status.busy": "2020-08-19T12:24:51.004214Z",
     "iopub.status.idle": "2020-08-19T12:24:51.027213Z",
     "shell.execute_reply": "2020-08-19T12:24:51.026214Z",
     "shell.execute_reply.started": "2020-08-19T12:24:51.005213Z"
    }
   },
   "outputs": [
    {
     "data": {
      "text/plain": [
       "[('버즈', 33),\n",
       " ('갤럭시', 32),\n",
       " ('노트20', 32),\n",
       " ('생각', 27),\n",
       " ('라이브', 26),\n",
       " ('사용', 22),\n",
       " ('언팩', 19),\n",
       " ('노트', 16),\n",
       " ('이', 15),\n",
       " ('삼성', 15),\n",
       " ('ㅎㅎ', 14),\n",
       " ('구매', 14),\n",
       " ('수', 12),\n",
       " ('오픈형', 12),\n",
       " ('가격', 11),\n",
       " ('데', 11),\n",
       " ('안드로이드', 10),\n",
       " ('3년', 10),\n",
       " ('T다이렉트샵', 10),\n",
       " ('노캔', 9)]"
      ]
     },
     "execution_count": 97,
     "metadata": {},
     "output_type": "execute_result"
    }
   ],
   "source": [
    "from collections import Counter\n",
    "cnt = Counter(meaningful_words)\n",
    "cnt.most_common(20)"
   ]
  },
  {
   "cell_type": "markdown",
   "metadata": {},
   "source": [
    "## 단어:발생횟수 형태의 dict 생성"
   ]
  },
  {
   "cell_type": "code",
   "execution_count": 98,
   "metadata": {
    "execution": {
     "iopub.execute_input": "2020-08-19T12:24:51.029214Z",
     "iopub.status.busy": "2020-08-19T12:24:51.028213Z",
     "iopub.status.idle": "2020-08-19T12:24:51.061213Z",
     "shell.execute_reply": "2020-08-19T12:24:51.060213Z",
     "shell.execute_reply.started": "2020-08-19T12:24:51.028213Z"
    }
   },
   "outputs": [],
   "source": [
    "tags = {word:count for (word,count) in cnt.most_common(50)}"
   ]
  },
  {
   "cell_type": "code",
   "execution_count": null,
   "metadata": {},
   "outputs": [],
   "source": []
  },
  {
   "cell_type": "code",
   "execution_count": 114,
   "metadata": {
    "execution": {
     "iopub.execute_input": "2020-08-19T12:29:23.726213Z",
     "iopub.status.busy": "2020-08-19T12:29:23.725212Z",
     "iopub.status.idle": "2020-08-19T12:29:25.238228Z",
     "shell.execute_reply": "2020-08-19T12:29:25.237223Z",
     "shell.execute_reply.started": "2020-08-19T12:29:23.726213Z"
    }
   },
   "outputs": [
    {
     "data": {
      "text/plain": [
       "<matplotlib.image.AxesImage at 0x2433ee9bcc8>"
      ]
     },
     "execution_count": 114,
     "metadata": {},
     "output_type": "execute_result"
    },
    {
     "data": {
      "image/png": "[encoded data removed]",
      "text/plain": [
       "<Figure size 432x288 with 1 Axes>"
      ]
     },
     "metadata": {
      "needs_background": "light"
     },
     "output_type": "display_data"
    }
   ],
   "source": [
    "from wordcloud import WordCloud\n",
    "\n",
    "wc = WordCloud(background_color='white',font_path='C:\\\\WINDOWS\\\\Fonts\\\\HYWULM.TTF',  width=1200, height=800, scale=2.0, max_font_size=250)\n",
    "gen =wc.generate_from_frequencies(tags)\n",
    "plt.imshow(gen, interpolation='bilinear')"
   ]
  },
  {
   "cell_type": "markdown",
   "metadata": {},
   "source": [
    "# 클러스터링"
   ]
  },
  {
   "cell_type": "markdown",
   "metadata": {},
   "source": [
    "## sentence를 vector화 하자"
   ]
  },
  {
   "cell_type": "code",
   "execution_count": 103,
   "metadata": {
    "execution": {
     "iopub.execute_input": "2020-08-19T12:24:54.497216Z",
     "iopub.status.busy": "2020-08-19T12:24:54.497216Z",
     "iopub.status.idle": "2020-08-19T12:24:54.503217Z",
     "shell.execute_reply": "2020-08-19T12:24:54.502214Z",
     "shell.execute_reply.started": "2020-08-19T12:24:54.497216Z"
    }
   },
   "outputs": [],
   "source": [
    "from gensim.test.utils import common_texts\n",
    "\n",
    "from gensim.models.doc2vec import Doc2Vec, TaggedDocument"
   ]
  },
  {
   "cell_type": "code",
   "execution_count": 104,
   "metadata": {
    "execution": {
     "iopub.execute_input": "2020-08-19T12:24:54.505214Z",
     "iopub.status.busy": "2020-08-19T12:24:54.505214Z",
     "iopub.status.idle": "2020-08-19T12:24:54.523215Z",
     "shell.execute_reply": "2020-08-19T12:24:54.522214Z",
     "shell.execute_reply.started": "2020-08-19T12:24:54.505214Z"
    }
   },
   "outputs": [],
   "source": [
    "documents = [ TaggedDocument(row[12],[row[0]]) for row in focusdf.itertuples()]"
   ]
  },
  {
   "cell_type": "code",
   "execution_count": 105,
   "metadata": {
    "execution": {
     "iopub.execute_input": "2020-08-19T12:24:54.525214Z",
     "iopub.status.busy": "2020-08-19T12:24:54.524213Z",
     "iopub.status.idle": "2020-08-19T12:24:57.278237Z",
     "shell.execute_reply": "2020-08-19T12:24:57.278237Z",
     "shell.execute_reply.started": "2020-08-19T12:24:54.525214Z"
    }
   },
   "outputs": [],
   "source": [
    "model = Doc2Vec(documents, vector_size=50)"
   ]
  },
  {
   "cell_type": "code",
   "execution_count": 106,
   "metadata": {
    "execution": {
     "iopub.execute_input": "2020-08-19T12:24:58.955212Z",
     "iopub.status.busy": "2020-08-19T12:24:58.955212Z",
     "iopub.status.idle": "2020-08-19T12:24:59.138221Z",
     "shell.execute_reply": "2020-08-19T12:24:59.137222Z",
     "shell.execute_reply.started": "2020-08-19T12:24:58.955212Z"
    }
   },
   "outputs": [
    {
     "name": "stderr",
     "output_type": "stream",
     "text": [
      "C:\\ProgramData\\Anaconda3\\lib\\site-packages\\ipykernel_launcher.py:1: SettingWithCopyWarning: \n",
      "A value is trying to be set on a copy of a slice from a DataFrame.\n",
      "Try using .loc[row_indexer,col_indexer] = value instead\n",
      "\n",
      "See the caveats in the documentation: https://pandas.pydata.org/pandas-docs/stable/user_guide/indexing.html#returning-a-view-versus-a-copy\n",
      "  \"\"\"Entry point for launching an IPython kernel.\n"
     ]
    }
   ],
   "source": [
    "focusdf['vec'] = focusdf['nouns'].apply(lambda x: model.infer_vector(x))"
   ]
  },
  {
   "cell_type": "code",
   "execution_count": null,
   "metadata": {},
   "outputs": [],
   "source": []
  },
  {
   "cell_type": "markdown",
   "metadata": {},
   "source": [
    "## Clustering"
   ]
  },
  {
   "cell_type": "code",
   "execution_count": 108,
   "metadata": {
    "execution": {
     "iopub.execute_input": "2020-08-19T12:25:08.802214Z",
     "iopub.status.busy": "2020-08-19T12:25:08.802214Z",
     "iopub.status.idle": "2020-08-19T12:25:08.881216Z",
     "shell.execute_reply": "2020-08-19T12:25:08.880215Z",
     "shell.execute_reply.started": "2020-08-19T12:25:08.802214Z"
    }
   },
   "outputs": [
    {
     "name": "stderr",
     "output_type": "stream",
     "text": [
      "C:\\ProgramData\\Anaconda3\\lib\\site-packages\\ipykernel_launcher.py:5: SettingWithCopyWarning: \n",
      "A value is trying to be set on a copy of a slice from a DataFrame.\n",
      "Try using .loc[row_indexer,col_indexer] = value instead\n",
      "\n",
      "See the caveats in the documentation: https://pandas.pydata.org/pandas-docs/stable/user_guide/indexing.html#returning-a-view-versus-a-copy\n",
      "  \"\"\"\n"
     ]
    }
   ],
   "source": [
    "# Number of cluster chosen is 3 based on Elbow Method, please check the full code for it\n",
    "from sklearn.cluster import KMeans\n",
    "\n",
    "kmeans = KMeans(n_clusters=5)\n",
    "focusdf['cluster'] = kmeans.fit_predict(focusdf['vec'].values.tolist())"
   ]
  },
  {
   "cell_type": "code",
   "execution_count": 109,
   "metadata": {
    "execution": {
     "iopub.execute_input": "2020-08-19T12:25:08.882215Z",
     "iopub.status.busy": "2020-08-19T12:25:08.882215Z",
     "iopub.status.idle": "2020-08-19T12:25:08.901214Z",
     "shell.execute_reply": "2020-08-19T12:25:08.900213Z",
     "shell.execute_reply.started": "2020-08-19T12:25:08.882215Z"
    }
   },
   "outputs": [
    {
     "data": {
      "text/html": [
       "<div>\n",
       "<style scoped>\n",
       "    .dataframe tbody tr th:only-of-type {\n",
       "        vertical-align: middle;\n",
       "    }\n",
       "\n",
       "    .dataframe tbody tr th {\n",
       "        vertical-align: top;\n",
       "    }\n",
       "\n",
       "    .dataframe thead th {\n",
       "        text-align: right;\n",
       "    }\n",
       "</style>\n",
       "<table border=\"1\" class=\"dataframe\">\n",
       "  <thead>\n",
       "    <tr style=\"text-align: right;\">\n",
       "      <th></th>\n",
       "      <th>cnt</th>\n",
       "    </tr>\n",
       "    <tr>\n",
       "      <th>cluster</th>\n",
       "      <th></th>\n",
       "    </tr>\n",
       "  </thead>\n",
       "  <tbody>\n",
       "    <tr>\n",
       "      <th>0</th>\n",
       "      <td>162</td>\n",
       "    </tr>\n",
       "    <tr>\n",
       "      <th>1</th>\n",
       "      <td>47</td>\n",
       "    </tr>\n",
       "    <tr>\n",
       "      <th>2</th>\n",
       "      <td>19</td>\n",
       "    </tr>\n",
       "    <tr>\n",
       "      <th>3</th>\n",
       "      <td>4</td>\n",
       "    </tr>\n",
       "    <tr>\n",
       "      <th>4</th>\n",
       "      <td>105</td>\n",
       "    </tr>\n",
       "  </tbody>\n",
       "</table>\n",
       "</div>"
      ],
      "text/plain": [
       "         cnt\n",
       "cluster     \n",
       "0        162\n",
       "1         47\n",
       "2         19\n",
       "3          4\n",
       "4        105"
      ]
     },
     "execution_count": 109,
     "metadata": {},
     "output_type": "execute_result"
    }
   ],
   "source": [
    "focusdf.groupby('cluster').agg(cnt=('nouns','count'))"
   ]
  },
  {
   "cell_type": "code",
   "execution_count": 113,
   "metadata": {
    "execution": {
     "iopub.execute_input": "2020-08-19T12:25:49.991213Z",
     "iopub.status.busy": "2020-08-19T12:25:49.990212Z",
     "iopub.status.idle": "2020-08-19T12:25:50.010213Z",
     "shell.execute_reply": "2020-08-19T12:25:50.009213Z",
     "shell.execute_reply.started": "2020-08-19T12:25:49.991213Z"
    }
   },
   "outputs": [
    {
     "data": {
      "text/html": [
       "<div>\n",
       "<style scoped>\n",
       "    .dataframe tbody tr th:only-of-type {\n",
       "        vertical-align: middle;\n",
       "    }\n",
       "\n",
       "    .dataframe tbody tr th {\n",
       "        vertical-align: top;\n",
       "    }\n",
       "\n",
       "    .dataframe thead th {\n",
       "        text-align: right;\n",
       "    }\n",
       "</style>\n",
       "<table border=\"1\" class=\"dataframe\">\n",
       "  <thead>\n",
       "    <tr style=\"text-align: right;\">\n",
       "      <th></th>\n",
       "      <th>title</th>\n",
       "      <th>content</th>\n",
       "    </tr>\n",
       "  </thead>\n",
       "  <tbody>\n",
       "    <tr>\n",
       "      <th>31</th>\n",
       "      <td>노트20 제정신인가요?.jpg</td>\n",
       "      <td>120만원 가격 책정해놓고 노트9에 썼던 디스플레이 주사율 60너프 뒷면 플라스틱 기본앱에 광고까지 집어넣고 os업뎃은 2번이면 끝나고 플래그쉽 급나누기는 중국보다 심하네요 화웨이도 저러지는 않을테데;;; s10 놋10이 잘만든거였어요 ㅋㅋㅋㅋ 정점을 찍고 급추락</td>\n",
       "    </tr>\n",
       "    <tr>\n",
       "      <th>399</th>\n",
       "      <td>갤 노트20 ‘리뷰’ 영상, 언팩 25시간 전 유튜브에…관리의 삼성 ‘구멍’.gisa</td>\n",
       "      <td>http://www.m-i.kr/news/articleView.html?idxno=735276이로써 알려진 사실모서리가 둥글게 처리, 펀치홀 더 큼, 뒷면 플라스틱 재질, 구형 AMOLED 사용, 120hz 미지원 등등노트20은 노트20 울트라와 완전히 급이 다른걸로 확인.... 노트20 라이트라고 불러야 할것 같네요.</td>\n",
       "    </tr>\n",
       "    <tr>\n",
       "      <th>488</th>\n",
       "      <td>갤럭시 언팩 직전이라 그런가 사진 다 떠버리네요 -0-</td>\n",
       "      <td>그래도 폴드2 사진은 없ㅋ엉ㅋ..젤 보고 싶은놈이 없근영..</td>\n",
       "    </tr>\n",
       "    <tr>\n",
       "      <th>576</th>\n",
       "      <td>노트20 시리즈 실기사진 모음.jpg</td>\n",
       "      <td>evan blass 트위터를 통해 공개되었네요.https://twitter.com/evleaks/status/1290814720933601282?s=20</td>\n",
       "    </tr>\n",
       "    <tr>\n",
       "      <th>1460</th>\n",
       "      <td>S7을 사용중이라.. 바꿀때가 되었는데..</td>\n",
       "      <td>노트20 나오면 사야지! 했는데...유출되는거 보니사고싶다라는 생각이..싹..... ㄷㄷㄷㄷ갤20+를 샀어야 했는데...어차피 자급제 구매해야하는데.지금 사자니 웃돈 주고 사는 느낌이고... 이렇게된거.. 내년상반기 s21..</td>\n",
       "    </tr>\n",
       "    <tr>\n",
       "      <th>...</th>\n",
       "      <td>...</td>\n",
       "      <td>...</td>\n",
       "    </tr>\n",
       "    <tr>\n",
       "      <th>10708</th>\n",
       "      <td>버즈 라이브 통품이 버즈 플러스보다 좀 더 낫나보네요</td>\n",
       "      <td>유튜브에서 비교한거 쭉 보니까 버즈라이브쪽이 좀 더 괜찮은듯.. 버즈 플러스도 나쁜 편은 아니었는데</td>\n",
       "    </tr>\n",
       "    <tr>\n",
       "      <th>10868</th>\n",
       "      <td>침착맨, 조이, 주연(유튜버) - 노트20 홍보영상.youtube</td>\n",
       "      <td>조이 성공했네요...무례이맨도 만나고...그나저나 매 장면마다 킹받는 표정 정말 ㅂㄷㅂㄷ</td>\n",
       "    </tr>\n",
       "    <tr>\n",
       "      <th>10954</th>\n",
       "      <td>노트20 울트라 예약구매 했습니다.</td>\n",
       "      <td>총 상품 가격1,452,000원 할인금액0원 카드즉시할인- 188,760원 배송비0원 총 결제금액 1,263,240원이렇게 뜨는군요.. 딱 한달만 쓰고 폴드2 출시후 그거 사고 노트20은 여친(마누라[진]) 주기로했습니다...;;기다려지는군요 헉헉</td>\n",
       "    </tr>\n",
       "    <tr>\n",
       "      <th>11116</th>\n",
       "      <td>[드림] 티다 노트20 15만원 할인쿠폰</td>\n",
       "      <td>필요하신 분만 댓글 주세요.선착순한 분 쪽지로 쿠폰번호 드릴께요.</td>\n",
       "    </tr>\n",
       "    <tr>\n",
       "      <th>11886</th>\n",
       "      <td>삼성 폴드2 톰브라운 에디션?</td>\n",
       "      <td>버즈 라이브 가지고 싶네요</td>\n",
       "    </tr>\n",
       "  </tbody>\n",
       "</table>\n",
       "<p>162 rows × 2 columns</p>\n",
       "</div>"
      ],
      "text/plain": [
       "                                                 title  \\\n",
       "31                                    노트20 제정신인가요?.jpg   \n",
       "399    갤 노트20 ‘리뷰’ 영상, 언팩 25시간 전 유튜브에…관리의 삼성 ‘구멍’.gisa   \n",
       "488                     갤럭시 언팩 직전이라 그런가 사진 다 떠버리네요 -0-   \n",
       "576                               노트20 시리즈 실기사진 모음.jpg   \n",
       "1460                           S7을 사용중이라.. 바꿀때가 되었는데..   \n",
       "...                                                ...   \n",
       "10708                    버즈 라이브 통품이 버즈 플러스보다 좀 더 낫나보네요   \n",
       "10868             침착맨, 조이, 주연(유튜버) - 노트20 홍보영상.youtube   \n",
       "10954                              노트20 울트라 예약구매 했습니다.   \n",
       "11116                           [드림] 티다 노트20 15만원 할인쿠폰   \n",
       "11886                                 삼성 폴드2 톰브라운 에디션?   \n",
       "\n",
       "                                                                                                                                                                                   content  \n",
       "31                                     120만원 가격 책정해놓고 노트9에 썼던 디스플레이 주사율 60너프 뒷면 플라스틱 기본앱에 광고까지 집어넣고 os업뎃은 2번이면 끝나고 플래그쉽 급나누기는 중국보다 심하네요 화웨이도 저러지는 않을테데;;; s10 놋10이 잘만든거였어요 ㅋㅋㅋㅋ 정점을 찍고 급추락  \n",
       "399    http://www.m-i.kr/news/articleView.html?idxno=735276이로써 알려진 사실모서리가 둥글게 처리, 펀치홀 더 큼, 뒷면 플라스틱 재질, 구형 AMOLED 사용, 120hz 미지원 등등노트20은 노트20 울트라와 완전히 급이 다른걸로 확인.... 노트20 라이트라고 불러야 할것 같네요.  \n",
       "488                                                                                                                                                      그래도 폴드2 사진은 없ㅋ엉ㅋ..젤 보고 싶은놈이 없근영..  \n",
       "576                                                                                                  evan blass 트위터를 통해 공개되었네요.https://twitter.com/evleaks/status/1290814720933601282?s=20  \n",
       "1460                                                        노트20 나오면 사야지! 했는데...유출되는거 보니사고싶다라는 생각이..싹..... ㄷㄷㄷㄷ갤20+를 샀어야 했는데...어차피 자급제 구매해야하는데.지금 사자니 웃돈 주고 사는 느낌이고... 이렇게된거.. 내년상반기 s21..  \n",
       "...                                                                                                                                                                                    ...  \n",
       "10708                                                                                                                              유튜브에서 비교한거 쭉 보니까 버즈라이브쪽이 좀 더 괜찮은듯.. 버즈 플러스도 나쁜 편은 아니었는데  \n",
       "10868                                                                                                                                    조이 성공했네요...무례이맨도 만나고...그나저나 매 장면마다 킹받는 표정 정말 ㅂㄷㅂㄷ  \n",
       "10954                                           총 상품 가격1,452,000원 할인금액0원 카드즉시할인- 188,760원 배송비0원 총 결제금액 1,263,240원이렇게 뜨는군요.. 딱 한달만 쓰고 폴드2 출시후 그거 사고 노트20은 여친(마누라[진]) 주기로했습니다...;;기다려지는군요 헉헉  \n",
       "11116                                                                                                                                                 필요하신 분만 댓글 주세요.선착순한 분 쪽지로 쿠폰번호 드릴께요.  \n",
       "11886                                                                                                                                                                       버즈 라이브 가지고 싶네요  \n",
       "\n",
       "[162 rows x 2 columns]"
      ]
     },
     "execution_count": 113,
     "metadata": {},
     "output_type": "execute_result"
    }
   ],
   "source": [
    "focusdf[focusdf.cluster == 0][['title','content']]"
   ]
  },
  {
   "cell_type": "markdown",
   "metadata": {},
   "source": [
    "##  Visualization - PCA"
   ]
  },
  {
   "cell_type": "code",
   "execution_count": 115,
   "metadata": {
    "execution": {
     "iopub.execute_input": "2020-08-19T12:32:32.661214Z",
     "iopub.status.busy": "2020-08-19T12:32:32.661214Z",
     "iopub.status.idle": "2020-08-19T12:32:32.743218Z",
     "shell.execute_reply": "2020-08-19T12:32:32.742218Z",
     "shell.execute_reply.started": "2020-08-19T12:32:32.661214Z"
    }
   },
   "outputs": [
    {
     "name": "stderr",
     "output_type": "stream",
     "text": [
      "C:\\ProgramData\\Anaconda3\\lib\\site-packages\\ipykernel_launcher.py:4: SettingWithCopyWarning: \n",
      "A value is trying to be set on a copy of a slice from a DataFrame.\n",
      "Try using .loc[row_indexer,col_indexer] = value instead\n",
      "\n",
      "See the caveats in the documentation: https://pandas.pydata.org/pandas-docs/stable/user_guide/indexing.html#returning-a-view-versus-a-copy\n",
      "  after removing the cwd from sys.path.\n",
      "C:\\ProgramData\\Anaconda3\\lib\\site-packages\\ipykernel_launcher.py:5: SettingWithCopyWarning: \n",
      "A value is trying to be set on a copy of a slice from a DataFrame.\n",
      "Try using .loc[row_indexer,col_indexer] = value instead\n",
      "\n",
      "See the caveats in the documentation: https://pandas.pydata.org/pandas-docs/stable/user_guide/indexing.html#returning-a-view-versus-a-copy\n",
      "  \"\"\"\n",
      "C:\\ProgramData\\Anaconda3\\lib\\site-packages\\ipykernel_launcher.py:6: SettingWithCopyWarning: \n",
      "A value is trying to be set on a copy of a slice from a DataFrame.\n",
      "Try using .loc[row_indexer,col_indexer] = value instead\n",
      "\n",
      "See the caveats in the documentation: https://pandas.pydata.org/pandas-docs/stable/user_guide/indexing.html#returning-a-view-versus-a-copy\n",
      "  \n"
     ]
    }
   ],
   "source": [
    "from sklearn.decomposition import PCA\n",
    "\n",
    "pca = PCA(n_components=3)\n",
    "focusdf['x'] = pca.fit_transform(focusdf['vec'].values.tolist())[:,0]\n",
    "focusdf['y'] = pca.fit_transform(focusdf['vec'].values.tolist())[:,1]\n",
    "focusdf['z'] = pca.fit_transform(focusdf['vec'].values.tolist())[:,2]"
   ]
  },
  {
   "cell_type": "markdown",
   "metadata": {},
   "source": [
    "## Visualization - 2d"
   ]
  },
  {
   "cell_type": "code",
   "execution_count": 117,
   "metadata": {
    "execution": {
     "iopub.execute_input": "2020-08-19T12:33:09.418216Z",
     "iopub.status.busy": "2020-08-19T12:33:09.417217Z",
     "iopub.status.idle": "2020-08-19T12:33:09.561225Z",
     "shell.execute_reply": "2020-08-19T12:33:09.561225Z",
     "shell.execute_reply.started": "2020-08-19T12:33:09.417217Z"
    }
   },
   "outputs": [
    {
     "data": {
      "text/plain": [
       "<matplotlib.collections.PathCollection at 0x24342336b48>"
      ]
     },
     "execution_count": 117,
     "metadata": {},
     "output_type": "execute_result"
    },
    {
     "data": {
      "image/png": "[encoded data removed]",
      "text/plain": [
       "<Figure size 432x288 with 1 Axes>"
      ]
     },
     "metadata": {
      "needs_background": "light"
     },
     "output_type": "display_data"
    }
   ],
   "source": [
    "import matplotlib.pyplot as plt\n",
    "\n",
    "plt.scatter(focusdf['x'], focusdf['y'], c=focusdf['cluster'], cmap='rainbow')"
   ]
  },
  {
   "cell_type": "markdown",
   "metadata": {},
   "source": [
    "## Visualization - 3d"
   ]
  },
  {
   "cell_type": "code",
   "execution_count": 120,
   "metadata": {
    "execution": {
     "iopub.execute_input": "2020-08-19T12:35:16.426215Z",
     "iopub.status.busy": "2020-08-19T12:35:16.426215Z",
     "iopub.status.idle": "2020-08-19T12:35:16.641218Z",
     "shell.execute_reply": "2020-08-19T12:35:16.640216Z",
     "shell.execute_reply.started": "2020-08-19T12:35:16.426215Z"
    }
   },
   "outputs": [
    {
     "data": {
      "text/plain": [
       "Text(0.5, 0.92, 'Clien Article Clustering (using K Means)')"
      ]
     },
     "execution_count": 120,
     "metadata": {},
     "output_type": "execute_result"
    },
    {
     "data": {
      "image/png": "[encoded data removed]",
      "text/plain": [
       "<Figure size 720x720 with 1 Axes>"
      ]
     },
     "metadata": {
      "needs_background": "light"
     },
     "output_type": "display_data"
    }
   ],
   "source": [
    "from mpl_toolkits.mplot3d import Axes3D\n",
    "\n",
    "fig = plt.figure(1, figsize=(10,10))\n",
    "ax = Axes3D(fig, rect=[0, 0, 0.95, 1], elev=48, azim=134)\n",
    "ax.scatter(focusdf['x'],focusdf['y'],focusdf['z'], c=focusdf['cluster'], cmap='rainbow')\n",
    "ax.set_xlabel(\"x\")\n",
    "ax.set_ylabel(\"y\")\n",
    "ax.set_zlabel(\"z\")\n",
    "ax.set_facecolor('white')\n",
    "plt.title(\"Clien Article Clustering (using K Means)\", fontsize=14)"
   ]
  },
  {
   "cell_type": "markdown",
   "metadata": {},
   "source": [
    "## Cluster Common words"
   ]
  },
  {
   "cell_type": "code",
   "execution_count": 124,
   "metadata": {
    "execution": {
     "iopub.execute_input": "2020-08-19T12:42:19.013224Z",
     "iopub.status.busy": "2020-08-19T12:42:19.013224Z",
     "iopub.status.idle": "2020-08-19T12:42:19.025224Z",
     "shell.execute_reply": "2020-08-19T12:42:19.025224Z",
     "shell.execute_reply.started": "2020-08-19T12:42:19.013224Z"
    }
   },
   "outputs": [],
   "source": [
    "cluster_flatwords = {}\n",
    "for cluster_num in focusdf['cluster'].unique():\n",
    "    cluster_flatwords[cluster_num] = list(chain( *(focusdf[ focusdf.cluster == cluster_num].nouns.values)))"
   ]
  },
  {
   "cell_type": "code",
   "execution_count": 127,
   "metadata": {
    "execution": {
     "iopub.execute_input": "2020-08-19T12:44:35.283222Z",
     "iopub.status.busy": "2020-08-19T12:44:35.282217Z",
     "iopub.status.idle": "2020-08-19T12:44:35.368216Z",
     "shell.execute_reply": "2020-08-19T12:44:35.367211Z",
     "shell.execute_reply.started": "2020-08-19T12:44:35.283222Z"
    }
   },
   "outputs": [],
   "source": [
    "for cluster_num in cluster_flatwords.keys():\n",
    "    cluster_flatwords[cluster_num] = [word for word in cluster_flatwords[cluster_num] if word not in stopwords]"
   ]
  },
  {
   "cell_type": "code",
   "execution_count": 128,
   "metadata": {
    "execution": {
     "iopub.execute_input": "2020-08-19T12:45:50.316214Z",
     "iopub.status.busy": "2020-08-19T12:45:50.315214Z",
     "iopub.status.idle": "2020-08-19T12:45:50.324215Z",
     "shell.execute_reply": "2020-08-19T12:45:50.322215Z",
     "shell.execute_reply.started": "2020-08-19T12:45:50.316214Z"
    }
   },
   "outputs": [],
   "source": [
    "cluster_counters = {}\n",
    "for cluster_num in cluster_flatwords.keys():\n",
    "    cluster_counters[cluster_num] = Counter(cluster_flatwords[cluster_num])"
   ]
  },
  {
   "cell_type": "code",
   "execution_count": 130,
   "metadata": {
    "execution": {
     "iopub.execute_input": "2020-08-19T12:46:36.085230Z",
     "iopub.status.busy": "2020-08-19T12:46:36.085230Z",
     "iopub.status.idle": "2020-08-19T12:46:36.096216Z",
     "shell.execute_reply": "2020-08-19T12:46:36.095224Z",
     "shell.execute_reply.started": "2020-08-19T12:46:36.085230Z"
    }
   },
   "outputs": [
    {
     "name": "stdout",
     "output_type": "stream",
     "text": [
      "0\n",
      "[('노트20', 79), ('언팩', 59), ('버즈', 58), ('라이브', 43), ('갤럭시', 26), ('삼성', 24), ('울트라', 16), ('폴드2', 16), ('케이스', 14), ('카툭튀', 13)]\n",
      "4\n",
      "[('노트20', 64), ('버즈', 34), ('언팩', 31), ('라이브', 29), ('삼성', 24), ('울트라', 21), ('갤럭시', 17), ('노트', 15), ('케이스', 15), ('구매', 15)]\n",
      "1\n",
      "[('버즈', 35), ('노트20', 30), ('라이브', 26), ('생각', 19), ('삼성', 19), ('갤럭시', 18), ('소리', 15), ('노트', 14), ('수', 13), ('이', 13)]\n",
      "2\n",
      "[('카메라', 20), ('라이브', 19), ('버즈', 18), ('갤럭시', 17), ('삼성', 16), ('노트20', 16), ('거', 14), ('수', 14), ('프로', 13), ('생각', 13)]\n",
      "3\n",
      "[('사용', 14), ('생각', 12), ('T다이렉트샵', 8), ('쿠폰', 8), ('노트20', 7), ('갤럭시', 6), ('3년', 6), ('삼성', 6), ('지원', 5), ('이', 5)]\n"
     ]
    }
   ],
   "source": [
    "for cluster_num in cluster_counters.keys():\n",
    "    print(cluster_num)\n",
    "    print(cluster_counters[cluster_num].most_common(10))"
   ]
  }
 ],
 "metadata": {
  "kernelspec": {
   "display_name": "Python 3",
   "language": "python",
   "name": "python3"
  },
  "language_info": {
   "codemirror_mode": {
    "name": "ipython",
    "version": 3
   },
   "file_extension": ".py",
   "mimetype": "text/x-python",
   "name": "python",
   "nbconvert_exporter": "python",
   "pygments_lexer": "ipython3",
   "version": "3.7.6"
  },
  "toc-autonumbering": true
 },
 "nbformat": 4,
 "nbformat_minor": 4
}
