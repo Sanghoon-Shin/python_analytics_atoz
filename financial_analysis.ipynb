{
 "cells": [
  {
   "cell_type": "markdown",
   "metadata": {},
   "source": [
    "<font size=6> <b> 6 주차 강의 Notebook </b> </font>\n",
    "<div class=\"alert alert-block alert-success\">\n",
    "  주식 정보를 읽어서 분석하고, 투자 알고리즘의 성능 분석하는 법을 확인해 보자! <br>\n",
    "    \n",
    "   <b> Note </b> : 새로운 주제를 다루면서 Pandas의 활용법도 함께 확인!! <br>\n",
    "</div>\n",
    "</div>\n",
    "\n",
    "<p style=\"text-align:right;\"> sumyeon@gmail.com </p>\n"
   ]
  },
  {
   "cell_type": "markdown",
   "metadata": {},
   "source": [
    "<hr>"
   ]
  },
  {
   "cell_type": "markdown",
   "metadata": {},
   "source": [
    "- 필요한 패키지 인스톨"
   ]
  },
  {
   "cell_type": "markdown",
   "metadata": {},
   "source": [
    "> pip install pandas_datareader"
   ]
  },
  {
   "cell_type": "markdown",
   "metadata": {},
   "source": [
    "<hr>"
   ]
  },
  {
   "cell_type": "code",
   "execution_count": 3,
   "metadata": {
    "execution": {
     "iopub.execute_input": "2020-08-25T10:33:42.918256Z",
     "iopub.status.busy": "2020-08-25T10:33:42.918256Z",
     "iopub.status.idle": "2020-08-25T10:33:43.645257Z",
     "shell.execute_reply": "2020-08-25T10:33:43.645257Z",
     "shell.execute_reply.started": "2020-08-25T10:33:42.918256Z"
    }
   },
   "outputs": [
    {
     "name": "stdout",
     "output_type": "stream",
     "text": [
      "Active code page: 65001\n",
      "활성 코드 페이지: 949\n"
     ]
    }
   ],
   "source": [
    "import pandas as pd\n",
    "import numpy as np\n",
    "import matplotlib.pyplot as plt\n",
    "\n",
    "import datetime\n",
    "import pandas_datareader.data as pdrdata\n",
    "\n",
    "%matplotlib inline\n",
    "!chcp 949"
   ]
  },
  {
   "cell_type": "markdown",
   "metadata": {},
   "source": [
    "# 증권 투자 기본 정보 준비"
   ]
  },
  {
   "cell_type": "markdown",
   "metadata": {},
   "source": [
    "## 한국 증권 거래소에서 상장회사 정보를 다운받아 준비\n",
    " - http://marketdata.krx.co.kr/mdi#document=040601"
   ]
  },
  {
   "cell_type": "code",
   "execution_count": 8,
   "metadata": {
    "execution": {
     "iopub.execute_input": "2020-08-25T10:34:04.965254Z",
     "iopub.status.busy": "2020-08-25T10:34:04.965254Z",
     "iopub.status.idle": "2020-08-25T10:34:05.039253Z",
     "shell.execute_reply": "2020-08-25T10:34:05.039253Z",
     "shell.execute_reply.started": "2020-08-25T10:34:04.965254Z"
    }
   },
   "outputs": [],
   "source": [
    "metadf = pd.read_csv(\"krxstockdata.csv\", dtype={\"종목코드\":str})"
   ]
  },
  {
   "cell_type": "code",
   "execution_count": 9,
   "metadata": {
    "execution": {
     "iopub.execute_input": "2020-08-25T10:34:05.113243Z",
     "iopub.status.busy": "2020-08-25T10:34:05.113243Z",
     "iopub.status.idle": "2020-08-25T10:34:05.136253Z",
     "shell.execute_reply": "2020-08-25T10:34:05.136253Z",
     "shell.execute_reply.started": "2020-08-25T10:34:05.113243Z"
    }
   },
   "outputs": [
    {
     "data": {
      "text/html": [
       "<div>\n",
       "<style scoped>\n",
       "    .dataframe tbody tr th:only-of-type {\n",
       "        vertical-align: middle;\n",
       "    }\n",
       "\n",
       "    .dataframe tbody tr th {\n",
       "        vertical-align: top;\n",
       "    }\n",
       "\n",
       "    .dataframe thead th {\n",
       "        text-align: right;\n",
       "    }\n",
       "</style>\n",
       "<table border=\"1\" class=\"dataframe\">\n",
       "  <thead>\n",
       "    <tr style=\"text-align: right;\">\n",
       "      <th></th>\n",
       "      <th>번호</th>\n",
       "      <th>종목코드</th>\n",
       "      <th>기업명</th>\n",
       "      <th>업종코드</th>\n",
       "      <th>업종</th>\n",
       "      <th>상장주식수(주)</th>\n",
       "      <th>자본금(원)</th>\n",
       "      <th>액면가(원)</th>\n",
       "      <th>통화구분</th>\n",
       "      <th>대표전화</th>\n",
       "      <th>주소</th>\n",
       "      <th>총카운트</th>\n",
       "    </tr>\n",
       "  </thead>\n",
       "  <tbody>\n",
       "    <tr>\n",
       "      <th>0</th>\n",
       "      <td>1</td>\n",
       "      <td>060310</td>\n",
       "      <td>3S</td>\n",
       "      <td>32902</td>\n",
       "      <td>특수 목적용 기계 제조업</td>\n",
       "      <td>44,802,511</td>\n",
       "      <td>22,401,255,500</td>\n",
       "      <td>500</td>\n",
       "      <td>원(KRW)</td>\n",
       "      <td>02-896-9474</td>\n",
       "      <td>서울특별시 금천구  시흥대로71길 30-1</td>\n",
       "      <td>2367</td>\n",
       "    </tr>\n",
       "    <tr>\n",
       "      <th>1</th>\n",
       "      <td>2</td>\n",
       "      <td>095570</td>\n",
       "      <td>AJ네트웍스</td>\n",
       "      <td>147603</td>\n",
       "      <td>산업용 기계 및 장비 임대업</td>\n",
       "      <td>46,822,295</td>\n",
       "      <td>46,822,295,000</td>\n",
       "      <td>1,000</td>\n",
       "      <td>원(KRW)</td>\n",
       "      <td>02-6363-9999</td>\n",
       "      <td>서울특별시 송파구 정의로8길 9 (문정동,AJ빌딩)</td>\n",
       "      <td>2367</td>\n",
       "    </tr>\n",
       "    <tr>\n",
       "      <th>2</th>\n",
       "      <td>3</td>\n",
       "      <td>006840</td>\n",
       "      <td>AK홀딩스</td>\n",
       "      <td>116409</td>\n",
       "      <td>기타 금융업</td>\n",
       "      <td>13,247,561</td>\n",
       "      <td>66,237,805,000</td>\n",
       "      <td>5,000</td>\n",
       "      <td>원(KRW)</td>\n",
       "      <td>02-768-2923</td>\n",
       "      <td>서울특별시 마포구 양화로 188 -</td>\n",
       "      <td>2367</td>\n",
       "    </tr>\n",
       "    <tr>\n",
       "      <th>3</th>\n",
       "      <td>4</td>\n",
       "      <td>054620</td>\n",
       "      <td>APS홀딩스</td>\n",
       "      <td>116409</td>\n",
       "      <td>기타 금융업</td>\n",
       "      <td>20,394,221</td>\n",
       "      <td>10,197,110,500</td>\n",
       "      <td>500</td>\n",
       "      <td>원(KRW)</td>\n",
       "      <td>031-776-1800</td>\n",
       "      <td>경기도 화성시 동탄면 동탄산단9길 23-12 (동탄면)</td>\n",
       "      <td>2367</td>\n",
       "    </tr>\n",
       "    <tr>\n",
       "      <th>4</th>\n",
       "      <td>5</td>\n",
       "      <td>265520</td>\n",
       "      <td>AP시스템</td>\n",
       "      <td>32902</td>\n",
       "      <td>특수 목적용 기계 제조업</td>\n",
       "      <td>14,480,227</td>\n",
       "      <td>7,240,113,500</td>\n",
       "      <td>500</td>\n",
       "      <td>원(KRW)</td>\n",
       "      <td>031-379-2700</td>\n",
       "      <td>경기도 화성시  동탄면 동탄산단8길 15-5 &amp;nbsp</td>\n",
       "      <td>2367</td>\n",
       "    </tr>\n",
       "  </tbody>\n",
       "</table>\n",
       "</div>"
      ],
      "text/plain": [
       "   번호    종목코드     기업명    업종코드               업종    상장주식수(주)          자본금(원)  \\\n",
       "0   1  060310      3S   32902    특수 목적용 기계 제조업  44,802,511  22,401,255,500   \n",
       "1   2  095570  AJ네트웍스  147603  산업용 기계 및 장비 임대업  46,822,295  46,822,295,000   \n",
       "2   3  006840   AK홀딩스  116409           기타 금융업  13,247,561  66,237,805,000   \n",
       "3   4  054620  APS홀딩스  116409           기타 금융업  20,394,221  10,197,110,500   \n",
       "4   5  265520   AP시스템   32902    특수 목적용 기계 제조업  14,480,227   7,240,113,500   \n",
       "\n",
       "  액면가(원)    통화구분          대표전화                              주소  총카운트  \n",
       "0    500  원(KRW)   02-896-9474        서울특별시 금천구  시흥대로71길 30-1   2367  \n",
       "1  1,000  원(KRW)  02-6363-9999    서울특별시 송파구 정의로8길 9 (문정동,AJ빌딩)  2367  \n",
       "2  5,000  원(KRW)   02-768-2923            서울특별시 마포구 양화로 188 -   2367  \n",
       "3    500  원(KRW)  031-776-1800  경기도 화성시 동탄면 동탄산단9길 23-12 (동탄면)  2367  \n",
       "4    500  원(KRW)  031-379-2700  경기도 화성시  동탄면 동탄산단8길 15-5 &nbsp  2367  "
      ]
     },
     "execution_count": 9,
     "metadata": {},
     "output_type": "execute_result"
    }
   ],
   "source": [
    "metadf.head()"
   ]
  },
  {
   "cell_type": "markdown",
   "metadata": {},
   "source": [
    "<div class=\"alert alert-block alert-info\">\n",
    "<b> Tip:</b> https://wendys.tistory.com/173 에서와 같이 파일 다운로드를 건너뛰고 바로 데이터를 읽어들이는 방법도 가능 </b> <br> <br>\n",
    "<pre>\n",
    "metadf = pd.read_html('http://kind.krx.co.kr/corpgeneral/corpList.do?method=download&searchType=13', header=0)[0]\n",
    "</pre>\n",
    "</div>"
   ]
  },
  {
   "cell_type": "markdown",
   "metadata": {},
   "source": [
    "## ETF 형태의 증권 정보를 추가로 확보 (optional)"
   ]
  },
  {
   "cell_type": "code",
   "execution_count": 10,
   "metadata": {
    "execution": {
     "iopub.execute_input": "2020-08-25T10:34:06.398244Z",
     "iopub.status.busy": "2020-08-25T10:34:06.398244Z",
     "iopub.status.idle": "2020-08-25T10:34:06.424244Z",
     "shell.execute_reply": "2020-08-25T10:34:06.423243Z",
     "shell.execute_reply.started": "2020-08-25T10:34:06.398244Z"
    }
   },
   "outputs": [],
   "source": [
    "meta2df = pd.read_csv(\"etfitemdata.csv\", sep=\"\\t\")"
   ]
  },
  {
   "cell_type": "code",
   "execution_count": 11,
   "metadata": {
    "execution": {
     "iopub.execute_input": "2020-08-25T10:34:06.425244Z",
     "iopub.status.busy": "2020-08-25T10:34:06.425244Z",
     "iopub.status.idle": "2020-08-25T10:34:06.445246Z",
     "shell.execute_reply": "2020-08-25T10:34:06.444251Z",
     "shell.execute_reply.started": "2020-08-25T10:34:06.425244Z"
    }
   },
   "outputs": [
    {
     "data": {
      "text/html": [
       "<div>\n",
       "<style scoped>\n",
       "    .dataframe tbody tr th:only-of-type {\n",
       "        vertical-align: middle;\n",
       "    }\n",
       "\n",
       "    .dataframe tbody tr th {\n",
       "        vertical-align: top;\n",
       "    }\n",
       "\n",
       "    .dataframe thead th {\n",
       "        text-align: right;\n",
       "    }\n",
       "</style>\n",
       "<table border=\"1\" class=\"dataframe\">\n",
       "  <thead>\n",
       "    <tr style=\"text-align: right;\">\n",
       "      <th></th>\n",
       "      <th>대분류</th>\n",
       "      <th>중분료</th>\n",
       "      <th>업종명</th>\n",
       "      <th>종목명</th>\n",
       "      <th>종목코드</th>\n",
       "    </tr>\n",
       "  </thead>\n",
       "  <tbody>\n",
       "    <tr>\n",
       "      <th>0</th>\n",
       "      <td>주식(ETF)</td>\n",
       "      <td>유가</td>\n",
       "      <td>KOSPI</td>\n",
       "      <td>KODEX 200</td>\n",
       "      <td>'069500</td>\n",
       "    </tr>\n",
       "    <tr>\n",
       "      <th>1</th>\n",
       "      <td>주식(ETF)</td>\n",
       "      <td>유가</td>\n",
       "      <td>KOSPI</td>\n",
       "      <td>TIGER 200</td>\n",
       "      <td>'102110</td>\n",
       "    </tr>\n",
       "  </tbody>\n",
       "</table>\n",
       "</div>"
      ],
      "text/plain": [
       "       대분류 중분료    업종명        종목명     종목코드\n",
       "0  주식(ETF)  유가  KOSPI  KODEX 200  '069500\n",
       "1  주식(ETF)  유가  KOSPI  TIGER 200  '102110"
      ]
     },
     "execution_count": 11,
     "metadata": {},
     "output_type": "execute_result"
    }
   ],
   "source": [
    "meta2df.head(2)"
   ]
  },
  {
   "cell_type": "code",
   "execution_count": 12,
   "metadata": {
    "execution": {
     "iopub.execute_input": "2020-08-25T10:34:06.446244Z",
     "iopub.status.busy": "2020-08-25T10:34:06.446244Z",
     "iopub.status.idle": "2020-08-25T10:34:06.461242Z",
     "shell.execute_reply": "2020-08-25T10:34:06.461242Z",
     "shell.execute_reply.started": "2020-08-25T10:34:06.446244Z"
    }
   },
   "outputs": [],
   "source": [
    "meta2df['종목코드'] = meta2df['종목코드'].map(lambda x : x[1:])"
   ]
  },
  {
   "cell_type": "code",
   "execution_count": 13,
   "metadata": {
    "execution": {
     "iopub.execute_input": "2020-08-25T10:34:06.462242Z",
     "iopub.status.busy": "2020-08-25T10:34:06.462242Z",
     "iopub.status.idle": "2020-08-25T10:34:06.488245Z",
     "shell.execute_reply": "2020-08-25T10:34:06.487244Z",
     "shell.execute_reply.started": "2020-08-25T10:34:06.462242Z"
    }
   },
   "outputs": [
    {
     "data": {
      "text/html": [
       "<div>\n",
       "<style scoped>\n",
       "    .dataframe tbody tr th:only-of-type {\n",
       "        vertical-align: middle;\n",
       "    }\n",
       "\n",
       "    .dataframe tbody tr th {\n",
       "        vertical-align: top;\n",
       "    }\n",
       "\n",
       "    .dataframe thead th {\n",
       "        text-align: right;\n",
       "    }\n",
       "</style>\n",
       "<table border=\"1\" class=\"dataframe\">\n",
       "  <thead>\n",
       "    <tr style=\"text-align: right;\">\n",
       "      <th></th>\n",
       "      <th>대분류</th>\n",
       "      <th>중분료</th>\n",
       "      <th>업종명</th>\n",
       "      <th>종목명</th>\n",
       "      <th>종목코드</th>\n",
       "    </tr>\n",
       "  </thead>\n",
       "  <tbody>\n",
       "    <tr>\n",
       "      <th>0</th>\n",
       "      <td>주식(ETF)</td>\n",
       "      <td>유가</td>\n",
       "      <td>KOSPI</td>\n",
       "      <td>KODEX 200</td>\n",
       "      <td>069500</td>\n",
       "    </tr>\n",
       "    <tr>\n",
       "      <th>1</th>\n",
       "      <td>주식(ETF)</td>\n",
       "      <td>유가</td>\n",
       "      <td>KOSPI</td>\n",
       "      <td>TIGER 200</td>\n",
       "      <td>102110</td>\n",
       "    </tr>\n",
       "  </tbody>\n",
       "</table>\n",
       "</div>"
      ],
      "text/plain": [
       "       대분류 중분료    업종명        종목명    종목코드\n",
       "0  주식(ETF)  유가  KOSPI  KODEX 200  069500\n",
       "1  주식(ETF)  유가  KOSPI  TIGER 200  102110"
      ]
     },
     "execution_count": 13,
     "metadata": {},
     "output_type": "execute_result"
    }
   ],
   "source": [
    "meta2df.head(2)"
   ]
  },
  {
   "cell_type": "code",
   "execution_count": 14,
   "metadata": {
    "execution": {
     "iopub.execute_input": "2020-08-25T10:34:06.490244Z",
     "iopub.status.busy": "2020-08-25T10:34:06.490244Z",
     "iopub.status.idle": "2020-08-25T10:34:06.531245Z",
     "shell.execute_reply": "2020-08-25T10:34:06.531245Z",
     "shell.execute_reply.started": "2020-08-25T10:34:06.490244Z"
    }
   },
   "outputs": [
    {
     "data": {
      "text/plain": [
       "set()"
      ]
     },
     "execution_count": 14,
     "metadata": {},
     "output_type": "execute_result"
    }
   ],
   "source": [
    "set(metadf['종목코드'].values) & set(meta2df['종목코드'].values)"
   ]
  },
  {
   "cell_type": "markdown",
   "metadata": {},
   "source": [
    "## 회사명 <--> 종목코드간 변환 위한 dictionary 준비"
   ]
  },
  {
   "cell_type": "code",
   "execution_count": 15,
   "metadata": {
    "execution": {
     "iopub.execute_input": "2020-08-25T10:34:06.533245Z",
     "iopub.status.busy": "2020-08-25T10:34:06.533245Z",
     "iopub.status.idle": "2020-08-25T10:34:06.548241Z",
     "shell.execute_reply": "2020-08-25T10:34:06.548241Z",
     "shell.execute_reply.started": "2020-08-25T10:34:06.533245Z"
    }
   },
   "outputs": [],
   "source": [
    "name2code_dict = dict(zip( metadf['기업명'].values, metadf['종목코드'].values))\n",
    "code2name_dict = dict(zip( metadf['종목코드'].values, metadf['기업명'].values))"
   ]
  },
  {
   "cell_type": "code",
   "execution_count": 16,
   "metadata": {
    "execution": {
     "iopub.execute_input": "2020-08-25T10:34:09.468247Z",
     "iopub.status.busy": "2020-08-25T10:34:09.468247Z",
     "iopub.status.idle": "2020-08-25T10:34:09.473243Z",
     "shell.execute_reply": "2020-08-25T10:34:09.472245Z",
     "shell.execute_reply.started": "2020-08-25T10:34:09.468247Z"
    }
   },
   "outputs": [],
   "source": [
    "name2code_dict.update(dict(zip( meta2df['종목명'].values, meta2df['종목코드'].values)) )\n",
    "code2name_dict.update(dict(zip( meta2df['종목코드'].values, meta2df['종목명'].values)))"
   ]
  },
  {
   "cell_type": "code",
   "execution_count": 17,
   "metadata": {
    "execution": {
     "iopub.execute_input": "2020-08-25T10:34:09.475245Z",
     "iopub.status.busy": "2020-08-25T10:34:09.474245Z",
     "iopub.status.idle": "2020-08-25T10:34:09.489244Z",
     "shell.execute_reply": "2020-08-25T10:34:09.489244Z",
     "shell.execute_reply.started": "2020-08-25T10:34:09.475245Z"
    }
   },
   "outputs": [
    {
     "data": {
      "text/plain": [
       "('069500', '005930', '삼성전자')"
      ]
     },
     "execution_count": 17,
     "metadata": {},
     "output_type": "execute_result"
    }
   ],
   "source": [
    "name2code_dict['KODEX 200'], name2code_dict['삼성전자'], code2name_dict['005930']"
   ]
  },
  {
   "cell_type": "markdown",
   "metadata": {},
   "source": [
    "# pandas_datareader 설명\n",
    "> https://pandas-datareader.readthedocs.io/en/latest/remote_data.html"
   ]
  },
  {
   "cell_type": "markdown",
   "metadata": {},
   "source": [
    "원격의 데이터를 pandas로 쉽게 읽어 들이기 위한 패키지. \n",
    "다양한 데이터를 목표로 하였으나, 전체 16개 정도의 데이터 소스 중에서 OECD 통계 (https://stats.oecd.org/), Eurostat (https://ec.europa.eu/eurostat/) , Enigma (https://enigma.com/) 정도를 제외한 나머지는 주식 정보와 같은 financial 데이터임"
   ]
  },
  {
   "cell_type": "markdown",
   "metadata": {
    "execution": {
     "iopub.execute_input": "2020-08-19T13:51:51.630871Z",
     "iopub.status.busy": "2020-08-19T13:51:51.629871Z",
     "iopub.status.idle": "2020-08-19T13:51:51.638875Z",
     "shell.execute_reply": "2020-08-19T13:51:51.637877Z",
     "shell.execute_reply.started": "2020-08-19T13:51:51.629871Z"
    }
   },
   "source": [
    "Naver 증권 데이터가 pandas_datareader에서 지원됨. Yahoo Finace도 한국 증권정보를 지원하나, 안정성을 위해\n",
    "Naver를 사용키로 함"
   ]
  },
  {
   "cell_type": "markdown",
   "metadata": {},
   "source": [
    "# Utility Function을 만들어 보자"
   ]
  },
  {
   "cell_type": "markdown",
   "metadata": {},
   "source": [
    "## pandas_datareader 사용법"
   ]
  },
  {
   "cell_type": "code",
   "execution_count": 18,
   "metadata": {
    "execution": {
     "iopub.execute_input": "2020-08-25T10:34:10.449243Z",
     "iopub.status.busy": "2020-08-25T10:34:10.449243Z",
     "iopub.status.idle": "2020-08-25T10:34:10.535244Z",
     "shell.execute_reply": "2020-08-25T10:34:10.535244Z",
     "shell.execute_reply.started": "2020-08-25T10:34:10.449243Z"
    }
   },
   "outputs": [
    {
     "data": {
      "text/html": [
       "<div>\n",
       "<style scoped>\n",
       "    .dataframe tbody tr th:only-of-type {\n",
       "        vertical-align: middle;\n",
       "    }\n",
       "\n",
       "    .dataframe tbody tr th {\n",
       "        vertical-align: top;\n",
       "    }\n",
       "\n",
       "    .dataframe thead th {\n",
       "        text-align: right;\n",
       "    }\n",
       "</style>\n",
       "<table border=\"1\" class=\"dataframe\">\n",
       "  <thead>\n",
       "    <tr style=\"text-align: right;\">\n",
       "      <th></th>\n",
       "      <th>Open</th>\n",
       "      <th>High</th>\n",
       "      <th>Low</th>\n",
       "      <th>Close</th>\n",
       "      <th>Volume</th>\n",
       "    </tr>\n",
       "    <tr>\n",
       "      <th>Date</th>\n",
       "      <th></th>\n",
       "      <th></th>\n",
       "      <th></th>\n",
       "      <th></th>\n",
       "      <th></th>\n",
       "    </tr>\n",
       "  </thead>\n",
       "  <tbody>\n",
       "    <tr>\n",
       "      <th>2020-08-03</th>\n",
       "      <td>8560</td>\n",
       "      <td>8650</td>\n",
       "      <td>8280</td>\n",
       "      <td>8530</td>\n",
       "      <td>250642</td>\n",
       "    </tr>\n",
       "    <tr>\n",
       "      <th>2020-08-04</th>\n",
       "      <td>8550</td>\n",
       "      <td>9050</td>\n",
       "      <td>8310</td>\n",
       "      <td>9000</td>\n",
       "      <td>543993</td>\n",
       "    </tr>\n",
       "    <tr>\n",
       "      <th>2020-08-05</th>\n",
       "      <td>9040</td>\n",
       "      <td>9110</td>\n",
       "      <td>8820</td>\n",
       "      <td>9000</td>\n",
       "      <td>250344</td>\n",
       "    </tr>\n",
       "    <tr>\n",
       "      <th>2020-08-06</th>\n",
       "      <td>8960</td>\n",
       "      <td>9000</td>\n",
       "      <td>8650</td>\n",
       "      <td>8800</td>\n",
       "      <td>253172</td>\n",
       "    </tr>\n",
       "    <tr>\n",
       "      <th>2020-08-07</th>\n",
       "      <td>8800</td>\n",
       "      <td>8880</td>\n",
       "      <td>8640</td>\n",
       "      <td>8690</td>\n",
       "      <td>217212</td>\n",
       "    </tr>\n",
       "    <tr>\n",
       "      <th>2020-08-10</th>\n",
       "      <td>8790</td>\n",
       "      <td>9100</td>\n",
       "      <td>8650</td>\n",
       "      <td>8830</td>\n",
       "      <td>406855</td>\n",
       "    </tr>\n",
       "    <tr>\n",
       "      <th>2020-08-11</th>\n",
       "      <td>8880</td>\n",
       "      <td>9130</td>\n",
       "      <td>8850</td>\n",
       "      <td>9130</td>\n",
       "      <td>577527</td>\n",
       "    </tr>\n",
       "    <tr>\n",
       "      <th>2020-08-12</th>\n",
       "      <td>9230</td>\n",
       "      <td>9550</td>\n",
       "      <td>8920</td>\n",
       "      <td>9530</td>\n",
       "      <td>872553</td>\n",
       "    </tr>\n",
       "    <tr>\n",
       "      <th>2020-08-13</th>\n",
       "      <td>9530</td>\n",
       "      <td>10950</td>\n",
       "      <td>9530</td>\n",
       "      <td>10000</td>\n",
       "      <td>1499683</td>\n",
       "    </tr>\n",
       "    <tr>\n",
       "      <th>2020-08-14</th>\n",
       "      <td>10050</td>\n",
       "      <td>10100</td>\n",
       "      <td>9500</td>\n",
       "      <td>9670</td>\n",
       "      <td>533817</td>\n",
       "    </tr>\n",
       "  </tbody>\n",
       "</table>\n",
       "</div>"
      ],
      "text/plain": [
       "             Open   High   Low  Close   Volume\n",
       "Date                                          \n",
       "2020-08-03   8560   8650  8280   8530   250642\n",
       "2020-08-04   8550   9050  8310   9000   543993\n",
       "2020-08-05   9040   9110  8820   9000   250344\n",
       "2020-08-06   8960   9000  8650   8800   253172\n",
       "2020-08-07   8800   8880  8640   8690   217212\n",
       "2020-08-10   8790   9100  8650   8830   406855\n",
       "2020-08-11   8880   9130  8850   9130   577527\n",
       "2020-08-12   9230   9550  8920   9530   872553\n",
       "2020-08-13   9530  10950  9530  10000  1499683\n",
       "2020-08-14  10050  10100  9500   9670   533817"
      ]
     },
     "execution_count": 18,
     "metadata": {},
     "output_type": "execute_result"
    }
   ],
   "source": [
    "pdrdata.DataReader('054620', 'naver', '2020-08-01','2020-08-15')"
   ]
  },
  {
   "cell_type": "markdown",
   "metadata": {},
   "source": [
    "## 회사별 주식 정보를 리턴"
   ]
  },
  {
   "cell_type": "code",
   "execution_count": 24,
   "metadata": {
    "execution": {
     "iopub.execute_input": "2020-08-25T10:37:10.906243Z",
     "iopub.status.busy": "2020-08-25T10:37:10.906243Z",
     "iopub.status.idle": "2020-08-25T10:37:10.914251Z",
     "shell.execute_reply": "2020-08-25T10:37:10.913253Z",
     "shell.execute_reply.started": "2020-08-25T10:37:10.906243Z"
    }
   },
   "outputs": [],
   "source": [
    "def getStockHistory(companylist, start='2018-01-01', end=datetime.datetime.now().strftime('%Y-%m-%d')):\n",
    "    \n",
    "    if isinstance(companylist[0], str) and not companylist[0].isnumeric():\n",
    "        companylist = [name2code_dict[name] for name in companylist]\n",
    "    \n",
    "    dflist = [pdrdata.DataReader(code, 'naver', start, end) for code in companylist]\n",
    "    dflist2 = [df.apply(pd.to_numeric) for df in dflist]\n",
    "    for idx, code in enumerate(companylist):\n",
    "        dflist2[idx]['name'] = code2name_dict[code]\n",
    "        dflist2[idx] = dflist2[idx].set_index('name', append=True).unstack()\n",
    "    return pd.concat(dflist2, axis=1)"
   ]
  },
  {
   "cell_type": "code",
   "execution_count": 25,
   "metadata": {
    "execution": {
     "iopub.execute_input": "2020-08-25T10:37:12.173243Z",
     "iopub.status.busy": "2020-08-25T10:37:12.173243Z",
     "iopub.status.idle": "2020-08-25T10:37:12.285257Z",
     "shell.execute_reply": "2020-08-25T10:37:12.285257Z",
     "shell.execute_reply.started": "2020-08-25T10:37:12.173243Z"
    }
   },
   "outputs": [
    {
     "data": {
      "text/html": [
       "<div>\n",
       "<style scoped>\n",
       "    .dataframe tbody tr th:only-of-type {\n",
       "        vertical-align: middle;\n",
       "    }\n",
       "\n",
       "    .dataframe tbody tr th {\n",
       "        vertical-align: top;\n",
       "    }\n",
       "\n",
       "    .dataframe thead tr th {\n",
       "        text-align: left;\n",
       "    }\n",
       "\n",
       "    .dataframe thead tr:last-of-type th {\n",
       "        text-align: right;\n",
       "    }\n",
       "</style>\n",
       "<table border=\"1\" class=\"dataframe\">\n",
       "  <thead>\n",
       "    <tr>\n",
       "      <th></th>\n",
       "      <th>Open</th>\n",
       "      <th>High</th>\n",
       "      <th>Low</th>\n",
       "      <th>Close</th>\n",
       "      <th>Volume</th>\n",
       "    </tr>\n",
       "    <tr>\n",
       "      <th>name</th>\n",
       "      <th>삼성전자</th>\n",
       "      <th>삼성전자</th>\n",
       "      <th>삼성전자</th>\n",
       "      <th>삼성전자</th>\n",
       "      <th>삼성전자</th>\n",
       "    </tr>\n",
       "    <tr>\n",
       "      <th>Date</th>\n",
       "      <th></th>\n",
       "      <th></th>\n",
       "      <th></th>\n",
       "      <th></th>\n",
       "      <th></th>\n",
       "    </tr>\n",
       "  </thead>\n",
       "  <tbody>\n",
       "    <tr>\n",
       "      <th>2010-08-02</th>\n",
       "      <td>16340</td>\n",
       "      <td>16360</td>\n",
       "      <td>16200</td>\n",
       "      <td>16200</td>\n",
       "      <td>249388</td>\n",
       "    </tr>\n",
       "    <tr>\n",
       "      <th>2010-08-03</th>\n",
       "      <td>16400</td>\n",
       "      <td>16440</td>\n",
       "      <td>16300</td>\n",
       "      <td>16300</td>\n",
       "      <td>262302</td>\n",
       "    </tr>\n",
       "    <tr>\n",
       "      <th>2010-08-04</th>\n",
       "      <td>16340</td>\n",
       "      <td>16360</td>\n",
       "      <td>16120</td>\n",
       "      <td>16120</td>\n",
       "      <td>213434</td>\n",
       "    </tr>\n",
       "    <tr>\n",
       "      <th>2010-08-05</th>\n",
       "      <td>16220</td>\n",
       "      <td>16360</td>\n",
       "      <td>16060</td>\n",
       "      <td>16080</td>\n",
       "      <td>280897</td>\n",
       "    </tr>\n",
       "    <tr>\n",
       "      <th>2010-08-06</th>\n",
       "      <td>16200</td>\n",
       "      <td>16200</td>\n",
       "      <td>15979</td>\n",
       "      <td>16020</td>\n",
       "      <td>247165</td>\n",
       "    </tr>\n",
       "  </tbody>\n",
       "</table>\n",
       "</div>"
      ],
      "text/plain": [
       "             Open   High    Low  Close  Volume\n",
       "name         삼성전자   삼성전자   삼성전자   삼성전자    삼성전자\n",
       "Date                                          \n",
       "2010-08-02  16340  16360  16200  16200  249388\n",
       "2010-08-03  16400  16440  16300  16300  262302\n",
       "2010-08-04  16340  16360  16120  16120  213434\n",
       "2010-08-05  16220  16360  16060  16080  280897\n",
       "2010-08-06  16200  16200  15979  16020  247165"
      ]
     },
     "execution_count": 25,
     "metadata": {},
     "output_type": "execute_result"
    }
   ],
   "source": [
    "getStockHistory([\"삼성전자\"], start='2010-08-01').head(5)"
   ]
  },
  {
   "cell_type": "markdown",
   "metadata": {},
   "source": [
    "<div class=\"alert alert-block alert-info\">\n",
    "<b> Tip:</b> Open(시가), High (최고가), Low (최저가), Close (종가), Volumne(거래량) </b> <br>\n",
    "</div>"
   ]
  },
  {
   "cell_type": "markdown",
   "metadata": {},
   "source": [
    "## 업종별 회사 리스트 "
   ]
  },
  {
   "cell_type": "code",
   "execution_count": 26,
   "metadata": {
    "execution": {
     "iopub.execute_input": "2020-08-25T10:37:14.808245Z",
     "iopub.status.busy": "2020-08-25T10:37:14.807243Z",
     "iopub.status.idle": "2020-08-25T10:37:14.812243Z",
     "shell.execute_reply": "2020-08-25T10:37:14.811248Z",
     "shell.execute_reply.started": "2020-08-25T10:37:14.808245Z"
    }
   },
   "outputs": [],
   "source": [
    "def get_cclist_by_subject(subject):\n",
    "    cclist = metadf[metadf['업종'] == subject]['종목코드'].values\n",
    "    if len(cclist) == 0:\n",
    "        raise ValueError(\"없는 업종\")\n",
    "        \n",
    "    return cclist"
   ]
  },
  {
   "cell_type": "code",
   "execution_count": 27,
   "metadata": {
    "execution": {
     "iopub.execute_input": "2020-08-25T10:37:15.527243Z",
     "iopub.status.busy": "2020-08-25T10:37:15.527243Z",
     "iopub.status.idle": "2020-08-25T10:37:15.532247Z",
     "shell.execute_reply": "2020-08-25T10:37:15.532247Z",
     "shell.execute_reply.started": "2020-08-25T10:37:15.527243Z"
    }
   },
   "outputs": [
    {
     "data": {
      "text/plain": [
       "array(['138610', '142280', '343090', '233250', '059210', '206640',\n",
       "       '064550', '100700', '253840', '096530', '246720', '260660',\n",
       "       '174900', '950130', '153710', '278380', '246960', '086890',\n",
       "       '216080', '229000', '228760', '046210', '303360', '241820',\n",
       "       '042520', '205470'], dtype=object)"
      ]
     },
     "execution_count": 27,
     "metadata": {},
     "output_type": "execute_result"
    }
   ],
   "source": [
    "get_cclist_by_subject('의료용품 및 기타 의약 관련제품 제조업')"
   ]
  },
  {
   "cell_type": "code",
   "execution_count": 29,
   "metadata": {
    "execution": {
     "iopub.execute_input": "2020-08-25T10:37:32.715243Z",
     "iopub.status.busy": "2020-08-25T10:37:32.714256Z",
     "iopub.status.idle": "2020-08-25T10:37:33.991241Z",
     "shell.execute_reply": "2020-08-25T10:37:33.991241Z",
     "shell.execute_reply.started": "2020-08-25T10:37:32.714256Z"
    }
   },
   "outputs": [
    {
     "data": {
      "text/html": [
       "<div>\n",
       "<style scoped>\n",
       "    .dataframe tbody tr th:only-of-type {\n",
       "        vertical-align: middle;\n",
       "    }\n",
       "\n",
       "    .dataframe tbody tr th {\n",
       "        vertical-align: top;\n",
       "    }\n",
       "\n",
       "    .dataframe thead tr th {\n",
       "        text-align: left;\n",
       "    }\n",
       "\n",
       "    .dataframe thead tr:last-of-type th {\n",
       "        text-align: right;\n",
       "    }\n",
       "</style>\n",
       "<table border=\"1\" class=\"dataframe\">\n",
       "  <thead>\n",
       "    <tr>\n",
       "      <th></th>\n",
       "      <th>Open</th>\n",
       "      <th>High</th>\n",
       "      <th>Low</th>\n",
       "      <th>Close</th>\n",
       "      <th>Volume</th>\n",
       "      <th>Open</th>\n",
       "      <th>High</th>\n",
       "      <th>Low</th>\n",
       "      <th>Close</th>\n",
       "      <th>Volume</th>\n",
       "      <th>...</th>\n",
       "      <th>Open</th>\n",
       "      <th>High</th>\n",
       "      <th>Low</th>\n",
       "      <th>Close</th>\n",
       "      <th>Volume</th>\n",
       "      <th>Open</th>\n",
       "      <th>High</th>\n",
       "      <th>Low</th>\n",
       "      <th>Close</th>\n",
       "      <th>Volume</th>\n",
       "    </tr>\n",
       "    <tr>\n",
       "      <th>name</th>\n",
       "      <th>나이벡</th>\n",
       "      <th>나이벡</th>\n",
       "      <th>나이벡</th>\n",
       "      <th>나이벡</th>\n",
       "      <th>나이벡</th>\n",
       "      <th>녹십자엠에스</th>\n",
       "      <th>녹십자엠에스</th>\n",
       "      <th>녹십자엠에스</th>\n",
       "      <th>녹십자엠에스</th>\n",
       "      <th>녹십자엠에스</th>\n",
       "      <th>...</th>\n",
       "      <th>한스바이오메드</th>\n",
       "      <th>한스바이오메드</th>\n",
       "      <th>한스바이오메드</th>\n",
       "      <th>한스바이오메드</th>\n",
       "      <th>한스바이오메드</th>\n",
       "      <th>휴마시스</th>\n",
       "      <th>휴마시스</th>\n",
       "      <th>휴마시스</th>\n",
       "      <th>휴마시스</th>\n",
       "      <th>휴마시스</th>\n",
       "    </tr>\n",
       "    <tr>\n",
       "      <th>Date</th>\n",
       "      <th></th>\n",
       "      <th></th>\n",
       "      <th></th>\n",
       "      <th></th>\n",
       "      <th></th>\n",
       "      <th></th>\n",
       "      <th></th>\n",
       "      <th></th>\n",
       "      <th></th>\n",
       "      <th></th>\n",
       "      <th></th>\n",
       "      <th></th>\n",
       "      <th></th>\n",
       "      <th></th>\n",
       "      <th></th>\n",
       "      <th></th>\n",
       "      <th></th>\n",
       "      <th></th>\n",
       "      <th></th>\n",
       "      <th></th>\n",
       "      <th></th>\n",
       "    </tr>\n",
       "  </thead>\n",
       "  <tbody>\n",
       "    <tr>\n",
       "      <th>2020-08-21</th>\n",
       "      <td>21700</td>\n",
       "      <td>22800</td>\n",
       "      <td>20200</td>\n",
       "      <td>20750</td>\n",
       "      <td>493272</td>\n",
       "      <td>11250</td>\n",
       "      <td>11300</td>\n",
       "      <td>10550</td>\n",
       "      <td>10600</td>\n",
       "      <td>565411</td>\n",
       "      <td>...</td>\n",
       "      <td>18400</td>\n",
       "      <td>19800</td>\n",
       "      <td>17500</td>\n",
       "      <td>19750</td>\n",
       "      <td>146136</td>\n",
       "      <td>15100</td>\n",
       "      <td>15100</td>\n",
       "      <td>14050</td>\n",
       "      <td>14050</td>\n",
       "      <td>4284923</td>\n",
       "    </tr>\n",
       "    <tr>\n",
       "      <th>2020-08-24</th>\n",
       "      <td>20600</td>\n",
       "      <td>20600</td>\n",
       "      <td>18600</td>\n",
       "      <td>20200</td>\n",
       "      <td>254572</td>\n",
       "      <td>11400</td>\n",
       "      <td>11400</td>\n",
       "      <td>10750</td>\n",
       "      <td>11100</td>\n",
       "      <td>939253</td>\n",
       "      <td>...</td>\n",
       "      <td>19600</td>\n",
       "      <td>19600</td>\n",
       "      <td>18900</td>\n",
       "      <td>19300</td>\n",
       "      <td>62982</td>\n",
       "      <td>13800</td>\n",
       "      <td>14500</td>\n",
       "      <td>13700</td>\n",
       "      <td>14000</td>\n",
       "      <td>2018302</td>\n",
       "    </tr>\n",
       "  </tbody>\n",
       "</table>\n",
       "<p>2 rows × 130 columns</p>\n",
       "</div>"
      ],
      "text/plain": [
       "             Open   High    Low  Close  Volume   Open   High    Low  Close  \\\n",
       "name          나이벡    나이벡    나이벡    나이벡     나이벡 녹십자엠에스 녹십자엠에스 녹십자엠에스 녹십자엠에스   \n",
       "Date                                                                         \n",
       "2020-08-21  21700  22800  20200  20750  493272  11250  11300  10550  10600   \n",
       "2020-08-24  20600  20600  18600  20200  254572  11400  11400  10750  11100   \n",
       "\n",
       "            Volume  ...    Open    High     Low   Close  Volume   Open   High  \\\n",
       "name        녹십자엠에스  ... 한스바이오메드 한스바이오메드 한스바이오메드 한스바이오메드 한스바이오메드   휴마시스   휴마시스   \n",
       "Date                ...                                                         \n",
       "2020-08-21  565411  ...   18400   19800   17500   19750  146136  15100  15100   \n",
       "2020-08-24  939253  ...   19600   19600   18900   19300   62982  13800  14500   \n",
       "\n",
       "              Low  Close   Volume  \n",
       "name         휴마시스   휴마시스     휴마시스  \n",
       "Date                               \n",
       "2020-08-21  14050  14050  4284923  \n",
       "2020-08-24  13700  14000  2018302  \n",
       "\n",
       "[2 rows x 130 columns]"
      ]
     },
     "execution_count": 29,
     "metadata": {},
     "output_type": "execute_result"
    }
   ],
   "source": [
    "getStockHistory(get_cclist_by_subject('의료용품 및 기타 의약 관련제품 제조업'),'2020-08-20','2020-08-24')"
   ]
  },
  {
   "cell_type": "markdown",
   "metadata": {},
   "source": [
    "# 주식 챠트를 그려보자"
   ]
  },
  {
   "cell_type": "markdown",
   "metadata": {},
   "source": [
    "## 한글 폰트 등록"
   ]
  },
  {
   "cell_type": "code",
   "execution_count": 61,
   "metadata": {
    "execution": {
     "iopub.execute_input": "2020-08-24T02:55:54.973542Z",
     "iopub.status.busy": "2020-08-24T02:55:54.973542Z",
     "iopub.status.idle": "2020-08-24T02:55:54.985542Z",
     "shell.execute_reply": "2020-08-24T02:55:54.984543Z",
     "shell.execute_reply.started": "2020-08-24T02:55:54.973542Z"
    }
   },
   "outputs": [],
   "source": [
    "import matplotlib.font_manager as fm\n",
    "font_name = fm.FontProperties(fname='C:\\\\WINDOWS\\\\Fonts\\\\HYWULM.TTF').get_name()\n",
    "plt.rc('font', family=font_name)"
   ]
  },
  {
   "cell_type": "markdown",
   "metadata": {},
   "source": [
    "## 씨젠 차트를 그려보자"
   ]
  },
  {
   "cell_type": "code",
   "execution_count": 62,
   "metadata": {
    "execution": {
     "iopub.execute_input": "2020-08-24T02:56:17.134546Z",
     "iopub.status.busy": "2020-08-24T02:56:17.134546Z",
     "iopub.status.idle": "2020-08-24T02:56:17.209553Z",
     "shell.execute_reply": "2020-08-24T02:56:17.208542Z",
     "shell.execute_reply.started": "2020-08-24T02:56:17.134546Z"
    }
   },
   "outputs": [],
   "source": [
    "stockdf = getStockHistory([\"씨젠\"], start='2019-01-01')"
   ]
  },
  {
   "cell_type": "code",
   "execution_count": 63,
   "metadata": {
    "execution": {
     "iopub.execute_input": "2020-08-24T02:56:18.266558Z",
     "iopub.status.busy": "2020-08-24T02:56:18.266558Z",
     "iopub.status.idle": "2020-08-24T02:56:18.592540Z",
     "shell.execute_reply": "2020-08-24T02:56:18.591541Z",
     "shell.execute_reply.started": "2020-08-24T02:56:18.266558Z"
    }
   },
   "outputs": [
    {
     "data": {
      "text/plain": [
       "<AxesSubplot:xlabel='Date'>"
      ]
     },
     "execution_count": 63,
     "metadata": {},
     "output_type": "execute_result"
    },
    {
     "data": {
      "image/png": "[encoded data removed]",
      "text/plain": [
       "<Figure size 432x288 with 1 Axes>"
      ]
     },
     "metadata": {
      "needs_background": "light"
     },
     "output_type": "display_data"
    }
   ],
   "source": [
    "stockdf['Close'].plot()"
   ]
  },
  {
   "cell_type": "markdown",
   "metadata": {},
   "source": [
    "## Interactive 챠트 만들기"
   ]
  },
  {
   "cell_type": "markdown",
   "metadata": {},
   "source": [
    " - ipywidget을 활용해서 interactive하게 종목과 날짜를 바꾸어 볼 수 있는 그래프 그리기\n",
    " > widgets은 ipython(jupyter)에 interactive한 요소를 추가 해주는 기능"
   ]
  },
  {
   "cell_type": "code",
   "execution_count": 32,
   "metadata": {
    "execution": {
     "iopub.execute_input": "2020-08-25T10:42:50.294244Z",
     "iopub.status.busy": "2020-08-25T10:42:50.293242Z",
     "iopub.status.idle": "2020-08-25T10:42:50.366242Z",
     "shell.execute_reply": "2020-08-25T10:42:50.366242Z",
     "shell.execute_reply.started": "2020-08-25T10:42:50.294244Z"
    }
   },
   "outputs": [],
   "source": [
    "import ipywidgets as widgets"
   ]
  },
  {
   "cell_type": "markdown",
   "metadata": {},
   "source": [
    "> <b> 표시 기간/날짜를 선택하는 widget 만들기 </b> <br>\n",
    "> 먼저, 전체 기간의 시작과 끝을 정하고, 해당 기간을 선택할 option으로 만들어 제공하면 선택 결과가 tuple로 return됨"
   ]
  },
  {
   "cell_type": "code",
   "execution_count": 124,
   "metadata": {
    "execution": {
     "iopub.execute_input": "2020-08-24T05:18:12.431902Z",
     "iopub.status.busy": "2020-08-24T05:18:12.431902Z",
     "iopub.status.idle": "2020-08-24T05:18:12.457887Z",
     "shell.execute_reply": "2020-08-24T05:18:12.456889Z",
     "shell.execute_reply.started": "2020-08-24T05:18:12.431902Z"
    }
   },
   "outputs": [],
   "source": [
    "start_date = datetime.datetime(2018, 1, 1)\n",
    "end_date = datetime.datetime.now().date()\n",
    "dates = pd.date_range(start_date, end_date, freq='D')\n",
    "\n",
    "options = [(date.strftime(' %Y-%m-%d '), date) for date in dates]\n",
    "index = (0, len(options)-1)\n",
    "\n",
    "selection_range_slider = widgets.SelectionRangeSlider(\n",
    "    options=options,\n",
    "    index=index,\n",
    "    description='Dates',\n",
    "    orientation='horizontal',\n",
    "    layout={'width': '500px'}\n",
    ")"
   ]
  },
  {
   "cell_type": "markdown",
   "metadata": {},
   "source": [
    "> <b> 표시할 내용 선택 widget 만들기 </b> <br>\n",
    "> 여러 값들 중에서 선택한 내용이 리스트로 전달됨. 주의) 복수 선택 가능"
   ]
  },
  {
   "cell_type": "code",
   "execution_count": 33,
   "metadata": {
    "execution": {
     "iopub.execute_input": "2020-08-25T10:42:51.886242Z",
     "iopub.status.busy": "2020-08-25T10:42:51.886242Z",
     "iopub.status.idle": "2020-08-25T10:42:51.895258Z",
     "shell.execute_reply": "2020-08-25T10:42:51.895258Z",
     "shell.execute_reply.started": "2020-08-25T10:42:51.886242Z"
    }
   },
   "outputs": [],
   "source": [
    "selection_values = widgets.SelectMultiple(\n",
    "    options=['Open','Close','High','Low'],\n",
    "    value=['Close'],\n",
    "    description='Values',\n",
    "    disabled=False\n",
    ")"
   ]
  },
  {
   "cell_type": "markdown",
   "metadata": {},
   "source": [
    "> <b> 실제 그래프를 표시할 함수 만들기 </b> <br>\n",
    "> widget에서 리턴되는 내용들이 argument가 되어, 수행하는 함수 만들기. widget값이 바뀔 경우 함수가 자동 재수행됨"
   ]
  },
  {
   "cell_type": "code",
   "execution_count": 131,
   "metadata": {
    "execution": {
     "iopub.execute_input": "2020-08-24T05:24:13.368887Z",
     "iopub.status.busy": "2020-08-24T05:24:13.367903Z",
     "iopub.status.idle": "2020-08-24T05:24:13.373887Z",
     "shell.execute_reply": "2020-08-24T05:24:13.372893Z",
     "shell.execute_reply.started": "2020-08-24T05:24:13.368887Z"
    }
   },
   "outputs": [],
   "source": [
    "def draw_chart(name_list, date_range, values=selection_values):\n",
    "    fig,ax = plt.subplots(nrows=1, ncols=1, figsize=(16,6))\n",
    "    stockdf = getStockHistory([name_list], date_range[0].strftime(\"%Y-%m-%d\"), date_range[1].strftime(\"%Y-%m-%d\"))\n",
    "    stockdf[list(values)].plot(ax=ax)"
   ]
  },
  {
   "cell_type": "markdown",
   "metadata": {},
   "source": [
    "> <b> widgets.ineract를 통해 interactive한 함수 기능 제공 </b> <br>\n",
    "> 준비해둔 widget과 함수를 연결해주는 내용"
   ]
  },
  {
   "cell_type": "code",
   "execution_count": 132,
   "metadata": {
    "execution": {
     "iopub.execute_input": "2020-08-24T05:24:14.390889Z",
     "iopub.status.busy": "2020-08-24T05:24:14.389888Z",
     "iopub.status.idle": "2020-08-24T05:24:14.814890Z",
     "shell.execute_reply": "2020-08-24T05:24:14.814890Z",
     "shell.execute_reply.started": "2020-08-24T05:24:14.390889Z"
    }
   },
   "outputs": [
    {
     "data": {
      "application/vnd.jupyter.widget-view+json": {
       "model_id": "b1af193d76ac4bd6b1abfabe9f039739",
       "version_major": 2,
       "version_minor": 0
      },
      "text/plain": [
       "interactive(children=(Dropdown(description='name_list', options=('3S', 'AJ네트웍스', 'AK홀딩스', 'APS홀딩스', 'AP시스템', '…"
      ]
     },
     "metadata": {},
     "output_type": "display_data"
    },
    {
     "data": {
      "text/plain": [
       "<function __main__.draw_chart(name_list, date_range, values=SelectMultiple(description='Values', index=(0, 1, 2, 3), options=('Open', 'Close', 'High', 'Low'), value=('Open', 'Close', 'High', 'Low')))>"
      ]
     },
     "execution_count": 132,
     "metadata": {},
     "output_type": "execute_result"
    }
   ],
   "source": [
    "widgets.interact(draw_chart, name_list = name2code_dict.keys(), date_range=selection_range_slider)"
   ]
  },
  {
   "cell_type": "markdown",
   "metadata": {},
   "source": [
    "<hr>"
   ]
  },
  {
   "cell_type": "markdown",
   "metadata": {},
   "source": [
    "# 주가 투자 알고리즘을 평가하는 platform"
   ]
  },
  {
   "cell_type": "markdown",
   "metadata": {},
   "source": [
    "## 주가 투자 알고리즘 형태"
   ]
  },
  {
   "cell_type": "markdown",
   "metadata": {},
   "source": [
    "- Close (종가) 기준으로 매수/매도 날짜를 추천 "
   ]
  },
  {
   "cell_type": "markdown",
   "metadata": {},
   "source": [
    "- 추천된 매수/매도 날짜 list를 가지고 투자의 결과를 평가"
   ]
  },
  {
   "cell_type": "markdown",
   "metadata": {},
   "source": [
    "## 주가 투자 알고리즘 평가 함수 만들기"
   ]
  },
  {
   "cell_type": "markdown",
   "metadata": {},
   "source": [
    " - 알고리즘의 결과물로 나오는 (매수일자,매도일자) 리스트를 받아, 투자의 효과를 평가하는 함수"
   ]
  },
  {
   "cell_type": "code",
   "execution_count": 34,
   "metadata": {
    "execution": {
     "iopub.execute_input": "2020-08-25T11:23:35.534242Z",
     "iopub.status.busy": "2020-08-25T11:23:35.532242Z",
     "iopub.status.idle": "2020-08-25T11:23:35.552254Z",
     "shell.execute_reply": "2020-08-25T11:23:35.551245Z",
     "shell.execute_reply.started": "2020-08-25T11:23:35.534242Z"
    }
   },
   "outputs": [],
   "source": [
    "def measure_gains(tdf, invest_list, total_money=5_000_000, commision_perc=5):\n",
    "    \n",
    "    invest_money = total_money\n",
    "    \n",
    "    for [sdate,edate] in invest_list:\n",
    "        sdate_price = tdf.loc[sdate, 'Close'].values[0]\n",
    "        stock_amount = invest_money // sdate_price\n",
    "        remain_money = invest_money - stock_amount * sdate_price\n",
    "        edate_price = tdf.loc[edate, 'Close'].values[0]\n",
    "        invest_money = stock_amount * edate_price * (100-commision_perc)/100 + remain_money\n",
    "        \n",
    "    return invest_money / total_money * 100"
   ]
  },
  {
   "cell_type": "markdown",
   "metadata": {},
   "source": [
    "## 비교(레퍼런스) 투자 알고리즘 \n",
    "> 미래의 등락을 미리 알고 있으며, 3일 이상 계속 상승이 예상되면 매수, 가격 하락이 시작되기 직전 매도 <br>\n",
    "> suboptimal : 미래의 급등락을 정확하게 맞출 수 있으므로 비교 가능한 상황에서는 거의 최고 성능의 알고리즘"
   ]
  },
  {
   "cell_type": "markdown",
   "metadata": {},
   "source": [
    " - 주식 정보는 토/일이 missing되어 있으므로, time-series 분석을 위해 토/일요일 정보를 forward fill 방식으로 채우자"
   ]
  },
  {
   "cell_type": "code",
   "execution_count": null,
   "metadata": {
    "execution": {
     "iopub.execute_input": "2020-08-24T07:13:11.826809Z",
     "iopub.status.busy": "2020-08-24T07:13:11.825808Z",
     "iopub.status.idle": "2020-08-24T07:13:11.839819Z",
     "shell.execute_reply": "2020-08-24T07:13:11.839819Z",
     "shell.execute_reply.started": "2020-08-24T07:13:11.826809Z"
    }
   },
   "outputs": [],
   "source": [
    "stockdf[:10]"
   ]
  },
  {
   "cell_type": "code",
   "execution_count": 179,
   "metadata": {
    "execution": {
     "iopub.execute_input": "2020-08-24T07:13:41.200822Z",
     "iopub.status.busy": "2020-08-24T07:13:41.199810Z",
     "iopub.status.idle": "2020-08-24T07:13:41.208812Z",
     "shell.execute_reply": "2020-08-24T07:13:41.207809Z",
     "shell.execute_reply.started": "2020-08-24T07:13:41.200822Z"
    }
   },
   "outputs": [],
   "source": [
    "stockdf= stockdf.resample('D').fillna('ffill')"
   ]
  },
  {
   "cell_type": "code",
   "execution_count": null,
   "metadata": {
    "execution": {
     "iopub.execute_input": "2020-08-24T07:13:50.767829Z",
     "iopub.status.busy": "2020-08-24T07:13:50.766827Z",
     "iopub.status.idle": "2020-08-24T07:13:50.781810Z",
     "shell.execute_reply": "2020-08-24T07:13:50.780820Z",
     "shell.execute_reply.started": "2020-08-24T07:13:50.767829Z"
    }
   },
   "outputs": [],
   "source": [
    "stockdf[:10]"
   ]
  },
  {
   "cell_type": "markdown",
   "metadata": {},
   "source": [
    " - 종가 기준으로 어제의 종가와 비교해서 증감 내역과 그 ratio를 계산해 두자"
   ]
  },
  {
   "cell_type": "code",
   "execution_count": 201,
   "metadata": {
    "execution": {
     "iopub.execute_input": "2020-08-24T07:20:24.491810Z",
     "iopub.status.busy": "2020-08-24T07:20:24.491810Z",
     "iopub.status.idle": "2020-08-24T07:20:24.496813Z",
     "shell.execute_reply": "2020-08-24T07:20:24.495816Z",
     "shell.execute_reply.started": "2020-08-24T07:20:24.491810Z"
    }
   },
   "outputs": [],
   "source": [
    "tdf = stockdf['Close']"
   ]
  },
  {
   "cell_type": "code",
   "execution_count": 202,
   "metadata": {
    "execution": {
     "iopub.execute_input": "2020-08-24T07:20:25.442810Z",
     "iopub.status.busy": "2020-08-24T07:20:25.442810Z",
     "iopub.status.idle": "2020-08-24T07:20:25.447810Z",
     "shell.execute_reply": "2020-08-24T07:20:25.446809Z",
     "shell.execute_reply.started": "2020-08-24T07:20:25.442810Z"
    }
   },
   "outputs": [],
   "source": [
    "tdf.columns = ['Close']"
   ]
  },
  {
   "cell_type": "code",
   "execution_count": 203,
   "metadata": {
    "execution": {
     "iopub.execute_input": "2020-08-24T07:20:26.223820Z",
     "iopub.status.busy": "2020-08-24T07:20:26.223820Z",
     "iopub.status.idle": "2020-08-24T07:20:26.230814Z",
     "shell.execute_reply": "2020-08-24T07:20:26.229812Z",
     "shell.execute_reply.started": "2020-08-24T07:20:26.223820Z"
    }
   },
   "outputs": [
    {
     "name": "stderr",
     "output_type": "stream",
     "text": [
      "C:\\ProgramData\\Anaconda3\\lib\\site-packages\\ipykernel_launcher.py:1: SettingWithCopyWarning: \n",
      "A value is trying to be set on a copy of a slice from a DataFrame.\n",
      "Try using .loc[row_indexer,col_indexer] = value instead\n",
      "\n",
      "See the caveats in the documentation: https://pandas.pydata.org/pandas-docs/stable/user_guide/indexing.html#returning-a-view-versus-a-copy\n",
      "  \"\"\"Entry point for launching an IPython kernel.\n"
     ]
    }
   ],
   "source": [
    "tdf['tomorrow_gap'] = tdf['Close'].shift(-1) - tdf['Close'] "
   ]
  },
  {
   "cell_type": "code",
   "execution_count": 205,
   "metadata": {
    "execution": {
     "iopub.execute_input": "2020-08-24T07:20:41.734812Z",
     "iopub.status.busy": "2020-08-24T07:20:41.734812Z",
     "iopub.status.idle": "2020-08-24T07:20:41.742813Z",
     "shell.execute_reply": "2020-08-24T07:20:41.741809Z",
     "shell.execute_reply.started": "2020-08-24T07:20:41.734812Z"
    }
   },
   "outputs": [
    {
     "name": "stderr",
     "output_type": "stream",
     "text": [
      "C:\\ProgramData\\Anaconda3\\lib\\site-packages\\ipykernel_launcher.py:1: SettingWithCopyWarning: \n",
      "A value is trying to be set on a copy of a slice from a DataFrame.\n",
      "Try using .loc[row_indexer,col_indexer] = value instead\n",
      "\n",
      "See the caveats in the documentation: https://pandas.pydata.org/pandas-docs/stable/user_guide/indexing.html#returning-a-view-versus-a-copy\n",
      "  \"\"\"Entry point for launching an IPython kernel.\n"
     ]
    }
   ],
   "source": [
    "tdf['tomorrow_ratio'] = tdf['tomorrow_gap'] / tdf['Close'] * 100"
   ]
  },
  {
   "cell_type": "code",
   "execution_count": 206,
   "metadata": {
    "execution": {
     "iopub.execute_input": "2020-08-24T07:20:43.488817Z",
     "iopub.status.busy": "2020-08-24T07:20:43.487809Z",
     "iopub.status.idle": "2020-08-24T07:20:43.500810Z",
     "shell.execute_reply": "2020-08-24T07:20:43.499819Z",
     "shell.execute_reply.started": "2020-08-24T07:20:43.488817Z"
    }
   },
   "outputs": [
    {
     "data": {
      "text/html": [
       "<div>\n",
       "<style scoped>\n",
       "    .dataframe tbody tr th:only-of-type {\n",
       "        vertical-align: middle;\n",
       "    }\n",
       "\n",
       "    .dataframe tbody tr th {\n",
       "        vertical-align: top;\n",
       "    }\n",
       "\n",
       "    .dataframe thead th {\n",
       "        text-align: right;\n",
       "    }\n",
       "</style>\n",
       "<table border=\"1\" class=\"dataframe\">\n",
       "  <thead>\n",
       "    <tr style=\"text-align: right;\">\n",
       "      <th></th>\n",
       "      <th>Close</th>\n",
       "      <th>tomorrow_gap</th>\n",
       "      <th>tomorrow_ratio</th>\n",
       "    </tr>\n",
       "    <tr>\n",
       "      <th>Date</th>\n",
       "      <th></th>\n",
       "      <th></th>\n",
       "      <th></th>\n",
       "    </tr>\n",
       "  </thead>\n",
       "  <tbody>\n",
       "    <tr>\n",
       "      <th>2019-01-02</th>\n",
       "      <td>15600</td>\n",
       "      <td>-850.0</td>\n",
       "      <td>-5.448718</td>\n",
       "    </tr>\n",
       "    <tr>\n",
       "      <th>2019-01-03</th>\n",
       "      <td>14750</td>\n",
       "      <td>250.0</td>\n",
       "      <td>1.694915</td>\n",
       "    </tr>\n",
       "    <tr>\n",
       "      <th>2019-01-04</th>\n",
       "      <td>15000</td>\n",
       "      <td>0.0</td>\n",
       "      <td>0.000000</td>\n",
       "    </tr>\n",
       "    <tr>\n",
       "      <th>2019-01-05</th>\n",
       "      <td>15000</td>\n",
       "      <td>0.0</td>\n",
       "      <td>0.000000</td>\n",
       "    </tr>\n",
       "    <tr>\n",
       "      <th>2019-01-06</th>\n",
       "      <td>15000</td>\n",
       "      <td>200.0</td>\n",
       "      <td>1.333333</td>\n",
       "    </tr>\n",
       "  </tbody>\n",
       "</table>\n",
       "</div>"
      ],
      "text/plain": [
       "            Close  tomorrow_gap  tomorrow_ratio\n",
       "Date                                           \n",
       "2019-01-02  15600        -850.0       -5.448718\n",
       "2019-01-03  14750         250.0        1.694915\n",
       "2019-01-04  15000           0.0        0.000000\n",
       "2019-01-05  15000           0.0        0.000000\n",
       "2019-01-06  15000         200.0        1.333333"
      ]
     },
     "execution_count": 206,
     "metadata": {},
     "output_type": "execute_result"
    }
   ],
   "source": [
    "tdf.head()"
   ]
  },
  {
   "cell_type": "markdown",
   "metadata": {},
   "source": [
    " - 핵심 알고리즘 구현 : 3일 이상 계속 상승하면 매수! 가격이 꺽이는 날 직전에 매도!!"
   ]
  },
  {
   "cell_type": "code",
   "execution_count": 256,
   "metadata": {
    "execution": {
     "iopub.execute_input": "2020-08-24T08:33:06.207814Z",
     "iopub.status.busy": "2020-08-24T08:33:06.206810Z",
     "iopub.status.idle": "2020-08-24T08:33:06.217818Z",
     "shell.execute_reply": "2020-08-24T08:33:06.216821Z",
     "shell.execute_reply.started": "2020-08-24T08:33:06.207814Z"
    }
   },
   "outputs": [],
   "source": [
    "invest_list = []\n",
    "during_invest = False\n",
    "for rows in tdf.itertuples():\n",
    "    if rows[2] < 0 and during_invest:\n",
    "        invest.append(rows[0])  # set today as end date of invest\n",
    "        during_invest = False\n",
    "        if (invest[1] - invest[0]).days >= 3:\n",
    "            invest_list.append(invest)\n",
    "    elif rows[2] < 0 and not during_invest:\n",
    "        continue\n",
    "    elif rows[2] > 0 and during_invest:\n",
    "        continue\n",
    "    elif rows[2] > 0 and not during_invest:\n",
    "        invest = [rows[0]]\n",
    "        during_invest = True\n",
    "\n",
    "    return invest_list"
   ]
  },
  {
   "cell_type": "markdown",
   "metadata": {},
   "source": [
    "## 비교 (레퍼런스) 알고리즘 end-to-end 모듈화 (함수화)"
   ]
  },
  {
   "cell_type": "code",
   "execution_count": 273,
   "metadata": {
    "execution": {
     "iopub.execute_input": "2020-08-24T08:38:49.708819Z",
     "iopub.status.busy": "2020-08-24T08:38:49.708819Z",
     "iopub.status.idle": "2020-08-24T08:38:49.716821Z",
     "shell.execute_reply": "2020-08-24T08:38:49.715811Z",
     "shell.execute_reply.started": "2020-08-24T08:38:49.708819Z"
    }
   },
   "outputs": [],
   "source": [
    "def realistic_optimal(targetdf, min_investdays=3):\n",
    "    \n",
    "    targetdf= targetdf.resample('D').fillna('ffill')\n",
    "    tdf = targetdf['Close']\n",
    "    tdf.columns = ['Close']\n",
    "    tdf['tomorrow_gap'] = tdf['Close'].shift(-1) - tdf['Close'] \n",
    "    tdf['tomorrow_ratio'] = tdf['tomorrow_gap'] / tdf['Close'] * 100\n",
    "    \n",
    "    invest_list = []\n",
    "    during_invest = False\n",
    "    for rows in tdf.itertuples():\n",
    "        if rows[2] < 0 and during_invest:\n",
    "            invest.append(rows[0])  # set today as end date of invest\n",
    "            during_invest = False\n",
    "            if (invest[1] - invest[0]).days >= min_investdays:\n",
    "                invest_list.append(invest)\n",
    "        elif rows[2] < 0 and not during_invest:\n",
    "            continue\n",
    "        elif rows[2] > 0 and during_invest:\n",
    "            continue\n",
    "        elif rows[2] > 0 and not during_invest:\n",
    "            invest = [rows[0]]\n",
    "            during_invest = True\n",
    "            \n",
    "    return invest_list"
   ]
  },
  {
   "cell_type": "markdown",
   "metadata": {},
   "source": [
    "## 비교 알고리즘을 평가해 보자!"
   ]
  },
  {
   "cell_type": "code",
   "execution_count": 275,
   "metadata": {
    "execution": {
     "iopub.execute_input": "2020-08-24T08:39:10.734824Z",
     "iopub.status.busy": "2020-08-24T08:39:10.734824Z",
     "iopub.status.idle": "2020-08-24T08:39:10.749818Z",
     "shell.execute_reply": "2020-08-24T08:39:10.748821Z",
     "shell.execute_reply.started": "2020-08-24T08:39:10.734824Z"
    }
   },
   "outputs": [
    {
     "name": "stderr",
     "output_type": "stream",
     "text": [
      "C:\\ProgramData\\Anaconda3\\lib\\site-packages\\ipykernel_launcher.py:6: SettingWithCopyWarning: \n",
      "A value is trying to be set on a copy of a slice from a DataFrame.\n",
      "Try using .loc[row_indexer,col_indexer] = value instead\n",
      "\n",
      "See the caveats in the documentation: https://pandas.pydata.org/pandas-docs/stable/user_guide/indexing.html#returning-a-view-versus-a-copy\n",
      "  \n",
      "C:\\ProgramData\\Anaconda3\\lib\\site-packages\\ipykernel_launcher.py:7: SettingWithCopyWarning: \n",
      "A value is trying to be set on a copy of a slice from a DataFrame.\n",
      "Try using .loc[row_indexer,col_indexer] = value instead\n",
      "\n",
      "See the caveats in the documentation: https://pandas.pydata.org/pandas-docs/stable/user_guide/indexing.html#returning-a-view-versus-a-copy\n",
      "  import sys\n"
     ]
    }
   ],
   "source": [
    "invest_list = realistic_optimal(stockdf)"
   ]
  },
  {
   "cell_type": "code",
   "execution_count": 276,
   "metadata": {
    "execution": {
     "iopub.execute_input": "2020-08-24T08:39:20.118820Z",
     "iopub.status.busy": "2020-08-24T08:39:20.117820Z",
     "iopub.status.idle": "2020-08-24T08:39:20.175809Z",
     "shell.execute_reply": "2020-08-24T08:39:20.174810Z",
     "shell.execute_reply.started": "2020-08-24T08:39:20.118820Z"
    }
   },
   "outputs": [
    {
     "data": {
      "text/plain": [
       "1221.2653"
      ]
     },
     "execution_count": 276,
     "metadata": {},
     "output_type": "execute_result"
    }
   ],
   "source": [
    "measure_gains(stockdf, invest_list)"
   ]
  },
  {
   "cell_type": "markdown",
   "metadata": {},
   "source": [
    "# (비교) 알고리즘 Visualization\n",
    "> 전체 챠트에서, 투자 기간 (매수/매도) 기간을 표시"
   ]
  },
  {
   "cell_type": "code",
   "execution_count": 354,
   "metadata": {
    "execution": {
     "iopub.execute_input": "2020-08-24T11:00:30.733746Z",
     "iopub.status.busy": "2020-08-24T11:00:30.733746Z",
     "iopub.status.idle": "2020-08-24T11:00:30.738734Z",
     "shell.execute_reply": "2020-08-24T11:00:30.737750Z",
     "shell.execute_reply.started": "2020-08-24T11:00:30.733746Z"
    }
   },
   "outputs": [],
   "source": [
    "import matplotlib\n",
    "matplotlib.style.use('ggplot')"
   ]
  },
  {
   "cell_type": "code",
   "execution_count": 363,
   "metadata": {
    "execution": {
     "iopub.execute_input": "2020-08-24T11:01:21.066750Z",
     "iopub.status.busy": "2020-08-24T11:01:21.065736Z",
     "iopub.status.idle": "2020-08-24T11:01:21.072755Z",
     "shell.execute_reply": "2020-08-24T11:01:21.071751Z",
     "shell.execute_reply.started": "2020-08-24T11:01:21.066750Z"
    }
   },
   "outputs": [],
   "source": [
    "def visualize_invest(targetdf, invest_list):\n",
    "    \n",
    "    fig, ax = plt.subplots(nrows=1, ncols=1, figsize=(16,6))\n",
    "    \n",
    "    # draw whole graph\n",
    "    targetdf= targetdf.resample('D').fillna('ffill')\n",
    "    tdf = targetdf['Close']\n",
    "    tdf.columns = ['Close']\n",
    "    tdf['Close'].plot(ax=ax, color='yellow', linewidth=3)\n",
    "    \n",
    "    #draw invest graph\n",
    "    for [sdate,edate] in invest_list:\n",
    "        tdf.loc[sdate:edate,'Close'].plot(ax=ax, color='red', linewidth=2)\n",
    "\n",
    "        "
   ]
  },
  {
   "cell_type": "code",
   "execution_count": 364,
   "metadata": {
    "execution": {
     "iopub.execute_input": "2020-08-24T11:01:22.279751Z",
     "iopub.status.busy": "2020-08-24T11:01:22.279751Z",
     "iopub.status.idle": "2020-08-24T11:01:23.128734Z",
     "shell.execute_reply": "2020-08-24T11:01:23.127735Z",
     "shell.execute_reply.started": "2020-08-24T11:01:22.279751Z"
    }
   },
   "outputs": [
    {
     "data": {
      "image/png": "[encoded data removed]",
      "text/plain": [
       "<Figure size 1152x432 with 1 Axes>"
      ]
     },
     "metadata": {},
     "output_type": "display_data"
    }
   ],
   "source": [
    "visualize_invest(stockdf, invest_list)"
   ]
  },
  {
   "cell_type": "markdown",
   "metadata": {},
   "source": [
    "# 다음주 => 현실적인 주가 예측 알고리즘을 만들어 보자"
   ]
  },
  {
   "cell_type": "markdown",
   "metadata": {},
   "source": [
    "<div class=\"alert alert-block alert-warning\">\n",
    "<b> Note:</b> 주가를 올바로 예측하는 것은 어렵다는 것이 중론입니다. 재미를 위해, time-series 분석의 예제를 위해 진행합니다. </b>\n",
    "\n",
    "랜덤워크 이론 및 주가 예측의 어려움에 관한 글 =>  https://steemit.com/coinkorea/@phuzion7/random-work-vs-non-random-work-theory\n",
    "</div>"
   ]
  }
 ],
 "metadata": {
  "kernelspec": {
   "display_name": "Python 3",
   "language": "python",
   "name": "python3"
  },
  "language_info": {
   "codemirror_mode": {
    "name": "ipython",
    "version": 3
   },
   "file_extension": ".py",
   "mimetype": "text/x-python",
   "name": "python",
   "nbconvert_exporter": "python",
   "pygments_lexer": "ipython3",
   "version": "3.7.6"
  },
  "toc-autonumbering": true
 },
 "nbformat": 4,
 "nbformat_minor": 4
}
