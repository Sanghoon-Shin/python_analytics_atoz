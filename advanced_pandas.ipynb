{
 "cells": [
  {
   "cell_type": "markdown",
   "metadata": {},
   "source": [
    "<font size=6> <b> 3주차 강의 Notebook </b> </font>\n",
    "<div class=\"alert alert-block alert-success\">\n",
    " 이번 시간에는, 지난 강의에 이어 Pandas의 아래와 같은 고급 기능에 대해 알아본다. <br>\n",
    " 주요 내용: visualization, profiling, join/merge, pivot/pivot_table, apply/applymap, etc.<br>\n",
    "</div>\n",
    "<p style=\"text-align:right;\"> sumyeon@gmail.com </p>"
   ]
  },
  {
   "cell_type": "markdown",
   "metadata": {},
   "source": [
    " <hr>"
   ]
  },
  {
   "cell_type": "markdown",
   "metadata": {},
   "source": [
    "# 필요한 모듈/패키지를 import"
   ]
  },
  {
   "cell_type": "code",
   "execution_count": 1,
   "metadata": {
    "execution": {
     "iopub.execute_input": "2020-08-03T11:25:46.179139Z",
     "iopub.status.busy": "2020-08-03T11:25:46.179139Z",
     "iopub.status.idle": "2020-08-03T11:25:46.185141Z",
     "shell.execute_reply": "2020-08-03T11:25:46.184141Z",
     "shell.execute_reply.started": "2020-08-03T11:25:46.179139Z"
    }
   },
   "outputs": [],
   "source": [
    "import pandas as pd\n",
    "import numpy as np\n",
    "import matplotlib.pyplot as plt\n",
    "\n",
    "%matplotlib inline"
   ]
  },
  {
   "cell_type": "code",
   "execution_count": 2,
   "metadata": {
    "execution": {
     "iopub.execute_input": "2020-08-03T11:25:46.186140Z",
     "iopub.status.busy": "2020-08-03T11:25:46.186140Z",
     "iopub.status.idle": "2020-08-03T11:25:48.808139Z",
     "shell.execute_reply": "2020-08-03T11:25:48.807171Z",
     "shell.execute_reply.started": "2020-08-03T11:25:46.186140Z"
    }
   },
   "outputs": [],
   "source": [
    "# pandas-profiling 설치 필요\n",
    "import os\n",
    "import pandas_profiling\n",
    "import webbrowser"
   ]
  },
  {
   "cell_type": "markdown",
   "metadata": {},
   "source": [
    " <hr>"
   ]
  },
  {
   "cell_type": "markdown",
   "metadata": {},
   "source": [
    "# Data loading"
   ]
  },
  {
   "cell_type": "code",
   "execution_count": 3,
   "metadata": {
    "execution": {
     "iopub.execute_input": "2020-08-03T11:25:48.809140Z",
     "iopub.status.busy": "2020-08-03T11:25:48.809140Z",
     "iopub.status.idle": "2020-08-03T11:25:48.813141Z",
     "shell.execute_reply": "2020-08-03T11:25:48.812141Z",
     "shell.execute_reply.started": "2020-08-03T11:25:48.809140Z"
    }
   },
   "outputs": [],
   "source": [
    "os.chdir('d:/jupyternotebook/python_anal_atoz')"
   ]
  },
  {
   "cell_type": "code",
   "execution_count": 4,
   "metadata": {
    "execution": {
     "iopub.execute_input": "2020-08-03T11:25:48.814144Z",
     "iopub.status.busy": "2020-08-03T11:25:48.814144Z",
     "iopub.status.idle": "2020-08-03T11:25:48.845142Z",
     "shell.execute_reply": "2020-08-03T11:25:48.844152Z",
     "shell.execute_reply.started": "2020-08-03T11:25:48.814144Z"
    }
   },
   "outputs": [],
   "source": [
    "# read csv file into data frame (main memory)\n",
    "airdf = pd.read_csv('seoul_air_polution.csv')\n",
    "airdf.columns = ['date','loc','NO2','O3','CO','SO2','PM10','PM2.5']"
   ]
  },
  {
   "cell_type": "code",
   "execution_count": 5,
   "metadata": {
    "execution": {
     "iopub.execute_input": "2020-08-03T11:25:48.846141Z",
     "iopub.status.busy": "2020-08-03T11:25:48.846141Z",
     "iopub.status.idle": "2020-08-03T11:25:48.855144Z",
     "shell.execute_reply": "2020-08-03T11:25:48.854141Z",
     "shell.execute_reply.started": "2020-08-03T11:25:48.846141Z"
    }
   },
   "outputs": [],
   "source": [
    "parkdf = pd.read_csv('seoul_greenpark.tsv', sep='\\t')\n",
    "parkdf.columns = ['loc','total_area','park_area','park_ratio']"
   ]
  },
  {
   "cell_type": "markdown",
   "metadata": {},
   "source": [
    "# 필요없는 Index, Column 삭제"
   ]
  },
  {
   "cell_type": "markdown",
   "metadata": {},
   "source": [
    "<b> Index 값을 지정해서 해당 row를 삭제 </b>"
   ]
  },
  {
   "cell_type": "code",
   "execution_count": 6,
   "metadata": {
    "execution": {
     "iopub.execute_input": "2020-08-03T11:25:48.856140Z",
     "iopub.status.busy": "2020-08-03T11:25:48.856140Z",
     "iopub.status.idle": "2020-08-03T11:25:48.884138Z",
     "shell.execute_reply": "2020-08-03T11:25:48.883141Z",
     "shell.execute_reply.started": "2020-08-03T11:25:48.856140Z"
    }
   },
   "outputs": [
    {
     "data": {
      "text/html": [
       "<div>\n",
       "<style scoped>\n",
       "    .dataframe tbody tr th:only-of-type {\n",
       "        vertical-align: middle;\n",
       "    }\n",
       "\n",
       "    .dataframe tbody tr th {\n",
       "        vertical-align: top;\n",
       "    }\n",
       "\n",
       "    .dataframe thead th {\n",
       "        text-align: right;\n",
       "    }\n",
       "</style>\n",
       "<table border=\"1\" class=\"dataframe\">\n",
       "  <thead>\n",
       "    <tr style=\"text-align: right;\">\n",
       "      <th></th>\n",
       "      <th>date</th>\n",
       "      <th>loc</th>\n",
       "      <th>NO2</th>\n",
       "      <th>O3</th>\n",
       "      <th>CO</th>\n",
       "      <th>SO2</th>\n",
       "      <th>PM10</th>\n",
       "      <th>PM2.5</th>\n",
       "    </tr>\n",
       "  </thead>\n",
       "  <tbody>\n",
       "    <tr>\n",
       "      <th>0</th>\n",
       "      <td>20171009</td>\n",
       "      <td>강남구</td>\n",
       "      <td>0.024</td>\n",
       "      <td>0.020</td>\n",
       "      <td>0.4</td>\n",
       "      <td>0.007</td>\n",
       "      <td>28.0</td>\n",
       "      <td>22.0</td>\n",
       "    </tr>\n",
       "    <tr>\n",
       "      <th>2</th>\n",
       "      <td>20171009</td>\n",
       "      <td>중구</td>\n",
       "      <td>0.031</td>\n",
       "      <td>0.025</td>\n",
       "      <td>0.5</td>\n",
       "      <td>0.005</td>\n",
       "      <td>25.0</td>\n",
       "      <td>18.0</td>\n",
       "    </tr>\n",
       "  </tbody>\n",
       "</table>\n",
       "</div>"
      ],
      "text/plain": [
       "       date  loc    NO2     O3   CO    SO2  PM10  PM2.5\n",
       "0  20171009  강남구  0.024  0.020  0.4  0.007  28.0   22.0\n",
       "2  20171009   중구  0.031  0.025  0.5  0.005  25.0   18.0"
      ]
     },
     "execution_count": 6,
     "metadata": {},
     "output_type": "execute_result"
    }
   ],
   "source": [
    "airdf.drop(1).head(2)"
   ]
  },
  {
   "cell_type": "markdown",
   "metadata": {},
   "source": [
    "<b> index 범위를 지정해서 해당 row를 삭제 </b>"
   ]
  },
  {
   "cell_type": "code",
   "execution_count": 7,
   "metadata": {
    "execution": {
     "iopub.execute_input": "2020-08-03T11:25:48.886139Z",
     "iopub.status.busy": "2020-08-03T11:25:48.886139Z",
     "iopub.status.idle": "2020-08-03T11:25:48.905141Z",
     "shell.execute_reply": "2020-08-03T11:25:48.904143Z",
     "shell.execute_reply.started": "2020-08-03T11:25:48.886139Z"
    }
   },
   "outputs": [
    {
     "data": {
      "text/html": [
       "<div>\n",
       "<style scoped>\n",
       "    .dataframe tbody tr th:only-of-type {\n",
       "        vertical-align: middle;\n",
       "    }\n",
       "\n",
       "    .dataframe tbody tr th {\n",
       "        vertical-align: top;\n",
       "    }\n",
       "\n",
       "    .dataframe thead th {\n",
       "        text-align: right;\n",
       "    }\n",
       "</style>\n",
       "<table border=\"1\" class=\"dataframe\">\n",
       "  <thead>\n",
       "    <tr style=\"text-align: right;\">\n",
       "      <th></th>\n",
       "      <th>date</th>\n",
       "      <th>loc</th>\n",
       "      <th>NO2</th>\n",
       "      <th>O3</th>\n",
       "      <th>CO</th>\n",
       "      <th>SO2</th>\n",
       "      <th>PM10</th>\n",
       "      <th>PM2.5</th>\n",
       "    </tr>\n",
       "  </thead>\n",
       "  <tbody>\n",
       "    <tr>\n",
       "      <th>100</th>\n",
       "      <td>20171007</td>\n",
       "      <td>강남구</td>\n",
       "      <td>0.02</td>\n",
       "      <td>0.018</td>\n",
       "      <td>0.3</td>\n",
       "      <td>0.004</td>\n",
       "      <td>7.0</td>\n",
       "      <td>5.0</td>\n",
       "    </tr>\n",
       "    <tr>\n",
       "      <th>101</th>\n",
       "      <td>20171007</td>\n",
       "      <td>도산대로</td>\n",
       "      <td>0.03</td>\n",
       "      <td>0.018</td>\n",
       "      <td>1.0</td>\n",
       "      <td>0.004</td>\n",
       "      <td>15.0</td>\n",
       "      <td>6.0</td>\n",
       "    </tr>\n",
       "  </tbody>\n",
       "</table>\n",
       "</div>"
      ],
      "text/plain": [
       "         date   loc   NO2     O3   CO    SO2  PM10  PM2.5\n",
       "100  20171007   강남구  0.02  0.018  0.3  0.004   7.0    5.0\n",
       "101  20171007  도산대로  0.03  0.018  1.0  0.004  15.0    6.0"
      ]
     },
     "execution_count": 7,
     "metadata": {},
     "output_type": "execute_result"
    }
   ],
   "source": [
    "airdf.drop(airdf.index[0:100]).head(2)"
   ]
  },
  {
   "cell_type": "markdown",
   "metadata": {},
   "source": [
    "<b> 컬럼을 지정해서 해당 컬럼을 삭제 (= 해당 컬럼을 제외한 나머지 컬럼을 선택) </b>"
   ]
  },
  {
   "cell_type": "code",
   "execution_count": 8,
   "metadata": {
    "execution": {
     "iopub.execute_input": "2020-08-03T11:25:48.907140Z",
     "iopub.status.busy": "2020-08-03T11:25:48.906140Z",
     "iopub.status.idle": "2020-08-03T11:25:48.925140Z",
     "shell.execute_reply": "2020-08-03T11:25:48.924142Z",
     "shell.execute_reply.started": "2020-08-03T11:25:48.907140Z"
    }
   },
   "outputs": [
    {
     "data": {
      "text/html": [
       "<div>\n",
       "<style scoped>\n",
       "    .dataframe tbody tr th:only-of-type {\n",
       "        vertical-align: middle;\n",
       "    }\n",
       "\n",
       "    .dataframe tbody tr th {\n",
       "        vertical-align: top;\n",
       "    }\n",
       "\n",
       "    .dataframe thead th {\n",
       "        text-align: right;\n",
       "    }\n",
       "</style>\n",
       "<table border=\"1\" class=\"dataframe\">\n",
       "  <thead>\n",
       "    <tr style=\"text-align: right;\">\n",
       "      <th></th>\n",
       "      <th>date</th>\n",
       "      <th>loc</th>\n",
       "      <th>NO2</th>\n",
       "      <th>O3</th>\n",
       "      <th>SO2</th>\n",
       "      <th>PM10</th>\n",
       "      <th>PM2.5</th>\n",
       "    </tr>\n",
       "  </thead>\n",
       "  <tbody>\n",
       "    <tr>\n",
       "      <th>0</th>\n",
       "      <td>20171009</td>\n",
       "      <td>강남구</td>\n",
       "      <td>0.024</td>\n",
       "      <td>0.020</td>\n",
       "      <td>0.007</td>\n",
       "      <td>28.0</td>\n",
       "      <td>22.0</td>\n",
       "    </tr>\n",
       "    <tr>\n",
       "      <th>1</th>\n",
       "      <td>20171009</td>\n",
       "      <td>한강대로</td>\n",
       "      <td>0.037</td>\n",
       "      <td>0.019</td>\n",
       "      <td>0.006</td>\n",
       "      <td>32.0</td>\n",
       "      <td>16.0</td>\n",
       "    </tr>\n",
       "  </tbody>\n",
       "</table>\n",
       "</div>"
      ],
      "text/plain": [
       "       date   loc    NO2     O3    SO2  PM10  PM2.5\n",
       "0  20171009   강남구  0.024  0.020  0.007  28.0   22.0\n",
       "1  20171009  한강대로  0.037  0.019  0.006  32.0   16.0"
      ]
     },
     "execution_count": 8,
     "metadata": {},
     "output_type": "execute_result"
    }
   ],
   "source": [
    "airdf.drop('CO', axis=1).head(2)"
   ]
  },
  {
   "cell_type": "markdown",
   "metadata": {},
   "source": [
    "<div class=\"alert alert-block alert-warning\">\n",
    "<b> Note:</b> 위의 모든 operation은 원본 dataframe을 변경하지 않음. 필요한 작업 결과는 저장하거나, \"inplace=True\" 옵션을 사용해야함 </b>\n",
    "</div>"
   ]
  },
  {
   "cell_type": "code",
   "execution_count": 9,
   "metadata": {
    "execution": {
     "iopub.execute_input": "2020-08-03T11:25:48.926141Z",
     "iopub.status.busy": "2020-08-03T11:25:48.926141Z",
     "iopub.status.idle": "2020-08-03T11:25:48.944139Z",
     "shell.execute_reply": "2020-08-03T11:25:48.944139Z",
     "shell.execute_reply.started": "2020-08-03T11:25:48.926141Z"
    }
   },
   "outputs": [
    {
     "data": {
      "text/html": [
       "<div>\n",
       "<style scoped>\n",
       "    .dataframe tbody tr th:only-of-type {\n",
       "        vertical-align: middle;\n",
       "    }\n",
       "\n",
       "    .dataframe tbody tr th {\n",
       "        vertical-align: top;\n",
       "    }\n",
       "\n",
       "    .dataframe thead th {\n",
       "        text-align: right;\n",
       "    }\n",
       "</style>\n",
       "<table border=\"1\" class=\"dataframe\">\n",
       "  <thead>\n",
       "    <tr style=\"text-align: right;\">\n",
       "      <th></th>\n",
       "      <th>date</th>\n",
       "      <th>loc</th>\n",
       "      <th>NO2</th>\n",
       "      <th>O3</th>\n",
       "      <th>CO</th>\n",
       "      <th>SO2</th>\n",
       "      <th>PM10</th>\n",
       "      <th>PM2.5</th>\n",
       "    </tr>\n",
       "  </thead>\n",
       "  <tbody>\n",
       "    <tr>\n",
       "      <th>0</th>\n",
       "      <td>20171009</td>\n",
       "      <td>강남구</td>\n",
       "      <td>0.024</td>\n",
       "      <td>0.020</td>\n",
       "      <td>0.4</td>\n",
       "      <td>0.007</td>\n",
       "      <td>28.0</td>\n",
       "      <td>22.0</td>\n",
       "    </tr>\n",
       "    <tr>\n",
       "      <th>1</th>\n",
       "      <td>20171009</td>\n",
       "      <td>한강대로</td>\n",
       "      <td>0.037</td>\n",
       "      <td>0.019</td>\n",
       "      <td>0.5</td>\n",
       "      <td>0.006</td>\n",
       "      <td>32.0</td>\n",
       "      <td>16.0</td>\n",
       "    </tr>\n",
       "  </tbody>\n",
       "</table>\n",
       "</div>"
      ],
      "text/plain": [
       "       date   loc    NO2     O3   CO    SO2  PM10  PM2.5\n",
       "0  20171009   강남구  0.024  0.020  0.4  0.007  28.0   22.0\n",
       "1  20171009  한강대로  0.037  0.019  0.5  0.006  32.0   16.0"
      ]
     },
     "execution_count": 9,
     "metadata": {},
     "output_type": "execute_result"
    }
   ],
   "source": [
    "airdf.head(2)"
   ]
  },
  {
   "cell_type": "markdown",
   "metadata": {},
   "source": [
    "# Filter를 사용하는 Selection 방법"
   ]
  },
  {
   "cell_type": "code",
   "execution_count": 10,
   "metadata": {
    "execution": {
     "iopub.execute_input": "2020-08-03T11:25:48.946139Z",
     "iopub.status.busy": "2020-08-03T11:25:48.946139Z",
     "iopub.status.idle": "2020-08-03T11:25:48.965141Z",
     "shell.execute_reply": "2020-08-03T11:25:48.964140Z",
     "shell.execute_reply.started": "2020-08-03T11:25:48.946139Z"
    }
   },
   "outputs": [
    {
     "data": {
      "text/html": [
       "<div>\n",
       "<style scoped>\n",
       "    .dataframe tbody tr th:only-of-type {\n",
       "        vertical-align: middle;\n",
       "    }\n",
       "\n",
       "    .dataframe tbody tr th {\n",
       "        vertical-align: top;\n",
       "    }\n",
       "\n",
       "    .dataframe thead th {\n",
       "        text-align: right;\n",
       "    }\n",
       "</style>\n",
       "<table border=\"1\" class=\"dataframe\">\n",
       "  <thead>\n",
       "    <tr style=\"text-align: right;\">\n",
       "      <th></th>\n",
       "      <th>CO</th>\n",
       "      <th>NO2</th>\n",
       "    </tr>\n",
       "  </thead>\n",
       "  <tbody>\n",
       "    <tr>\n",
       "      <th>0</th>\n",
       "      <td>0.4</td>\n",
       "      <td>0.024</td>\n",
       "    </tr>\n",
       "    <tr>\n",
       "      <th>1</th>\n",
       "      <td>0.5</td>\n",
       "      <td>0.037</td>\n",
       "    </tr>\n",
       "  </tbody>\n",
       "</table>\n",
       "</div>"
      ],
      "text/plain": [
       "    CO    NO2\n",
       "0  0.4  0.024\n",
       "1  0.5  0.037"
      ]
     },
     "execution_count": 10,
     "metadata": {},
     "output_type": "execute_result"
    }
   ],
   "source": [
    "# select columns using column name\n",
    "airdf.filter(items=['CO','NO2']).head(2)"
   ]
  },
  {
   "cell_type": "code",
   "execution_count": 11,
   "metadata": {
    "execution": {
     "iopub.execute_input": "2020-08-03T11:25:48.967140Z",
     "iopub.status.busy": "2020-08-03T11:25:48.967140Z",
     "iopub.status.idle": "2020-08-03T11:25:48.985141Z",
     "shell.execute_reply": "2020-08-03T11:25:48.984151Z",
     "shell.execute_reply.started": "2020-08-03T11:25:48.967140Z"
    }
   },
   "outputs": [
    {
     "data": {
      "text/html": [
       "<div>\n",
       "<style scoped>\n",
       "    .dataframe tbody tr th:only-of-type {\n",
       "        vertical-align: middle;\n",
       "    }\n",
       "\n",
       "    .dataframe tbody tr th {\n",
       "        vertical-align: top;\n",
       "    }\n",
       "\n",
       "    .dataframe thead th {\n",
       "        text-align: right;\n",
       "    }\n",
       "</style>\n",
       "<table border=\"1\" class=\"dataframe\">\n",
       "  <thead>\n",
       "    <tr style=\"text-align: right;\">\n",
       "      <th></th>\n",
       "      <th>NO2</th>\n",
       "      <th>O3</th>\n",
       "      <th>SO2</th>\n",
       "    </tr>\n",
       "  </thead>\n",
       "  <tbody>\n",
       "    <tr>\n",
       "      <th>0</th>\n",
       "      <td>0.024</td>\n",
       "      <td>0.020</td>\n",
       "      <td>0.007</td>\n",
       "    </tr>\n",
       "    <tr>\n",
       "      <th>1</th>\n",
       "      <td>0.037</td>\n",
       "      <td>0.019</td>\n",
       "      <td>0.006</td>\n",
       "    </tr>\n",
       "  </tbody>\n",
       "</table>\n",
       "</div>"
      ],
      "text/plain": [
       "     NO2     O3    SO2\n",
       "0  0.024  0.020  0.007\n",
       "1  0.037  0.019  0.006"
      ]
     },
     "execution_count": 11,
     "metadata": {},
     "output_type": "execute_result"
    }
   ],
   "source": [
    "airdf.filter(regex='O.+').head(2)"
   ]
  },
  {
   "cell_type": "code",
   "execution_count": 12,
   "metadata": {
    "execution": {
     "iopub.execute_input": "2020-08-03T11:25:48.986150Z",
     "iopub.status.busy": "2020-08-03T11:25:48.985141Z",
     "iopub.status.idle": "2020-08-03T11:25:49.005140Z",
     "shell.execute_reply": "2020-08-03T11:25:49.005140Z",
     "shell.execute_reply.started": "2020-08-03T11:25:48.986150Z"
    }
   },
   "outputs": [
    {
     "data": {
      "text/html": [
       "<div>\n",
       "<style scoped>\n",
       "    .dataframe tbody tr th:only-of-type {\n",
       "        vertical-align: middle;\n",
       "    }\n",
       "\n",
       "    .dataframe tbody tr th {\n",
       "        vertical-align: top;\n",
       "    }\n",
       "\n",
       "    .dataframe thead th {\n",
       "        text-align: right;\n",
       "    }\n",
       "</style>\n",
       "<table border=\"1\" class=\"dataframe\">\n",
       "  <thead>\n",
       "    <tr style=\"text-align: right;\">\n",
       "      <th></th>\n",
       "      <th>NO2</th>\n",
       "      <th>O3</th>\n",
       "      <th>CO</th>\n",
       "      <th>SO2</th>\n",
       "    </tr>\n",
       "  </thead>\n",
       "  <tbody>\n",
       "    <tr>\n",
       "      <th>0</th>\n",
       "      <td>0.024</td>\n",
       "      <td>0.020</td>\n",
       "      <td>0.4</td>\n",
       "      <td>0.007</td>\n",
       "    </tr>\n",
       "    <tr>\n",
       "      <th>1</th>\n",
       "      <td>0.037</td>\n",
       "      <td>0.019</td>\n",
       "      <td>0.5</td>\n",
       "      <td>0.006</td>\n",
       "    </tr>\n",
       "  </tbody>\n",
       "</table>\n",
       "</div>"
      ],
      "text/plain": [
       "     NO2     O3   CO    SO2\n",
       "0  0.024  0.020  0.4  0.007\n",
       "1  0.037  0.019  0.5  0.006"
      ]
     },
     "execution_count": 12,
     "metadata": {},
     "output_type": "execute_result"
    }
   ],
   "source": [
    "airdf.filter(like='O').head(2)"
   ]
  },
  {
   "cell_type": "markdown",
   "metadata": {},
   "source": [
    "<div class=\"alert alert-block alert-info\">\n",
    "<b> Tip:</b> filter는 Series의 경우 index에, Dataframe의 경우 columns에 적용됨. 필요한 경우, axis=0/1 으로 지정 가능 </b>\n",
    "</div>"
   ]
  },
  {
   "cell_type": "markdown",
   "metadata": {},
   "source": [
    "# Colum 조건에 따라 새로운 column값 구하는 법"
   ]
  },
  {
   "cell_type": "markdown",
   "metadata": {},
   "source": [
    "## Where문 사용 : if true first value else second value"
   ]
  },
  {
   "cell_type": "code",
   "execution_count": 13,
   "metadata": {
    "execution": {
     "iopub.execute_input": "2020-08-03T11:25:49.007142Z",
     "iopub.status.busy": "2020-08-03T11:25:49.006149Z",
     "iopub.status.idle": "2020-08-03T11:25:49.045141Z",
     "shell.execute_reply": "2020-08-03T11:25:49.044148Z",
     "shell.execute_reply.started": "2020-08-03T11:25:49.007142Z"
    }
   },
   "outputs": [],
   "source": [
    "# select columns using column values\n",
    "airdf['district'] = airdf['loc'].where( airdf['loc'].str.contains('구'), other = '별도측정소')"
   ]
  },
  {
   "cell_type": "code",
   "execution_count": 14,
   "metadata": {
    "execution": {
     "iopub.execute_input": "2020-08-03T11:25:49.046142Z",
     "iopub.status.busy": "2020-08-03T11:25:49.046142Z",
     "iopub.status.idle": "2020-08-03T11:25:49.062141Z",
     "shell.execute_reply": "2020-08-03T11:25:49.061139Z",
     "shell.execute_reply.started": "2020-08-03T11:25:49.046142Z"
    }
   },
   "outputs": [
    {
     "data": {
      "text/html": [
       "<div>\n",
       "<style scoped>\n",
       "    .dataframe tbody tr th:only-of-type {\n",
       "        vertical-align: middle;\n",
       "    }\n",
       "\n",
       "    .dataframe tbody tr th {\n",
       "        vertical-align: top;\n",
       "    }\n",
       "\n",
       "    .dataframe thead th {\n",
       "        text-align: right;\n",
       "    }\n",
       "</style>\n",
       "<table border=\"1\" class=\"dataframe\">\n",
       "  <thead>\n",
       "    <tr style=\"text-align: right;\">\n",
       "      <th></th>\n",
       "      <th>date</th>\n",
       "      <th>loc</th>\n",
       "      <th>NO2</th>\n",
       "      <th>O3</th>\n",
       "      <th>CO</th>\n",
       "      <th>SO2</th>\n",
       "      <th>PM10</th>\n",
       "      <th>PM2.5</th>\n",
       "      <th>district</th>\n",
       "    </tr>\n",
       "  </thead>\n",
       "  <tbody>\n",
       "    <tr>\n",
       "      <th>0</th>\n",
       "      <td>20171009</td>\n",
       "      <td>강남구</td>\n",
       "      <td>0.024</td>\n",
       "      <td>0.020</td>\n",
       "      <td>0.4</td>\n",
       "      <td>0.007</td>\n",
       "      <td>28.0</td>\n",
       "      <td>22.0</td>\n",
       "      <td>강남구</td>\n",
       "    </tr>\n",
       "    <tr>\n",
       "      <th>1</th>\n",
       "      <td>20171009</td>\n",
       "      <td>한강대로</td>\n",
       "      <td>0.037</td>\n",
       "      <td>0.019</td>\n",
       "      <td>0.5</td>\n",
       "      <td>0.006</td>\n",
       "      <td>32.0</td>\n",
       "      <td>16.0</td>\n",
       "      <td>별도측정소</td>\n",
       "    </tr>\n",
       "    <tr>\n",
       "      <th>2</th>\n",
       "      <td>20171009</td>\n",
       "      <td>중구</td>\n",
       "      <td>0.031</td>\n",
       "      <td>0.025</td>\n",
       "      <td>0.5</td>\n",
       "      <td>0.005</td>\n",
       "      <td>25.0</td>\n",
       "      <td>18.0</td>\n",
       "      <td>중구</td>\n",
       "    </tr>\n",
       "    <tr>\n",
       "      <th>3</th>\n",
       "      <td>20171009</td>\n",
       "      <td>마포구</td>\n",
       "      <td>0.021</td>\n",
       "      <td>0.031</td>\n",
       "      <td>0.4</td>\n",
       "      <td>0.006</td>\n",
       "      <td>22.0</td>\n",
       "      <td>19.0</td>\n",
       "      <td>마포구</td>\n",
       "    </tr>\n",
       "    <tr>\n",
       "      <th>4</th>\n",
       "      <td>20171009</td>\n",
       "      <td>광진구</td>\n",
       "      <td>0.041</td>\n",
       "      <td>0.026</td>\n",
       "      <td>0.8</td>\n",
       "      <td>0.006</td>\n",
       "      <td>25.0</td>\n",
       "      <td>19.0</td>\n",
       "      <td>광진구</td>\n",
       "    </tr>\n",
       "  </tbody>\n",
       "</table>\n",
       "</div>"
      ],
      "text/plain": [
       "       date   loc    NO2     O3   CO    SO2  PM10  PM2.5 district\n",
       "0  20171009   강남구  0.024  0.020  0.4  0.007  28.0   22.0      강남구\n",
       "1  20171009  한강대로  0.037  0.019  0.5  0.006  32.0   16.0    별도측정소\n",
       "2  20171009    중구  0.031  0.025  0.5  0.005  25.0   18.0       중구\n",
       "3  20171009   마포구  0.021  0.031  0.4  0.006  22.0   19.0      마포구\n",
       "4  20171009   광진구  0.041  0.026  0.8  0.006  25.0   19.0      광진구"
      ]
     },
     "execution_count": 14,
     "metadata": {},
     "output_type": "execute_result"
    }
   ],
   "source": [
    "airdf.head(5)"
   ]
  },
  {
   "cell_type": "markdown",
   "metadata": {},
   "source": [
    "<div class=\"alert alert-block alert-info\">\n",
    "<b> Tip:</b> Series의 where가 아닌, numpy의 where 도 있음. 전자의 경우 조건이 True인 경우 원래 자신의 값인 반면 np.where는 True/False 모두 값을 지정</b> \n",
    "<pre> np.where(condition, A, B) = A.where(condition, B) </pre>\n",
    "</div>"
   ]
  },
  {
   "cell_type": "markdown",
   "metadata": {},
   "source": [
    "## Apply/ApplyMap : 함수를 사용해서 조건에 맞는 값을 선택"
   ]
  },
  {
   "cell_type": "markdown",
   "metadata": {},
   "source": [
    "<b> 단순한 True/False를 넘어서 복잡한 로직에 따른 값을 선택하고 싶다 </b> </br>\n",
    "<b> 예) PM2.5 값에 따라 4가지 레벨 ('좋음','보통','나쁨','아주나쁨')을 값을 dataframe에 추가 하고 싶다! </b>"
   ]
  },
  {
   "cell_type": "markdown",
   "metadata": {},
   "source": [
    "### PM2.5값에 따라 4가지 레벨을 리턴하는 함수"
   ]
  },
  {
   "cell_type": "code",
   "execution_count": 15,
   "metadata": {
    "execution": {
     "iopub.execute_input": "2020-08-03T11:25:49.063141Z",
     "iopub.status.busy": "2020-08-03T11:25:49.063141Z",
     "iopub.status.idle": "2020-08-03T11:25:49.076138Z",
     "shell.execute_reply": "2020-08-03T11:25:49.075140Z",
     "shell.execute_reply.started": "2020-08-03T11:25:49.063141Z"
    }
   },
   "outputs": [],
   "source": [
    "def pm25tolevel(value):\n",
    "    \"\"\" PM2.5 값에 따른 4단계 분류 값을 리턴\"\"\"\n",
    "    if value <= 15:\n",
    "        return 'good'\n",
    "    elif value <= 50:\n",
    "        return 'normal'\n",
    "    elif value <= 100:\n",
    "        return 'bad'\n",
    "    else:\n",
    "        return 'verybad'"
   ]
  },
  {
   "cell_type": "markdown",
   "metadata": {},
   "source": [
    "### Apply 함수 : Series/Dataframe에 적용 가능"
   ]
  },
  {
   "cell_type": "markdown",
   "metadata": {},
   "source": [
    "<b> PM2.5의 값을 레벨로 변환하여 'pm25_level' 컬럼에 저장 </b>"
   ]
  },
  {
   "cell_type": "code",
   "execution_count": 16,
   "metadata": {
    "execution": {
     "iopub.execute_input": "2020-08-03T11:25:49.077139Z",
     "iopub.status.busy": "2020-08-03T11:25:49.077139Z",
     "iopub.status.idle": "2020-08-03T11:25:49.099139Z",
     "shell.execute_reply": "2020-08-03T11:25:49.098138Z",
     "shell.execute_reply.started": "2020-08-03T11:25:49.077139Z"
    }
   },
   "outputs": [],
   "source": [
    "# 'PM2.5'가 lambda 함수의 'value'인자로 전달됨\n",
    "airdf['pm25_level'] = airdf['PM2.5'].apply(lambda value : pm25tolevel(value) )"
   ]
  },
  {
   "cell_type": "code",
   "execution_count": 17,
   "metadata": {
    "execution": {
     "iopub.execute_input": "2020-08-03T11:25:49.100140Z",
     "iopub.status.busy": "2020-08-03T11:25:49.100140Z",
     "iopub.status.idle": "2020-08-03T11:25:49.125140Z",
     "shell.execute_reply": "2020-08-03T11:25:49.124139Z",
     "shell.execute_reply.started": "2020-08-03T11:25:49.100140Z"
    }
   },
   "outputs": [
    {
     "data": {
      "text/html": [
       "<div>\n",
       "<style scoped>\n",
       "    .dataframe tbody tr th:only-of-type {\n",
       "        vertical-align: middle;\n",
       "    }\n",
       "\n",
       "    .dataframe tbody tr th {\n",
       "        vertical-align: top;\n",
       "    }\n",
       "\n",
       "    .dataframe thead th {\n",
       "        text-align: right;\n",
       "    }\n",
       "</style>\n",
       "<table border=\"1\" class=\"dataframe\">\n",
       "  <thead>\n",
       "    <tr style=\"text-align: right;\">\n",
       "      <th></th>\n",
       "      <th>date</th>\n",
       "      <th>loc</th>\n",
       "      <th>NO2</th>\n",
       "      <th>O3</th>\n",
       "      <th>CO</th>\n",
       "      <th>SO2</th>\n",
       "      <th>PM10</th>\n",
       "      <th>PM2.5</th>\n",
       "      <th>district</th>\n",
       "      <th>pm25_level</th>\n",
       "    </tr>\n",
       "  </thead>\n",
       "  <tbody>\n",
       "    <tr>\n",
       "      <th>0</th>\n",
       "      <td>20171009</td>\n",
       "      <td>강남구</td>\n",
       "      <td>0.024</td>\n",
       "      <td>0.020</td>\n",
       "      <td>0.4</td>\n",
       "      <td>0.007</td>\n",
       "      <td>28.0</td>\n",
       "      <td>22.0</td>\n",
       "      <td>강남구</td>\n",
       "      <td>normal</td>\n",
       "    </tr>\n",
       "    <tr>\n",
       "      <th>1</th>\n",
       "      <td>20171009</td>\n",
       "      <td>한강대로</td>\n",
       "      <td>0.037</td>\n",
       "      <td>0.019</td>\n",
       "      <td>0.5</td>\n",
       "      <td>0.006</td>\n",
       "      <td>32.0</td>\n",
       "      <td>16.0</td>\n",
       "      <td>별도측정소</td>\n",
       "      <td>normal</td>\n",
       "    </tr>\n",
       "  </tbody>\n",
       "</table>\n",
       "</div>"
      ],
      "text/plain": [
       "       date   loc    NO2     O3   CO    SO2  PM10  PM2.5 district pm25_level\n",
       "0  20171009   강남구  0.024  0.020  0.4  0.007  28.0   22.0      강남구     normal\n",
       "1  20171009  한강대로  0.037  0.019  0.5  0.006  32.0   16.0    별도측정소     normal"
      ]
     },
     "execution_count": 17,
     "metadata": {},
     "output_type": "execute_result"
    }
   ],
   "source": [
    "airdf.head(2)"
   ]
  },
  {
   "cell_type": "markdown",
   "metadata": {},
   "source": [
    "<b> PM10과 PM2.5의 두 가지 모두 verybad 레벨일 경우 'worst'라는 컬럼에 True로 저장 </b>"
   ]
  },
  {
   "cell_type": "code",
   "execution_count": 18,
   "metadata": {
    "execution": {
     "iopub.execute_input": "2020-08-03T11:25:49.127139Z",
     "iopub.status.busy": "2020-08-03T11:25:49.126141Z",
     "iopub.status.idle": "2020-08-03T11:25:49.437141Z",
     "shell.execute_reply": "2020-08-03T11:25:49.436140Z",
     "shell.execute_reply.started": "2020-08-03T11:25:49.127139Z"
    }
   },
   "outputs": [],
   "source": [
    "# 'PM2.5'가 lambda 함수의 'value'인자로 전달됨\n",
    "airdf['worst'] = airdf.apply(lambda row : True if row['PM2.5'] > 100 and row['PM10'] > 150 else False, axis=1)"
   ]
  },
  {
   "cell_type": "code",
   "execution_count": 19,
   "metadata": {
    "execution": {
     "iopub.execute_input": "2020-08-03T11:25:49.438140Z",
     "iopub.status.busy": "2020-08-03T11:25:49.438140Z",
     "iopub.status.idle": "2020-08-03T11:25:49.455140Z",
     "shell.execute_reply": "2020-08-03T11:25:49.454138Z",
     "shell.execute_reply.started": "2020-08-03T11:25:49.438140Z"
    }
   },
   "outputs": [
    {
     "data": {
      "text/html": [
       "<div>\n",
       "<style scoped>\n",
       "    .dataframe tbody tr th:only-of-type {\n",
       "        vertical-align: middle;\n",
       "    }\n",
       "\n",
       "    .dataframe tbody tr th {\n",
       "        vertical-align: top;\n",
       "    }\n",
       "\n",
       "    .dataframe thead th {\n",
       "        text-align: right;\n",
       "    }\n",
       "</style>\n",
       "<table border=\"1\" class=\"dataframe\">\n",
       "  <thead>\n",
       "    <tr style=\"text-align: right;\">\n",
       "      <th></th>\n",
       "      <th>date</th>\n",
       "      <th>loc</th>\n",
       "      <th>NO2</th>\n",
       "      <th>O3</th>\n",
       "      <th>CO</th>\n",
       "      <th>SO2</th>\n",
       "      <th>PM10</th>\n",
       "      <th>PM2.5</th>\n",
       "      <th>district</th>\n",
       "      <th>pm25_level</th>\n",
       "      <th>worst</th>\n",
       "    </tr>\n",
       "  </thead>\n",
       "  <tbody>\n",
       "    <tr>\n",
       "      <th>0</th>\n",
       "      <td>20171009</td>\n",
       "      <td>강남구</td>\n",
       "      <td>0.024</td>\n",
       "      <td>0.020</td>\n",
       "      <td>0.4</td>\n",
       "      <td>0.007</td>\n",
       "      <td>28.0</td>\n",
       "      <td>22.0</td>\n",
       "      <td>강남구</td>\n",
       "      <td>normal</td>\n",
       "      <td>False</td>\n",
       "    </tr>\n",
       "    <tr>\n",
       "      <th>1</th>\n",
       "      <td>20171009</td>\n",
       "      <td>한강대로</td>\n",
       "      <td>0.037</td>\n",
       "      <td>0.019</td>\n",
       "      <td>0.5</td>\n",
       "      <td>0.006</td>\n",
       "      <td>32.0</td>\n",
       "      <td>16.0</td>\n",
       "      <td>별도측정소</td>\n",
       "      <td>normal</td>\n",
       "      <td>False</td>\n",
       "    </tr>\n",
       "    <tr>\n",
       "      <th>2</th>\n",
       "      <td>20171009</td>\n",
       "      <td>중구</td>\n",
       "      <td>0.031</td>\n",
       "      <td>0.025</td>\n",
       "      <td>0.5</td>\n",
       "      <td>0.005</td>\n",
       "      <td>25.0</td>\n",
       "      <td>18.0</td>\n",
       "      <td>중구</td>\n",
       "      <td>normal</td>\n",
       "      <td>False</td>\n",
       "    </tr>\n",
       "    <tr>\n",
       "      <th>3</th>\n",
       "      <td>20171009</td>\n",
       "      <td>마포구</td>\n",
       "      <td>0.021</td>\n",
       "      <td>0.031</td>\n",
       "      <td>0.4</td>\n",
       "      <td>0.006</td>\n",
       "      <td>22.0</td>\n",
       "      <td>19.0</td>\n",
       "      <td>마포구</td>\n",
       "      <td>normal</td>\n",
       "      <td>False</td>\n",
       "    </tr>\n",
       "    <tr>\n",
       "      <th>4</th>\n",
       "      <td>20171009</td>\n",
       "      <td>광진구</td>\n",
       "      <td>0.041</td>\n",
       "      <td>0.026</td>\n",
       "      <td>0.8</td>\n",
       "      <td>0.006</td>\n",
       "      <td>25.0</td>\n",
       "      <td>19.0</td>\n",
       "      <td>광진구</td>\n",
       "      <td>normal</td>\n",
       "      <td>False</td>\n",
       "    </tr>\n",
       "  </tbody>\n",
       "</table>\n",
       "</div>"
      ],
      "text/plain": [
       "       date   loc    NO2     O3   CO    SO2  PM10  PM2.5 district pm25_level  \\\n",
       "0  20171009   강남구  0.024  0.020  0.4  0.007  28.0   22.0      강남구     normal   \n",
       "1  20171009  한강대로  0.037  0.019  0.5  0.006  32.0   16.0    별도측정소     normal   \n",
       "2  20171009    중구  0.031  0.025  0.5  0.005  25.0   18.0       중구     normal   \n",
       "3  20171009   마포구  0.021  0.031  0.4  0.006  22.0   19.0      마포구     normal   \n",
       "4  20171009   광진구  0.041  0.026  0.8  0.006  25.0   19.0      광진구     normal   \n",
       "\n",
       "   worst  \n",
       "0  False  \n",
       "1  False  \n",
       "2  False  \n",
       "3  False  \n",
       "4  False  "
      ]
     },
     "execution_count": 19,
     "metadata": {},
     "output_type": "execute_result"
    }
   ],
   "source": [
    "airdf.head(5)"
   ]
  },
  {
   "cell_type": "markdown",
   "metadata": {},
   "source": [
    "<div class=\"alert alert-block alert-info\">\n",
    "<b> Tip:</b> Apply 기능은, Series일 경우 하나의 개별 value에, Dataframe의 경우 개별 row에 함수를 적용</b>\n",
    "</div>"
   ]
  },
  {
   "cell_type": "code",
   "execution_count": 20,
   "metadata": {
    "execution": {
     "iopub.execute_input": "2020-08-03T11:25:49.456143Z",
     "iopub.status.busy": "2020-08-03T11:25:49.456143Z",
     "iopub.status.idle": "2020-08-03T11:25:49.481139Z",
     "shell.execute_reply": "2020-08-03T11:25:49.480141Z",
     "shell.execute_reply.started": "2020-08-03T11:25:49.456143Z"
    }
   },
   "outputs": [
    {
     "data": {
      "text/plain": [
       "0    normal\n",
       "1    normal\n",
       "2    normal\n",
       "3    normal\n",
       "4    normal\n",
       "Name: PM2.5, dtype: object"
      ]
     },
     "execution_count": 20,
     "metadata": {},
     "output_type": "execute_result"
    }
   ],
   "source": [
    "airdf['PM2.5'].map(lambda value : pm25tolevel(value) ).head(5)"
   ]
  },
  {
   "cell_type": "code",
   "execution_count": 21,
   "metadata": {
    "execution": {
     "iopub.execute_input": "2020-08-03T11:25:49.482140Z",
     "iopub.status.busy": "2020-08-03T11:25:49.482140Z",
     "iopub.status.idle": "2020-08-03T11:25:49.554140Z",
     "shell.execute_reply": "2020-08-03T11:25:49.554140Z",
     "shell.execute_reply.started": "2020-08-03T11:25:49.482140Z"
    }
   },
   "outputs": [
    {
     "data": {
      "text/html": [
       "<div>\n",
       "<style scoped>\n",
       "    .dataframe tbody tr th:only-of-type {\n",
       "        vertical-align: middle;\n",
       "    }\n",
       "\n",
       "    .dataframe tbody tr th {\n",
       "        vertical-align: top;\n",
       "    }\n",
       "\n",
       "    .dataframe thead th {\n",
       "        text-align: right;\n",
       "    }\n",
       "</style>\n",
       "<table border=\"1\" class=\"dataframe\">\n",
       "  <thead>\n",
       "    <tr style=\"text-align: right;\">\n",
       "      <th></th>\n",
       "      <th>date</th>\n",
       "      <th>loc</th>\n",
       "      <th>NO2</th>\n",
       "      <th>O3</th>\n",
       "      <th>CO</th>\n",
       "      <th>SO2</th>\n",
       "      <th>PM10</th>\n",
       "      <th>PM2.5</th>\n",
       "      <th>district</th>\n",
       "      <th>pm25_level</th>\n",
       "      <th>worst</th>\n",
       "    </tr>\n",
       "  </thead>\n",
       "  <tbody>\n",
       "    <tr>\n",
       "      <th>0</th>\n",
       "      <td>True</td>\n",
       "      <td>True</td>\n",
       "      <td>True</td>\n",
       "      <td>True</td>\n",
       "      <td>True</td>\n",
       "      <td>True</td>\n",
       "      <td>True</td>\n",
       "      <td>True</td>\n",
       "      <td>True</td>\n",
       "      <td>True</td>\n",
       "      <td>True</td>\n",
       "    </tr>\n",
       "    <tr>\n",
       "      <th>1</th>\n",
       "      <td>True</td>\n",
       "      <td>True</td>\n",
       "      <td>True</td>\n",
       "      <td>True</td>\n",
       "      <td>True</td>\n",
       "      <td>True</td>\n",
       "      <td>True</td>\n",
       "      <td>True</td>\n",
       "      <td>True</td>\n",
       "      <td>True</td>\n",
       "      <td>True</td>\n",
       "    </tr>\n",
       "    <tr>\n",
       "      <th>2</th>\n",
       "      <td>True</td>\n",
       "      <td>True</td>\n",
       "      <td>True</td>\n",
       "      <td>True</td>\n",
       "      <td>True</td>\n",
       "      <td>True</td>\n",
       "      <td>True</td>\n",
       "      <td>True</td>\n",
       "      <td>True</td>\n",
       "      <td>True</td>\n",
       "      <td>True</td>\n",
       "    </tr>\n",
       "    <tr>\n",
       "      <th>3</th>\n",
       "      <td>True</td>\n",
       "      <td>True</td>\n",
       "      <td>True</td>\n",
       "      <td>True</td>\n",
       "      <td>True</td>\n",
       "      <td>True</td>\n",
       "      <td>True</td>\n",
       "      <td>True</td>\n",
       "      <td>True</td>\n",
       "      <td>True</td>\n",
       "      <td>True</td>\n",
       "    </tr>\n",
       "    <tr>\n",
       "      <th>4</th>\n",
       "      <td>True</td>\n",
       "      <td>True</td>\n",
       "      <td>True</td>\n",
       "      <td>True</td>\n",
       "      <td>True</td>\n",
       "      <td>True</td>\n",
       "      <td>True</td>\n",
       "      <td>True</td>\n",
       "      <td>True</td>\n",
       "      <td>True</td>\n",
       "      <td>True</td>\n",
       "    </tr>\n",
       "  </tbody>\n",
       "</table>\n",
       "</div>"
      ],
      "text/plain": [
       "   date   loc   NO2    O3    CO   SO2  PM10  PM2.5  district  pm25_level  \\\n",
       "0  True  True  True  True  True  True  True   True      True        True   \n",
       "1  True  True  True  True  True  True  True   True      True        True   \n",
       "2  True  True  True  True  True  True  True   True      True        True   \n",
       "3  True  True  True  True  True  True  True   True      True        True   \n",
       "4  True  True  True  True  True  True  True   True      True        True   \n",
       "\n",
       "   worst  \n",
       "0   True  \n",
       "1   True  \n",
       "2   True  \n",
       "3   True  \n",
       "4   True  "
      ]
     },
     "execution_count": 21,
     "metadata": {},
     "output_type": "execute_result"
    }
   ],
   "source": [
    "airdf.applymap(lambda value : True).head(5)"
   ]
  },
  {
   "cell_type": "code",
   "execution_count": 22,
   "metadata": {
    "execution": {
     "iopub.execute_input": "2020-08-03T11:25:49.561140Z",
     "iopub.status.busy": "2020-08-03T11:25:49.561140Z",
     "iopub.status.idle": "2020-08-03T11:25:49.577143Z",
     "shell.execute_reply": "2020-08-03T11:25:49.576144Z",
     "shell.execute_reply.started": "2020-08-03T11:25:49.561140Z"
    }
   },
   "outputs": [
    {
     "data": {
      "text/html": [
       "<div>\n",
       "<style scoped>\n",
       "    .dataframe tbody tr th:only-of-type {\n",
       "        vertical-align: middle;\n",
       "    }\n",
       "\n",
       "    .dataframe tbody tr th {\n",
       "        vertical-align: top;\n",
       "    }\n",
       "\n",
       "    .dataframe thead th {\n",
       "        text-align: right;\n",
       "    }\n",
       "</style>\n",
       "<table border=\"1\" class=\"dataframe\">\n",
       "  <thead>\n",
       "    <tr style=\"text-align: right;\">\n",
       "      <th></th>\n",
       "      <th>date</th>\n",
       "      <th>loc</th>\n",
       "      <th>NO2</th>\n",
       "      <th>O3</th>\n",
       "      <th>CO</th>\n",
       "      <th>SO2</th>\n",
       "      <th>PM10</th>\n",
       "      <th>PM2.5</th>\n",
       "      <th>district</th>\n",
       "      <th>pm25_level</th>\n",
       "      <th>worst</th>\n",
       "    </tr>\n",
       "  </thead>\n",
       "  <tbody>\n",
       "    <tr>\n",
       "      <th>0</th>\n",
       "      <td>20171009</td>\n",
       "      <td>강남구</td>\n",
       "      <td>0.024</td>\n",
       "      <td>0.020</td>\n",
       "      <td>0.4</td>\n",
       "      <td>0.007</td>\n",
       "      <td>28.0</td>\n",
       "      <td>22.0</td>\n",
       "      <td>강남구</td>\n",
       "      <td>normal</td>\n",
       "      <td>False</td>\n",
       "    </tr>\n",
       "    <tr>\n",
       "      <th>1</th>\n",
       "      <td>20171009</td>\n",
       "      <td>한강대로</td>\n",
       "      <td>0.037</td>\n",
       "      <td>0.019</td>\n",
       "      <td>0.5</td>\n",
       "      <td>0.006</td>\n",
       "      <td>32.0</td>\n",
       "      <td>16.0</td>\n",
       "      <td>별도측정소</td>\n",
       "      <td>normal</td>\n",
       "      <td>False</td>\n",
       "    </tr>\n",
       "  </tbody>\n",
       "</table>\n",
       "</div>"
      ],
      "text/plain": [
       "       date   loc    NO2     O3   CO    SO2  PM10  PM2.5 district pm25_level  \\\n",
       "0  20171009   강남구  0.024  0.020  0.4  0.007  28.0   22.0      강남구     normal   \n",
       "1  20171009  한강대로  0.037  0.019  0.5  0.006  32.0   16.0    별도측정소     normal   \n",
       "\n",
       "   worst  \n",
       "0  False  \n",
       "1  False  "
      ]
     },
     "execution_count": 22,
     "metadata": {},
     "output_type": "execute_result"
    }
   ],
   "source": [
    "airdf.head(2)"
   ]
  },
  {
   "cell_type": "markdown",
   "metadata": {},
   "source": [
    "<div class=\"alert alert-block alert-info\">\n",
    "<b> Tip:</b> map (for Series), applymap (for Dataframe)은 elementwise로 함수를 적용하고 결과를 전달 </b>\n",
    "</div>"
   ]
  },
  {
   "cell_type": "markdown",
   "metadata": {},
   "source": [
    "# Data Frame merge, join"
   ]
  },
  {
   "cell_type": "markdown",
   "metadata": {},
   "source": [
    "<b> 끝 부분에서, 다음 가설을 확인해 보려 합니다. => 녹지가 많은 지역의 대기 오염도가 낮은 걸 아닐까? </b> (DBMS의 Join) <br>\n",
    "<b> 가설 확인을 위해서, 대기오염 정보 dataframe과 공원녹지 정보 dataframe을 연결 해야함! </b>"
   ]
  },
  {
   "cell_type": "markdown",
   "metadata": {},
   "source": [
    "\n",
    "\n",
    "<table>\n",
    "  <tr>\n",
    "      <th> airdf </th>\n",
    "      <th> -------- </th>\n",
    "      <th> parkdf </th>\n",
    "  </tr>\n",
    "  <tr>\n",
    "      <td> <pre>\n",
    "|    |     date | loc      |   NO2 |    O3 |   CO |   SO2 |   PM10 |   PM2.5 |\n",
    "|---:|---------:|:---------|------:|------:|-----:|------:|-------:|--------:|\n",
    "|  0 | 20171009 | 강남구   | 0.024 | 0.02  |  0.4 | 0.007 |     28 |      22 |\n",
    "|  1 | 20171009 | 한강대로 | 0.037 | 0.019 |  0.5 | 0.006 |     32 |      16 |\n",
    "|  2 | 20171009 | 중구     | 0.031 | 0.025 |  0.5 | 0.005 |     25 |      18 |\n",
    "|  3 | 20171009 | 마포구   | 0.021 | 0.031 |  0.4 | 0.006 |     22 |      19 |\n",
    "|  4 | 20171009 | 광진구   | 0.041 | 0.026 |  0.8 | 0.006 |     25 |      19 |\n",
    "          </pre>\n",
    "      </td> \n",
    "      <td> </td>\n",
    "      <td>\n",
    "      <pre>\n",
    "|    | loc    | total_area   | park_area   |   park_ratio |\n",
    "|---:|:-------|:-------------|:------------|-------------:|\n",
    "|  0 | 합계   | 605,196,566  | 168,843,299 |        27.9  |\n",
    "|  1 | 종로구 | 23,912,883   | 11,555,792  |        48.32 |\n",
    "|  2 | 중구   | 9,960,930    | 3,131,968   |        31.44 |\n",
    "|  3 | 용산구 | 21,866,844   | 1,795,641   |         8.21 |\n",
    "|  4 | 성동구 | 16,860,100   | 3,102,064   |        18.4  |\n",
    " </pre>\n",
    "      </td>\n",
    "    </tr>\n",
    "</table>\n",
    "    "
   ]
  },
  {
   "cell_type": "markdown",
   "metadata": {},
   "source": [
    "## Merge 명령어로 column(s)을 공유하는 두 dataframe을 병합!"
   ]
  },
  {
   "cell_type": "code",
   "execution_count": 23,
   "metadata": {
    "execution": {
     "iopub.execute_input": "2020-08-03T11:25:49.579144Z",
     "iopub.status.busy": "2020-08-03T11:25:49.579144Z",
     "iopub.status.idle": "2020-08-03T11:25:49.615143Z",
     "shell.execute_reply": "2020-08-03T11:25:49.614150Z",
     "shell.execute_reply.started": "2020-08-03T11:25:49.579144Z"
    }
   },
   "outputs": [
    {
     "data": {
      "text/html": [
       "<div>\n",
       "<style scoped>\n",
       "    .dataframe tbody tr th:only-of-type {\n",
       "        vertical-align: middle;\n",
       "    }\n",
       "\n",
       "    .dataframe tbody tr th {\n",
       "        vertical-align: top;\n",
       "    }\n",
       "\n",
       "    .dataframe thead th {\n",
       "        text-align: right;\n",
       "    }\n",
       "</style>\n",
       "<table border=\"1\" class=\"dataframe\">\n",
       "  <thead>\n",
       "    <tr style=\"text-align: right;\">\n",
       "      <th></th>\n",
       "      <th>date</th>\n",
       "      <th>loc</th>\n",
       "      <th>NO2</th>\n",
       "      <th>O3</th>\n",
       "      <th>CO</th>\n",
       "      <th>SO2</th>\n",
       "      <th>PM10</th>\n",
       "      <th>PM2.5</th>\n",
       "      <th>district</th>\n",
       "      <th>pm25_level</th>\n",
       "      <th>worst</th>\n",
       "      <th>total_area</th>\n",
       "      <th>park_area</th>\n",
       "      <th>park_ratio</th>\n",
       "    </tr>\n",
       "  </thead>\n",
       "  <tbody>\n",
       "    <tr>\n",
       "      <th>0</th>\n",
       "      <td>20171009</td>\n",
       "      <td>강남구</td>\n",
       "      <td>0.024</td>\n",
       "      <td>0.020</td>\n",
       "      <td>0.4</td>\n",
       "      <td>0.007</td>\n",
       "      <td>28.0</td>\n",
       "      <td>22.0</td>\n",
       "      <td>강남구</td>\n",
       "      <td>normal</td>\n",
       "      <td>False</td>\n",
       "      <td>39,501,308</td>\n",
       "      <td>6,591,655</td>\n",
       "      <td>16.69</td>\n",
       "    </tr>\n",
       "    <tr>\n",
       "      <th>1</th>\n",
       "      <td>20171009</td>\n",
       "      <td>한강대로</td>\n",
       "      <td>0.037</td>\n",
       "      <td>0.019</td>\n",
       "      <td>0.5</td>\n",
       "      <td>0.006</td>\n",
       "      <td>32.0</td>\n",
       "      <td>16.0</td>\n",
       "      <td>별도측정소</td>\n",
       "      <td>normal</td>\n",
       "      <td>False</td>\n",
       "      <td>NaN</td>\n",
       "      <td>NaN</td>\n",
       "      <td>NaN</td>\n",
       "    </tr>\n",
       "    <tr>\n",
       "      <th>2</th>\n",
       "      <td>20171009</td>\n",
       "      <td>중구</td>\n",
       "      <td>0.031</td>\n",
       "      <td>0.025</td>\n",
       "      <td>0.5</td>\n",
       "      <td>0.005</td>\n",
       "      <td>25.0</td>\n",
       "      <td>18.0</td>\n",
       "      <td>중구</td>\n",
       "      <td>normal</td>\n",
       "      <td>False</td>\n",
       "      <td>9,960,930</td>\n",
       "      <td>3,131,968</td>\n",
       "      <td>31.44</td>\n",
       "    </tr>\n",
       "    <tr>\n",
       "      <th>3</th>\n",
       "      <td>20171009</td>\n",
       "      <td>마포구</td>\n",
       "      <td>0.021</td>\n",
       "      <td>0.031</td>\n",
       "      <td>0.4</td>\n",
       "      <td>0.006</td>\n",
       "      <td>22.0</td>\n",
       "      <td>19.0</td>\n",
       "      <td>마포구</td>\n",
       "      <td>normal</td>\n",
       "      <td>False</td>\n",
       "      <td>23,843,621</td>\n",
       "      <td>4,439,901</td>\n",
       "      <td>18.62</td>\n",
       "    </tr>\n",
       "    <tr>\n",
       "      <th>4</th>\n",
       "      <td>20171009</td>\n",
       "      <td>광진구</td>\n",
       "      <td>0.041</td>\n",
       "      <td>0.026</td>\n",
       "      <td>0.8</td>\n",
       "      <td>0.006</td>\n",
       "      <td>25.0</td>\n",
       "      <td>19.0</td>\n",
       "      <td>광진구</td>\n",
       "      <td>normal</td>\n",
       "      <td>False</td>\n",
       "      <td>17,063,230</td>\n",
       "      <td>3,363,048</td>\n",
       "      <td>19.71</td>\n",
       "    </tr>\n",
       "  </tbody>\n",
       "</table>\n",
       "</div>"
      ],
      "text/plain": [
       "       date   loc    NO2     O3   CO    SO2  PM10  PM2.5 district pm25_level  \\\n",
       "0  20171009   강남구  0.024  0.020  0.4  0.007  28.0   22.0      강남구     normal   \n",
       "1  20171009  한강대로  0.037  0.019  0.5  0.006  32.0   16.0    별도측정소     normal   \n",
       "2  20171009    중구  0.031  0.025  0.5  0.005  25.0   18.0       중구     normal   \n",
       "3  20171009   마포구  0.021  0.031  0.4  0.006  22.0   19.0      마포구     normal   \n",
       "4  20171009   광진구  0.041  0.026  0.8  0.006  25.0   19.0      광진구     normal   \n",
       "\n",
       "   worst  total_area  park_area  park_ratio  \n",
       "0  False  39,501,308  6,591,655       16.69  \n",
       "1  False         NaN        NaN         NaN  \n",
       "2  False   9,960,930  3,131,968       31.44  \n",
       "3  False  23,843,621  4,439,901       18.62  \n",
       "4  False  17,063,230  3,363,048       19.71  "
      ]
     },
     "execution_count": 23,
     "metadata": {},
     "output_type": "execute_result"
    }
   ],
   "source": [
    "airdf.merge(parkdf, on='loc', how='left').head()"
   ]
  },
  {
   "cell_type": "code",
   "execution_count": 24,
   "metadata": {
    "execution": {
     "iopub.execute_input": "2020-08-03T11:25:49.616140Z",
     "iopub.status.busy": "2020-08-03T11:25:49.616140Z",
     "iopub.status.idle": "2020-08-03T11:25:49.641143Z",
     "shell.execute_reply": "2020-08-03T11:25:49.641143Z",
     "shell.execute_reply.started": "2020-08-03T11:25:49.616140Z"
    }
   },
   "outputs": [
    {
     "data": {
      "text/html": [
       "<div>\n",
       "<style scoped>\n",
       "    .dataframe tbody tr th:only-of-type {\n",
       "        vertical-align: middle;\n",
       "    }\n",
       "\n",
       "    .dataframe tbody tr th {\n",
       "        vertical-align: top;\n",
       "    }\n",
       "\n",
       "    .dataframe thead th {\n",
       "        text-align: right;\n",
       "    }\n",
       "</style>\n",
       "<table border=\"1\" class=\"dataframe\">\n",
       "  <thead>\n",
       "    <tr style=\"text-align: right;\">\n",
       "      <th></th>\n",
       "      <th>date</th>\n",
       "      <th>loc</th>\n",
       "      <th>NO2</th>\n",
       "      <th>O3</th>\n",
       "      <th>CO</th>\n",
       "      <th>SO2</th>\n",
       "      <th>PM10</th>\n",
       "      <th>PM2.5</th>\n",
       "      <th>district</th>\n",
       "      <th>pm25_level</th>\n",
       "      <th>worst</th>\n",
       "      <th>total_area</th>\n",
       "      <th>park_area</th>\n",
       "      <th>park_ratio</th>\n",
       "    </tr>\n",
       "  </thead>\n",
       "  <tbody>\n",
       "    <tr>\n",
       "      <th>0</th>\n",
       "      <td>20171009</td>\n",
       "      <td>강남구</td>\n",
       "      <td>0.024</td>\n",
       "      <td>0.020</td>\n",
       "      <td>0.4</td>\n",
       "      <td>0.007</td>\n",
       "      <td>28.0</td>\n",
       "      <td>22.0</td>\n",
       "      <td>강남구</td>\n",
       "      <td>normal</td>\n",
       "      <td>False</td>\n",
       "      <td>39,501,308</td>\n",
       "      <td>6,591,655</td>\n",
       "      <td>16.69</td>\n",
       "    </tr>\n",
       "    <tr>\n",
       "      <th>1</th>\n",
       "      <td>20171009</td>\n",
       "      <td>한강대로</td>\n",
       "      <td>0.037</td>\n",
       "      <td>0.019</td>\n",
       "      <td>0.5</td>\n",
       "      <td>0.006</td>\n",
       "      <td>32.0</td>\n",
       "      <td>16.0</td>\n",
       "      <td>별도측정소</td>\n",
       "      <td>normal</td>\n",
       "      <td>False</td>\n",
       "      <td>NaN</td>\n",
       "      <td>NaN</td>\n",
       "      <td>NaN</td>\n",
       "    </tr>\n",
       "    <tr>\n",
       "      <th>2</th>\n",
       "      <td>20171009</td>\n",
       "      <td>중구</td>\n",
       "      <td>0.031</td>\n",
       "      <td>0.025</td>\n",
       "      <td>0.5</td>\n",
       "      <td>0.005</td>\n",
       "      <td>25.0</td>\n",
       "      <td>18.0</td>\n",
       "      <td>중구</td>\n",
       "      <td>normal</td>\n",
       "      <td>False</td>\n",
       "      <td>9,960,930</td>\n",
       "      <td>3,131,968</td>\n",
       "      <td>31.44</td>\n",
       "    </tr>\n",
       "    <tr>\n",
       "      <th>3</th>\n",
       "      <td>20171009</td>\n",
       "      <td>마포구</td>\n",
       "      <td>0.021</td>\n",
       "      <td>0.031</td>\n",
       "      <td>0.4</td>\n",
       "      <td>0.006</td>\n",
       "      <td>22.0</td>\n",
       "      <td>19.0</td>\n",
       "      <td>마포구</td>\n",
       "      <td>normal</td>\n",
       "      <td>False</td>\n",
       "      <td>23,843,621</td>\n",
       "      <td>4,439,901</td>\n",
       "      <td>18.62</td>\n",
       "    </tr>\n",
       "    <tr>\n",
       "      <th>4</th>\n",
       "      <td>20171009</td>\n",
       "      <td>광진구</td>\n",
       "      <td>0.041</td>\n",
       "      <td>0.026</td>\n",
       "      <td>0.8</td>\n",
       "      <td>0.006</td>\n",
       "      <td>25.0</td>\n",
       "      <td>19.0</td>\n",
       "      <td>광진구</td>\n",
       "      <td>normal</td>\n",
       "      <td>False</td>\n",
       "      <td>17,063,230</td>\n",
       "      <td>3,363,048</td>\n",
       "      <td>19.71</td>\n",
       "    </tr>\n",
       "  </tbody>\n",
       "</table>\n",
       "</div>"
      ],
      "text/plain": [
       "       date   loc    NO2     O3   CO    SO2  PM10  PM2.5 district pm25_level  \\\n",
       "0  20171009   강남구  0.024  0.020  0.4  0.007  28.0   22.0      강남구     normal   \n",
       "1  20171009  한강대로  0.037  0.019  0.5  0.006  32.0   16.0    별도측정소     normal   \n",
       "2  20171009    중구  0.031  0.025  0.5  0.005  25.0   18.0       중구     normal   \n",
       "3  20171009   마포구  0.021  0.031  0.4  0.006  22.0   19.0      마포구     normal   \n",
       "4  20171009   광진구  0.041  0.026  0.8  0.006  25.0   19.0      광진구     normal   \n",
       "\n",
       "   worst  total_area  park_area  park_ratio  \n",
       "0  False  39,501,308  6,591,655       16.69  \n",
       "1  False         NaN        NaN         NaN  \n",
       "2  False   9,960,930  3,131,968       31.44  \n",
       "3  False  23,843,621  4,439,901       18.62  \n",
       "4  False  17,063,230  3,363,048       19.71  "
      ]
     },
     "execution_count": 24,
     "metadata": {},
     "output_type": "execute_result"
    }
   ],
   "source": [
    "pd.merge(airdf, parkdf, on='loc', how='left').head()"
   ]
  },
  {
   "cell_type": "markdown",
   "metadata": {},
   "source": [
    "<div class=\"alert alert-block alert-info\">\n",
    "<b> Tip:</b> merge 함수에서 두 Dataframe의 join column이 다른 경우, left_on='loc', right_on='loc'와 같이 직접 join key를 지정해 주면 된다. </b> <br>\n",
    "<b> Tip:</b> join 시에 left, right, outer 등의 방식 선정은 how='left'와 같은 방식으로 지정해 주면 된다. </b>\n",
    "</div>"
   ]
  },
  {
   "cell_type": "markdown",
   "metadata": {},
   "source": [
    "## Join 명령어로 index가 같은 두 dataframe을 병합!"
   ]
  },
  {
   "cell_type": "code",
   "execution_count": 25,
   "metadata": {
    "execution": {
     "iopub.execute_input": "2020-08-03T11:25:49.643144Z",
     "iopub.status.busy": "2020-08-03T11:25:49.643144Z",
     "iopub.status.idle": "2020-08-03T11:25:49.674143Z",
     "shell.execute_reply": "2020-08-03T11:25:49.673144Z",
     "shell.execute_reply.started": "2020-08-03T11:25:49.643144Z"
    }
   },
   "outputs": [
    {
     "data": {
      "text/html": [
       "<div>\n",
       "<style scoped>\n",
       "    .dataframe tbody tr th:only-of-type {\n",
       "        vertical-align: middle;\n",
       "    }\n",
       "\n",
       "    .dataframe tbody tr th {\n",
       "        vertical-align: top;\n",
       "    }\n",
       "\n",
       "    .dataframe thead th {\n",
       "        text-align: right;\n",
       "    }\n",
       "</style>\n",
       "<table border=\"1\" class=\"dataframe\">\n",
       "  <thead>\n",
       "    <tr style=\"text-align: right;\">\n",
       "      <th></th>\n",
       "      <th>date</th>\n",
       "      <th>NO2</th>\n",
       "      <th>O3</th>\n",
       "      <th>CO</th>\n",
       "      <th>SO2</th>\n",
       "      <th>PM10</th>\n",
       "      <th>PM2.5</th>\n",
       "      <th>district</th>\n",
       "      <th>pm25_level</th>\n",
       "      <th>worst</th>\n",
       "      <th>total_area</th>\n",
       "      <th>park_area</th>\n",
       "      <th>park_ratio</th>\n",
       "    </tr>\n",
       "    <tr>\n",
       "      <th>loc</th>\n",
       "      <th></th>\n",
       "      <th></th>\n",
       "      <th></th>\n",
       "      <th></th>\n",
       "      <th></th>\n",
       "      <th></th>\n",
       "      <th></th>\n",
       "      <th></th>\n",
       "      <th></th>\n",
       "      <th></th>\n",
       "      <th></th>\n",
       "      <th></th>\n",
       "      <th></th>\n",
       "    </tr>\n",
       "  </thead>\n",
       "  <tbody>\n",
       "    <tr>\n",
       "      <th>강남구</th>\n",
       "      <td>20171009</td>\n",
       "      <td>0.024</td>\n",
       "      <td>0.020</td>\n",
       "      <td>0.4</td>\n",
       "      <td>0.007</td>\n",
       "      <td>28.0</td>\n",
       "      <td>22.0</td>\n",
       "      <td>강남구</td>\n",
       "      <td>normal</td>\n",
       "      <td>False</td>\n",
       "      <td>39,501,308</td>\n",
       "      <td>6,591,655</td>\n",
       "      <td>16.69</td>\n",
       "    </tr>\n",
       "    <tr>\n",
       "      <th>강남구</th>\n",
       "      <td>20171008</td>\n",
       "      <td>0.022</td>\n",
       "      <td>0.020</td>\n",
       "      <td>0.4</td>\n",
       "      <td>0.005</td>\n",
       "      <td>16.0</td>\n",
       "      <td>12.0</td>\n",
       "      <td>강남구</td>\n",
       "      <td>good</td>\n",
       "      <td>False</td>\n",
       "      <td>39,501,308</td>\n",
       "      <td>6,591,655</td>\n",
       "      <td>16.69</td>\n",
       "    </tr>\n",
       "    <tr>\n",
       "      <th>강남구</th>\n",
       "      <td>20171007</td>\n",
       "      <td>0.020</td>\n",
       "      <td>0.018</td>\n",
       "      <td>0.3</td>\n",
       "      <td>0.004</td>\n",
       "      <td>7.0</td>\n",
       "      <td>5.0</td>\n",
       "      <td>강남구</td>\n",
       "      <td>good</td>\n",
       "      <td>False</td>\n",
       "      <td>39,501,308</td>\n",
       "      <td>6,591,655</td>\n",
       "      <td>16.69</td>\n",
       "    </tr>\n",
       "    <tr>\n",
       "      <th>강남구</th>\n",
       "      <td>20171006</td>\n",
       "      <td>0.013</td>\n",
       "      <td>0.020</td>\n",
       "      <td>0.3</td>\n",
       "      <td>0.004</td>\n",
       "      <td>10.0</td>\n",
       "      <td>5.0</td>\n",
       "      <td>강남구</td>\n",
       "      <td>good</td>\n",
       "      <td>False</td>\n",
       "      <td>39,501,308</td>\n",
       "      <td>6,591,655</td>\n",
       "      <td>16.69</td>\n",
       "    </tr>\n",
       "    <tr>\n",
       "      <th>강남구</th>\n",
       "      <td>20171005</td>\n",
       "      <td>0.013</td>\n",
       "      <td>0.021</td>\n",
       "      <td>0.3</td>\n",
       "      <td>0.004</td>\n",
       "      <td>13.0</td>\n",
       "      <td>6.0</td>\n",
       "      <td>강남구</td>\n",
       "      <td>good</td>\n",
       "      <td>False</td>\n",
       "      <td>39,501,308</td>\n",
       "      <td>6,591,655</td>\n",
       "      <td>16.69</td>\n",
       "    </tr>\n",
       "  </tbody>\n",
       "</table>\n",
       "</div>"
      ],
      "text/plain": [
       "         date    NO2     O3   CO    SO2  PM10  PM2.5 district pm25_level  \\\n",
       "loc                                                                        \n",
       "강남구  20171009  0.024  0.020  0.4  0.007  28.0   22.0      강남구     normal   \n",
       "강남구  20171008  0.022  0.020  0.4  0.005  16.0   12.0      강남구       good   \n",
       "강남구  20171007  0.020  0.018  0.3  0.004   7.0    5.0      강남구       good   \n",
       "강남구  20171006  0.013  0.020  0.3  0.004  10.0    5.0      강남구       good   \n",
       "강남구  20171005  0.013  0.021  0.3  0.004  13.0    6.0      강남구       good   \n",
       "\n",
       "     worst  total_area  park_area  park_ratio  \n",
       "loc                                            \n",
       "강남구  False  39,501,308  6,591,655       16.69  \n",
       "강남구  False  39,501,308  6,591,655       16.69  \n",
       "강남구  False  39,501,308  6,591,655       16.69  \n",
       "강남구  False  39,501,308  6,591,655       16.69  \n",
       "강남구  False  39,501,308  6,591,655       16.69  "
      ]
     },
     "execution_count": 25,
     "metadata": {},
     "output_type": "execute_result"
    }
   ],
   "source": [
    "airdf.set_index('loc').join(parkdf.set_index('loc'), how='left').head()"
   ]
  },
  {
   "cell_type": "markdown",
   "metadata": {},
   "source": [
    "<div class=\"alert alert-block alert-info\">\n",
    "<b> Tip:</b> join함수는 index가 같은 두 Dataframe을 병합하는데 사용됨\n",
    "</div>"
   ]
  },
  {
   "cell_type": "code",
   "execution_count": 26,
   "metadata": {
    "execution": {
     "iopub.execute_input": "2020-08-03T11:25:49.675143Z",
     "iopub.status.busy": "2020-08-03T11:25:49.675143Z",
     "iopub.status.idle": "2020-08-03T11:25:49.686142Z",
     "shell.execute_reply": "2020-08-03T11:25:49.686142Z",
     "shell.execute_reply.started": "2020-08-03T11:25:49.675143Z"
    }
   },
   "outputs": [],
   "source": [
    "mergedf = airdf.merge(parkdf, on='loc', how='left')"
   ]
  },
  {
   "cell_type": "markdown",
   "metadata": {},
   "source": [
    "# Pivot/Pivot_table"
   ]
  },
  {
   "cell_type": "markdown",
   "metadata": {
    "execution": {
     "iopub.execute_input": "2020-08-01T07:25:46.524057Z",
     "iopub.status.busy": "2020-08-01T07:25:46.524057Z",
     "iopub.status.idle": "2020-08-01T07:25:46.531056Z",
     "shell.execute_reply": "2020-08-01T07:25:46.530057Z",
     "shell.execute_reply.started": "2020-08-01T07:25:46.524057Z"
    }
   },
   "source": [
    "<b> 엑셀의 Pivot과 유사한 기능을 제공. </b>"
   ]
  },
  {
   "cell_type": "code",
   "execution_count": 27,
   "metadata": {
    "execution": {
     "iopub.execute_input": "2020-08-03T11:25:49.688143Z",
     "iopub.status.busy": "2020-08-03T11:25:49.687143Z",
     "iopub.status.idle": "2020-08-03T11:25:49.726144Z",
     "shell.execute_reply": "2020-08-03T11:25:49.725143Z",
     "shell.execute_reply.started": "2020-08-03T11:25:49.687143Z"
    }
   },
   "outputs": [
    {
     "data": {
      "text/html": [
       "<div>\n",
       "<style scoped>\n",
       "    .dataframe tbody tr th:only-of-type {\n",
       "        vertical-align: middle;\n",
       "    }\n",
       "\n",
       "    .dataframe tbody tr th {\n",
       "        vertical-align: top;\n",
       "    }\n",
       "\n",
       "    .dataframe thead th {\n",
       "        text-align: right;\n",
       "    }\n",
       "</style>\n",
       "<table border=\"1\" class=\"dataframe\">\n",
       "  <thead>\n",
       "    <tr style=\"text-align: right;\">\n",
       "      <th>loc</th>\n",
       "      <th>강남구</th>\n",
       "      <th>강남대로</th>\n",
       "      <th>강동구</th>\n",
       "      <th>강변북로</th>\n",
       "      <th>강북구</th>\n",
       "      <th>강서구</th>\n",
       "      <th>공항대로</th>\n",
       "      <th>관악구</th>\n",
       "      <th>광진구</th>\n",
       "      <th>구로구</th>\n",
       "      <th>...</th>\n",
       "      <th>정릉로</th>\n",
       "      <th>종로</th>\n",
       "      <th>종로구</th>\n",
       "      <th>중구</th>\n",
       "      <th>중랑구</th>\n",
       "      <th>천호대로</th>\n",
       "      <th>청계천로</th>\n",
       "      <th>한강대로</th>\n",
       "      <th>홍릉로</th>\n",
       "      <th>화랑로</th>\n",
       "    </tr>\n",
       "    <tr>\n",
       "      <th>date</th>\n",
       "      <th></th>\n",
       "      <th></th>\n",
       "      <th></th>\n",
       "      <th></th>\n",
       "      <th></th>\n",
       "      <th></th>\n",
       "      <th></th>\n",
       "      <th></th>\n",
       "      <th></th>\n",
       "      <th></th>\n",
       "      <th></th>\n",
       "      <th></th>\n",
       "      <th></th>\n",
       "      <th></th>\n",
       "      <th></th>\n",
       "      <th></th>\n",
       "      <th></th>\n",
       "      <th></th>\n",
       "      <th></th>\n",
       "      <th></th>\n",
       "      <th></th>\n",
       "    </tr>\n",
       "  </thead>\n",
       "  <tbody>\n",
       "    <tr>\n",
       "      <th>20161009</th>\n",
       "      <td>19.0</td>\n",
       "      <td>25.0</td>\n",
       "      <td>20.0</td>\n",
       "      <td>21.0</td>\n",
       "      <td>12.0</td>\n",
       "      <td>19.0</td>\n",
       "      <td>23.0</td>\n",
       "      <td>23.0</td>\n",
       "      <td>17.0</td>\n",
       "      <td>19.0</td>\n",
       "      <td>...</td>\n",
       "      <td>22.0</td>\n",
       "      <td>20.0</td>\n",
       "      <td>15.0</td>\n",
       "      <td>NaN</td>\n",
       "      <td>19.0</td>\n",
       "      <td>22.0</td>\n",
       "      <td>16.0</td>\n",
       "      <td>28.0</td>\n",
       "      <td>19.0</td>\n",
       "      <td>21.0</td>\n",
       "    </tr>\n",
       "    <tr>\n",
       "      <th>20161010</th>\n",
       "      <td>29.0</td>\n",
       "      <td>38.0</td>\n",
       "      <td>32.0</td>\n",
       "      <td>35.0</td>\n",
       "      <td>20.0</td>\n",
       "      <td>31.0</td>\n",
       "      <td>56.0</td>\n",
       "      <td>30.0</td>\n",
       "      <td>24.0</td>\n",
       "      <td>30.0</td>\n",
       "      <td>...</td>\n",
       "      <td>31.0</td>\n",
       "      <td>25.0</td>\n",
       "      <td>25.0</td>\n",
       "      <td>NaN</td>\n",
       "      <td>29.0</td>\n",
       "      <td>24.0</td>\n",
       "      <td>25.0</td>\n",
       "      <td>40.0</td>\n",
       "      <td>28.0</td>\n",
       "      <td>35.0</td>\n",
       "    </tr>\n",
       "    <tr>\n",
       "      <th>20161011</th>\n",
       "      <td>48.0</td>\n",
       "      <td>56.0</td>\n",
       "      <td>48.0</td>\n",
       "      <td>52.0</td>\n",
       "      <td>36.0</td>\n",
       "      <td>42.0</td>\n",
       "      <td>70.0</td>\n",
       "      <td>45.0</td>\n",
       "      <td>42.0</td>\n",
       "      <td>48.0</td>\n",
       "      <td>...</td>\n",
       "      <td>45.0</td>\n",
       "      <td>24.0</td>\n",
       "      <td>44.0</td>\n",
       "      <td>NaN</td>\n",
       "      <td>46.0</td>\n",
       "      <td>33.0</td>\n",
       "      <td>41.0</td>\n",
       "      <td>59.0</td>\n",
       "      <td>41.0</td>\n",
       "      <td>50.0</td>\n",
       "    </tr>\n",
       "    <tr>\n",
       "      <th>20161012</th>\n",
       "      <td>60.0</td>\n",
       "      <td>68.0</td>\n",
       "      <td>63.0</td>\n",
       "      <td>64.0</td>\n",
       "      <td>49.0</td>\n",
       "      <td>57.0</td>\n",
       "      <td>75.0</td>\n",
       "      <td>54.0</td>\n",
       "      <td>55.0</td>\n",
       "      <td>57.0</td>\n",
       "      <td>...</td>\n",
       "      <td>60.0</td>\n",
       "      <td>33.0</td>\n",
       "      <td>50.0</td>\n",
       "      <td>NaN</td>\n",
       "      <td>59.0</td>\n",
       "      <td>48.0</td>\n",
       "      <td>48.0</td>\n",
       "      <td>69.0</td>\n",
       "      <td>51.0</td>\n",
       "      <td>63.0</td>\n",
       "    </tr>\n",
       "    <tr>\n",
       "      <th>20161013</th>\n",
       "      <td>45.0</td>\n",
       "      <td>55.0</td>\n",
       "      <td>54.0</td>\n",
       "      <td>52.0</td>\n",
       "      <td>34.0</td>\n",
       "      <td>52.0</td>\n",
       "      <td>71.0</td>\n",
       "      <td>43.0</td>\n",
       "      <td>41.0</td>\n",
       "      <td>46.0</td>\n",
       "      <td>...</td>\n",
       "      <td>44.0</td>\n",
       "      <td>31.0</td>\n",
       "      <td>37.0</td>\n",
       "      <td>NaN</td>\n",
       "      <td>46.0</td>\n",
       "      <td>39.0</td>\n",
       "      <td>36.0</td>\n",
       "      <td>60.0</td>\n",
       "      <td>39.0</td>\n",
       "      <td>54.0</td>\n",
       "    </tr>\n",
       "  </tbody>\n",
       "</table>\n",
       "<p>5 rows × 39 columns</p>\n",
       "</div>"
      ],
      "text/plain": [
       "loc        강남구  강남대로   강동구  강변북로   강북구   강서구  공항대로   관악구   광진구   구로구  ...  \\\n",
       "date                                                                  ...   \n",
       "20161009  19.0  25.0  20.0  21.0  12.0  19.0  23.0  23.0  17.0  19.0  ...   \n",
       "20161010  29.0  38.0  32.0  35.0  20.0  31.0  56.0  30.0  24.0  30.0  ...   \n",
       "20161011  48.0  56.0  48.0  52.0  36.0  42.0  70.0  45.0  42.0  48.0  ...   \n",
       "20161012  60.0  68.0  63.0  64.0  49.0  57.0  75.0  54.0  55.0  57.0  ...   \n",
       "20161013  45.0  55.0  54.0  52.0  34.0  52.0  71.0  43.0  41.0  46.0  ...   \n",
       "\n",
       "loc        정릉로    종로   종로구  중구   중랑구  천호대로  청계천로  한강대로   홍릉로   화랑로  \n",
       "date                                                                \n",
       "20161009  22.0  20.0  15.0 NaN  19.0  22.0  16.0  28.0  19.0  21.0  \n",
       "20161010  31.0  25.0  25.0 NaN  29.0  24.0  25.0  40.0  28.0  35.0  \n",
       "20161011  45.0  24.0  44.0 NaN  46.0  33.0  41.0  59.0  41.0  50.0  \n",
       "20161012  60.0  33.0  50.0 NaN  59.0  48.0  48.0  69.0  51.0  63.0  \n",
       "20161013  44.0  31.0  37.0 NaN  46.0  39.0  36.0  60.0  39.0  54.0  \n",
       "\n",
       "[5 rows x 39 columns]"
      ]
     },
     "execution_count": 27,
     "metadata": {},
     "output_type": "execute_result"
    }
   ],
   "source": [
    "pd.pivot(airdf, index='date', columns='loc', values='PM10').head(5)"
   ]
  },
  {
   "cell_type": "markdown",
   "metadata": {},
   "source": [
    "<b> Pivot table은 pivot의 indx/columns 가 하나 이상의 column일때도 가능. 추가로, pivot은 중복되는 item 항목이 있을 경우 에러 발생 </b>"
   ]
  },
  {
   "cell_type": "code",
   "execution_count": 28,
   "metadata": {
    "execution": {
     "iopub.execute_input": "2020-08-03T11:25:49.728140Z",
     "iopub.status.busy": "2020-08-03T11:25:49.727141Z",
     "iopub.status.idle": "2020-08-03T11:25:49.754151Z",
     "shell.execute_reply": "2020-08-03T11:25:49.754151Z",
     "shell.execute_reply.started": "2020-08-03T11:25:49.728140Z"
    }
   },
   "outputs": [
    {
     "data": {
      "text/html": [
       "<div>\n",
       "<style scoped>\n",
       "    .dataframe tbody tr th:only-of-type {\n",
       "        vertical-align: middle;\n",
       "    }\n",
       "\n",
       "    .dataframe tbody tr th {\n",
       "        vertical-align: top;\n",
       "    }\n",
       "\n",
       "    .dataframe thead tr th {\n",
       "        text-align: left;\n",
       "    }\n",
       "\n",
       "    .dataframe thead tr:last-of-type th {\n",
       "        text-align: right;\n",
       "    }\n",
       "</style>\n",
       "<table border=\"1\" class=\"dataframe\">\n",
       "  <thead>\n",
       "    <tr>\n",
       "      <th></th>\n",
       "      <th colspan=\"4\" halign=\"left\">mean</th>\n",
       "    </tr>\n",
       "    <tr>\n",
       "      <th>pm25_level</th>\n",
       "      <th>bad</th>\n",
       "      <th>good</th>\n",
       "      <th>normal</th>\n",
       "      <th>verybad</th>\n",
       "    </tr>\n",
       "    <tr>\n",
       "      <th>loc</th>\n",
       "      <th></th>\n",
       "      <th></th>\n",
       "      <th></th>\n",
       "      <th></th>\n",
       "    </tr>\n",
       "  </thead>\n",
       "  <tbody>\n",
       "    <tr>\n",
       "      <th>강남구</th>\n",
       "      <td>60.833333</td>\n",
       "      <td>10.494949</td>\n",
       "      <td>28.173554</td>\n",
       "      <td>107.0</td>\n",
       "    </tr>\n",
       "    <tr>\n",
       "      <th>강남대로</th>\n",
       "      <td>63.473684</td>\n",
       "      <td>10.800000</td>\n",
       "      <td>28.391061</td>\n",
       "      <td>NaN</td>\n",
       "    </tr>\n",
       "    <tr>\n",
       "      <th>강동구</th>\n",
       "      <td>60.875000</td>\n",
       "      <td>10.572727</td>\n",
       "      <td>28.379310</td>\n",
       "      <td>NaN</td>\n",
       "    </tr>\n",
       "    <tr>\n",
       "      <th>강변북로</th>\n",
       "      <td>62.560000</td>\n",
       "      <td>10.500000</td>\n",
       "      <td>28.217391</td>\n",
       "      <td>NaN</td>\n",
       "    </tr>\n",
       "    <tr>\n",
       "      <th>강북구</th>\n",
       "      <td>60.437500</td>\n",
       "      <td>9.669355</td>\n",
       "      <td>27.659193</td>\n",
       "      <td>NaN</td>\n",
       "    </tr>\n",
       "  </tbody>\n",
       "</table>\n",
       "</div>"
      ],
      "text/plain": [
       "                 mean                              \n",
       "pm25_level        bad       good     normal verybad\n",
       "loc                                                \n",
       "강남구         60.833333  10.494949  28.173554   107.0\n",
       "강남대로        63.473684  10.800000  28.391061     NaN\n",
       "강동구         60.875000  10.572727  28.379310     NaN\n",
       "강변북로        62.560000  10.500000  28.217391     NaN\n",
       "강북구         60.437500   9.669355  27.659193     NaN"
      ]
     },
     "execution_count": 28,
     "metadata": {},
     "output_type": "execute_result"
    }
   ],
   "source": [
    "pd.pivot_table(airdf, index='loc', columns='pm25_level', values='PM2.5', aggfunc=[np.mean]).head()"
   ]
  },
  {
   "cell_type": "markdown",
   "metadata": {},
   "source": [
    "# Multi-level indexing"
   ]
  },
  {
   "cell_type": "code",
   "execution_count": 29,
   "metadata": {
    "execution": {
     "iopub.execute_input": "2020-08-03T11:25:49.756141Z",
     "iopub.status.busy": "2020-08-03T11:25:49.756141Z",
     "iopub.status.idle": "2020-08-03T11:25:49.768144Z",
     "shell.execute_reply": "2020-08-03T11:25:49.767143Z",
     "shell.execute_reply.started": "2020-08-03T11:25:49.756141Z"
    }
   },
   "outputs": [],
   "source": [
    "mdf = airdf.reset_index().set_index(['date','loc'])"
   ]
  },
  {
   "cell_type": "code",
   "execution_count": 30,
   "metadata": {
    "execution": {
     "iopub.execute_input": "2020-08-03T11:25:49.769144Z",
     "iopub.status.busy": "2020-08-03T11:25:49.769144Z",
     "iopub.status.idle": "2020-08-03T11:25:49.794138Z",
     "shell.execute_reply": "2020-08-03T11:25:49.793152Z",
     "shell.execute_reply.started": "2020-08-03T11:25:49.769144Z"
    }
   },
   "outputs": [
    {
     "data": {
      "text/html": [
       "<div>\n",
       "<style scoped>\n",
       "    .dataframe tbody tr th:only-of-type {\n",
       "        vertical-align: middle;\n",
       "    }\n",
       "\n",
       "    .dataframe tbody tr th {\n",
       "        vertical-align: top;\n",
       "    }\n",
       "\n",
       "    .dataframe thead th {\n",
       "        text-align: right;\n",
       "    }\n",
       "</style>\n",
       "<table border=\"1\" class=\"dataframe\">\n",
       "  <thead>\n",
       "    <tr style=\"text-align: right;\">\n",
       "      <th></th>\n",
       "      <th></th>\n",
       "      <th>index</th>\n",
       "      <th>NO2</th>\n",
       "      <th>O3</th>\n",
       "      <th>CO</th>\n",
       "      <th>SO2</th>\n",
       "      <th>PM10</th>\n",
       "      <th>PM2.5</th>\n",
       "      <th>district</th>\n",
       "      <th>pm25_level</th>\n",
       "      <th>worst</th>\n",
       "    </tr>\n",
       "    <tr>\n",
       "      <th>date</th>\n",
       "      <th>loc</th>\n",
       "      <th></th>\n",
       "      <th></th>\n",
       "      <th></th>\n",
       "      <th></th>\n",
       "      <th></th>\n",
       "      <th></th>\n",
       "      <th></th>\n",
       "      <th></th>\n",
       "      <th></th>\n",
       "      <th></th>\n",
       "    </tr>\n",
       "  </thead>\n",
       "  <tbody>\n",
       "    <tr>\n",
       "      <th rowspan=\"5\" valign=\"top\">20171009</th>\n",
       "      <th>강남구</th>\n",
       "      <td>0</td>\n",
       "      <td>0.024</td>\n",
       "      <td>0.020</td>\n",
       "      <td>0.4</td>\n",
       "      <td>0.007</td>\n",
       "      <td>28.0</td>\n",
       "      <td>22.0</td>\n",
       "      <td>강남구</td>\n",
       "      <td>normal</td>\n",
       "      <td>False</td>\n",
       "    </tr>\n",
       "    <tr>\n",
       "      <th>한강대로</th>\n",
       "      <td>1</td>\n",
       "      <td>0.037</td>\n",
       "      <td>0.019</td>\n",
       "      <td>0.5</td>\n",
       "      <td>0.006</td>\n",
       "      <td>32.0</td>\n",
       "      <td>16.0</td>\n",
       "      <td>별도측정소</td>\n",
       "      <td>normal</td>\n",
       "      <td>False</td>\n",
       "    </tr>\n",
       "    <tr>\n",
       "      <th>중구</th>\n",
       "      <td>2</td>\n",
       "      <td>0.031</td>\n",
       "      <td>0.025</td>\n",
       "      <td>0.5</td>\n",
       "      <td>0.005</td>\n",
       "      <td>25.0</td>\n",
       "      <td>18.0</td>\n",
       "      <td>중구</td>\n",
       "      <td>normal</td>\n",
       "      <td>False</td>\n",
       "    </tr>\n",
       "    <tr>\n",
       "      <th>마포구</th>\n",
       "      <td>3</td>\n",
       "      <td>0.021</td>\n",
       "      <td>0.031</td>\n",
       "      <td>0.4</td>\n",
       "      <td>0.006</td>\n",
       "      <td>22.0</td>\n",
       "      <td>19.0</td>\n",
       "      <td>마포구</td>\n",
       "      <td>normal</td>\n",
       "      <td>False</td>\n",
       "    </tr>\n",
       "    <tr>\n",
       "      <th>광진구</th>\n",
       "      <td>4</td>\n",
       "      <td>0.041</td>\n",
       "      <td>0.026</td>\n",
       "      <td>0.8</td>\n",
       "      <td>0.006</td>\n",
       "      <td>25.0</td>\n",
       "      <td>19.0</td>\n",
       "      <td>광진구</td>\n",
       "      <td>normal</td>\n",
       "      <td>False</td>\n",
       "    </tr>\n",
       "  </tbody>\n",
       "</table>\n",
       "</div>"
      ],
      "text/plain": [
       "               index    NO2     O3   CO    SO2  PM10  PM2.5 district  \\\n",
       "date     loc                                                           \n",
       "20171009 강남구       0  0.024  0.020  0.4  0.007  28.0   22.0      강남구   \n",
       "         한강대로      1  0.037  0.019  0.5  0.006  32.0   16.0    별도측정소   \n",
       "         중구        2  0.031  0.025  0.5  0.005  25.0   18.0       중구   \n",
       "         마포구       3  0.021  0.031  0.4  0.006  22.0   19.0      마포구   \n",
       "         광진구       4  0.041  0.026  0.8  0.006  25.0   19.0      광진구   \n",
       "\n",
       "              pm25_level  worst  \n",
       "date     loc                     \n",
       "20171009 강남구      normal  False  \n",
       "         한강대로     normal  False  \n",
       "         중구       normal  False  \n",
       "         마포구      normal  False  \n",
       "         광진구      normal  False  "
      ]
     },
     "execution_count": 30,
     "metadata": {},
     "output_type": "execute_result"
    }
   ],
   "source": [
    "mdf.head()"
   ]
  },
  {
   "cell_type": "code",
   "execution_count": 31,
   "metadata": {
    "execution": {
     "iopub.execute_input": "2020-08-03T11:25:49.795150Z",
     "iopub.status.busy": "2020-08-03T11:25:49.795150Z",
     "iopub.status.idle": "2020-08-03T11:25:49.820140Z",
     "shell.execute_reply": "2020-08-03T11:25:49.820140Z",
     "shell.execute_reply.started": "2020-08-03T11:25:49.795150Z"
    }
   },
   "outputs": [
    {
     "data": {
      "text/plain": [
       "MultiIndex([(20171009,  '강남구'),\n",
       "            (20171009, '한강대로'),\n",
       "            (20171009,   '중구'),\n",
       "            (20171009,  '마포구'),\n",
       "            (20171009,  '광진구')],\n",
       "           names=['date', 'loc'])"
      ]
     },
     "execution_count": 31,
     "metadata": {},
     "output_type": "execute_result"
    }
   ],
   "source": [
    "mdf.index[:5]"
   ]
  },
  {
   "cell_type": "markdown",
   "metadata": {},
   "source": [
    "# Multi-level Index <-> Multi-level Column을 변환"
   ]
  },
  {
   "cell_type": "code",
   "execution_count": 32,
   "metadata": {
    "execution": {
     "iopub.execute_input": "2020-08-03T11:25:49.822139Z",
     "iopub.status.busy": "2020-08-03T11:25:49.822139Z",
     "iopub.status.idle": "2020-08-03T11:25:49.883144Z",
     "shell.execute_reply": "2020-08-03T11:25:49.883144Z",
     "shell.execute_reply.started": "2020-08-03T11:25:49.822139Z"
    }
   },
   "outputs": [
    {
     "data": {
      "text/html": [
       "<div>\n",
       "<style scoped>\n",
       "    .dataframe tbody tr th:only-of-type {\n",
       "        vertical-align: middle;\n",
       "    }\n",
       "\n",
       "    .dataframe tbody tr th {\n",
       "        vertical-align: top;\n",
       "    }\n",
       "\n",
       "    .dataframe thead tr th {\n",
       "        text-align: left;\n",
       "    }\n",
       "\n",
       "    .dataframe thead tr:last-of-type th {\n",
       "        text-align: right;\n",
       "    }\n",
       "</style>\n",
       "<table border=\"1\" class=\"dataframe\">\n",
       "  <thead>\n",
       "    <tr>\n",
       "      <th></th>\n",
       "      <th colspan=\"10\" halign=\"left\">index</th>\n",
       "      <th>...</th>\n",
       "      <th colspan=\"10\" halign=\"left\">worst</th>\n",
       "    </tr>\n",
       "    <tr>\n",
       "      <th>loc</th>\n",
       "      <th>강남구</th>\n",
       "      <th>강남대로</th>\n",
       "      <th>강동구</th>\n",
       "      <th>강변북로</th>\n",
       "      <th>강북구</th>\n",
       "      <th>강서구</th>\n",
       "      <th>공항대로</th>\n",
       "      <th>관악구</th>\n",
       "      <th>광진구</th>\n",
       "      <th>구로구</th>\n",
       "      <th>...</th>\n",
       "      <th>정릉로</th>\n",
       "      <th>종로</th>\n",
       "      <th>종로구</th>\n",
       "      <th>중구</th>\n",
       "      <th>중랑구</th>\n",
       "      <th>천호대로</th>\n",
       "      <th>청계천로</th>\n",
       "      <th>한강대로</th>\n",
       "      <th>홍릉로</th>\n",
       "      <th>화랑로</th>\n",
       "    </tr>\n",
       "    <tr>\n",
       "      <th>date</th>\n",
       "      <th></th>\n",
       "      <th></th>\n",
       "      <th></th>\n",
       "      <th></th>\n",
       "      <th></th>\n",
       "      <th></th>\n",
       "      <th></th>\n",
       "      <th></th>\n",
       "      <th></th>\n",
       "      <th></th>\n",
       "      <th></th>\n",
       "      <th></th>\n",
       "      <th></th>\n",
       "      <th></th>\n",
       "      <th></th>\n",
       "      <th></th>\n",
       "      <th></th>\n",
       "      <th></th>\n",
       "      <th></th>\n",
       "      <th></th>\n",
       "      <th></th>\n",
       "    </tr>\n",
       "  </thead>\n",
       "  <tbody>\n",
       "    <tr>\n",
       "      <th>20161009</th>\n",
       "      <td>14264</td>\n",
       "      <td>14250</td>\n",
       "      <td>14245</td>\n",
       "      <td>14237</td>\n",
       "      <td>14268</td>\n",
       "      <td>14267</td>\n",
       "      <td>14248</td>\n",
       "      <td>14270</td>\n",
       "      <td>14247</td>\n",
       "      <td>14269</td>\n",
       "      <td>...</td>\n",
       "      <td>False</td>\n",
       "      <td>False</td>\n",
       "      <td>False</td>\n",
       "      <td>False</td>\n",
       "      <td>False</td>\n",
       "      <td>False</td>\n",
       "      <td>False</td>\n",
       "      <td>False</td>\n",
       "      <td>False</td>\n",
       "      <td>False</td>\n",
       "    </tr>\n",
       "    <tr>\n",
       "      <th>20161010</th>\n",
       "      <td>14202</td>\n",
       "      <td>14225</td>\n",
       "      <td>14219</td>\n",
       "      <td>14232</td>\n",
       "      <td>14217</td>\n",
       "      <td>14222</td>\n",
       "      <td>14206</td>\n",
       "      <td>14203</td>\n",
       "      <td>14229</td>\n",
       "      <td>14218</td>\n",
       "      <td>...</td>\n",
       "      <td>False</td>\n",
       "      <td>False</td>\n",
       "      <td>False</td>\n",
       "      <td>False</td>\n",
       "      <td>False</td>\n",
       "      <td>False</td>\n",
       "      <td>False</td>\n",
       "      <td>False</td>\n",
       "      <td>False</td>\n",
       "      <td>False</td>\n",
       "    </tr>\n",
       "    <tr>\n",
       "      <th>20161011</th>\n",
       "      <td>14190</td>\n",
       "      <td>14159</td>\n",
       "      <td>14182</td>\n",
       "      <td>14169</td>\n",
       "      <td>14187</td>\n",
       "      <td>14176</td>\n",
       "      <td>14172</td>\n",
       "      <td>14189</td>\n",
       "      <td>14174</td>\n",
       "      <td>14164</td>\n",
       "      <td>...</td>\n",
       "      <td>False</td>\n",
       "      <td>False</td>\n",
       "      <td>False</td>\n",
       "      <td>False</td>\n",
       "      <td>False</td>\n",
       "      <td>False</td>\n",
       "      <td>False</td>\n",
       "      <td>False</td>\n",
       "      <td>False</td>\n",
       "      <td>False</td>\n",
       "    </tr>\n",
       "    <tr>\n",
       "      <th>20161012</th>\n",
       "      <td>14147</td>\n",
       "      <td>14134</td>\n",
       "      <td>14137</td>\n",
       "      <td>14140</td>\n",
       "      <td>14121</td>\n",
       "      <td>14118</td>\n",
       "      <td>14138</td>\n",
       "      <td>14145</td>\n",
       "      <td>14127</td>\n",
       "      <td>14136</td>\n",
       "      <td>...</td>\n",
       "      <td>False</td>\n",
       "      <td>False</td>\n",
       "      <td>False</td>\n",
       "      <td>False</td>\n",
       "      <td>False</td>\n",
       "      <td>False</td>\n",
       "      <td>False</td>\n",
       "      <td>False</td>\n",
       "      <td>False</td>\n",
       "      <td>False</td>\n",
       "    </tr>\n",
       "    <tr>\n",
       "      <th>20161013</th>\n",
       "      <td>14088</td>\n",
       "      <td>14081</td>\n",
       "      <td>14113</td>\n",
       "      <td>14091</td>\n",
       "      <td>14108</td>\n",
       "      <td>14105</td>\n",
       "      <td>14115</td>\n",
       "      <td>14110</td>\n",
       "      <td>14098</td>\n",
       "      <td>14086</td>\n",
       "      <td>...</td>\n",
       "      <td>False</td>\n",
       "      <td>False</td>\n",
       "      <td>False</td>\n",
       "      <td>False</td>\n",
       "      <td>False</td>\n",
       "      <td>False</td>\n",
       "      <td>False</td>\n",
       "      <td>False</td>\n",
       "      <td>False</td>\n",
       "      <td>False</td>\n",
       "    </tr>\n",
       "  </tbody>\n",
       "</table>\n",
       "<p>5 rows × 390 columns</p>\n",
       "</div>"
      ],
      "text/plain": [
       "          index                                                          \\\n",
       "loc         강남구   강남대로    강동구   강변북로    강북구    강서구   공항대로    관악구    광진구   \n",
       "date                                                                      \n",
       "20161009  14264  14250  14245  14237  14268  14267  14248  14270  14247   \n",
       "20161010  14202  14225  14219  14232  14217  14222  14206  14203  14229   \n",
       "20161011  14190  14159  14182  14169  14187  14176  14172  14189  14174   \n",
       "20161012  14147  14134  14137  14140  14121  14118  14138  14145  14127   \n",
       "20161013  14088  14081  14113  14091  14108  14105  14115  14110  14098   \n",
       "\n",
       "                 ...  worst                                                   \\\n",
       "loc         구로구  ...    정릉로     종로    종로구     중구    중랑구   천호대로   청계천로   한강대로   \n",
       "date             ...                                                           \n",
       "20161009  14269  ...  False  False  False  False  False  False  False  False   \n",
       "20161010  14218  ...  False  False  False  False  False  False  False  False   \n",
       "20161011  14164  ...  False  False  False  False  False  False  False  False   \n",
       "20161012  14136  ...  False  False  False  False  False  False  False  False   \n",
       "20161013  14086  ...  False  False  False  False  False  False  False  False   \n",
       "\n",
       "                        \n",
       "loc         홍릉로    화랑로  \n",
       "date                    \n",
       "20161009  False  False  \n",
       "20161010  False  False  \n",
       "20161011  False  False  \n",
       "20161012  False  False  \n",
       "20161013  False  False  \n",
       "\n",
       "[5 rows x 390 columns]"
      ]
     },
     "execution_count": 32,
     "metadata": {},
     "output_type": "execute_result"
    }
   ],
   "source": [
    "mdf.unstack().head()"
   ]
  },
  {
   "cell_type": "code",
   "execution_count": 33,
   "metadata": {
    "execution": {
     "iopub.execute_input": "2020-08-03T11:25:49.885150Z",
     "iopub.status.busy": "2020-08-03T11:25:49.884151Z",
     "iopub.status.idle": "2020-08-03T11:25:49.963140Z",
     "shell.execute_reply": "2020-08-03T11:25:49.962141Z",
     "shell.execute_reply.started": "2020-08-03T11:25:49.885150Z"
    }
   },
   "outputs": [
    {
     "data": {
      "text/html": [
       "<div>\n",
       "<style scoped>\n",
       "    .dataframe tbody tr th:only-of-type {\n",
       "        vertical-align: middle;\n",
       "    }\n",
       "\n",
       "    .dataframe tbody tr th {\n",
       "        vertical-align: top;\n",
       "    }\n",
       "\n",
       "    .dataframe thead th {\n",
       "        text-align: right;\n",
       "    }\n",
       "</style>\n",
       "<table border=\"1\" class=\"dataframe\">\n",
       "  <thead>\n",
       "    <tr style=\"text-align: right;\">\n",
       "      <th></th>\n",
       "      <th></th>\n",
       "      <th>index</th>\n",
       "      <th>NO2</th>\n",
       "      <th>O3</th>\n",
       "      <th>CO</th>\n",
       "      <th>SO2</th>\n",
       "      <th>PM10</th>\n",
       "      <th>PM2.5</th>\n",
       "      <th>district</th>\n",
       "      <th>pm25_level</th>\n",
       "      <th>worst</th>\n",
       "    </tr>\n",
       "    <tr>\n",
       "      <th>date</th>\n",
       "      <th>loc</th>\n",
       "      <th></th>\n",
       "      <th></th>\n",
       "      <th></th>\n",
       "      <th></th>\n",
       "      <th></th>\n",
       "      <th></th>\n",
       "      <th></th>\n",
       "      <th></th>\n",
       "      <th></th>\n",
       "      <th></th>\n",
       "    </tr>\n",
       "  </thead>\n",
       "  <tbody>\n",
       "    <tr>\n",
       "      <th rowspan=\"5\" valign=\"top\">20161009</th>\n",
       "      <th>강남구</th>\n",
       "      <td>14264</td>\n",
       "      <td>0.013</td>\n",
       "      <td>0.026</td>\n",
       "      <td>0.3</td>\n",
       "      <td>0.004</td>\n",
       "      <td>19.0</td>\n",
       "      <td>10.0</td>\n",
       "      <td>강남구</td>\n",
       "      <td>good</td>\n",
       "      <td>False</td>\n",
       "    </tr>\n",
       "    <tr>\n",
       "      <th>강남대로</th>\n",
       "      <td>14250</td>\n",
       "      <td>0.044</td>\n",
       "      <td>0.017</td>\n",
       "      <td>0.5</td>\n",
       "      <td>0.005</td>\n",
       "      <td>25.0</td>\n",
       "      <td>11.0</td>\n",
       "      <td>별도측정소</td>\n",
       "      <td>good</td>\n",
       "      <td>False</td>\n",
       "    </tr>\n",
       "    <tr>\n",
       "      <th>강동구</th>\n",
       "      <td>14245</td>\n",
       "      <td>0.012</td>\n",
       "      <td>0.028</td>\n",
       "      <td>0.3</td>\n",
       "      <td>0.003</td>\n",
       "      <td>20.0</td>\n",
       "      <td>9.0</td>\n",
       "      <td>강동구</td>\n",
       "      <td>good</td>\n",
       "      <td>False</td>\n",
       "    </tr>\n",
       "    <tr>\n",
       "      <th>강변북로</th>\n",
       "      <td>14237</td>\n",
       "      <td>0.021</td>\n",
       "      <td>0.022</td>\n",
       "      <td>0.3</td>\n",
       "      <td>0.003</td>\n",
       "      <td>21.0</td>\n",
       "      <td>9.0</td>\n",
       "      <td>별도측정소</td>\n",
       "      <td>good</td>\n",
       "      <td>False</td>\n",
       "    </tr>\n",
       "    <tr>\n",
       "      <th>강북구</th>\n",
       "      <td>14268</td>\n",
       "      <td>0.013</td>\n",
       "      <td>0.028</td>\n",
       "      <td>0.3</td>\n",
       "      <td>0.002</td>\n",
       "      <td>12.0</td>\n",
       "      <td>6.0</td>\n",
       "      <td>강북구</td>\n",
       "      <td>good</td>\n",
       "      <td>False</td>\n",
       "    </tr>\n",
       "    <tr>\n",
       "      <th>...</th>\n",
       "      <th>...</th>\n",
       "      <td>...</td>\n",
       "      <td>...</td>\n",
       "      <td>...</td>\n",
       "      <td>...</td>\n",
       "      <td>...</td>\n",
       "      <td>...</td>\n",
       "      <td>...</td>\n",
       "      <td>...</td>\n",
       "      <td>...</td>\n",
       "      <td>...</td>\n",
       "    </tr>\n",
       "    <tr>\n",
       "      <th rowspan=\"5\" valign=\"top\">20171009</th>\n",
       "      <th>천호대로</th>\n",
       "      <td>14</td>\n",
       "      <td>0.037</td>\n",
       "      <td>0.012</td>\n",
       "      <td>0.6</td>\n",
       "      <td>0.005</td>\n",
       "      <td>35.0</td>\n",
       "      <td>20.0</td>\n",
       "      <td>별도측정소</td>\n",
       "      <td>normal</td>\n",
       "      <td>False</td>\n",
       "    </tr>\n",
       "    <tr>\n",
       "      <th>청계천로</th>\n",
       "      <td>17</td>\n",
       "      <td>0.036</td>\n",
       "      <td>0.018</td>\n",
       "      <td>0.5</td>\n",
       "      <td>0.007</td>\n",
       "      <td>30.0</td>\n",
       "      <td>20.0</td>\n",
       "      <td>별도측정소</td>\n",
       "      <td>normal</td>\n",
       "      <td>False</td>\n",
       "    </tr>\n",
       "    <tr>\n",
       "      <th>한강대로</th>\n",
       "      <td>1</td>\n",
       "      <td>0.037</td>\n",
       "      <td>0.019</td>\n",
       "      <td>0.5</td>\n",
       "      <td>0.006</td>\n",
       "      <td>32.0</td>\n",
       "      <td>16.0</td>\n",
       "      <td>별도측정소</td>\n",
       "      <td>normal</td>\n",
       "      <td>False</td>\n",
       "    </tr>\n",
       "    <tr>\n",
       "      <th>홍릉로</th>\n",
       "      <td>27</td>\n",
       "      <td>0.041</td>\n",
       "      <td>0.016</td>\n",
       "      <td>0.5</td>\n",
       "      <td>0.006</td>\n",
       "      <td>33.0</td>\n",
       "      <td>22.0</td>\n",
       "      <td>별도측정소</td>\n",
       "      <td>normal</td>\n",
       "      <td>False</td>\n",
       "    </tr>\n",
       "    <tr>\n",
       "      <th>화랑로</th>\n",
       "      <td>38</td>\n",
       "      <td>0.034</td>\n",
       "      <td>0.009</td>\n",
       "      <td>0.6</td>\n",
       "      <td>0.004</td>\n",
       "      <td>32.0</td>\n",
       "      <td>17.0</td>\n",
       "      <td>별도측정소</td>\n",
       "      <td>normal</td>\n",
       "      <td>False</td>\n",
       "    </tr>\n",
       "  </tbody>\n",
       "</table>\n",
       "<p>14274 rows × 10 columns</p>\n",
       "</div>"
      ],
      "text/plain": [
       "               index    NO2     O3   CO    SO2  PM10  PM2.5 district  \\\n",
       "date     loc                                                           \n",
       "20161009 강남구   14264  0.013  0.026  0.3  0.004  19.0   10.0      강남구   \n",
       "         강남대로  14250  0.044  0.017  0.5  0.005  25.0   11.0    별도측정소   \n",
       "         강동구   14245  0.012  0.028  0.3  0.003  20.0    9.0      강동구   \n",
       "         강변북로  14237  0.021  0.022  0.3  0.003  21.0    9.0    별도측정소   \n",
       "         강북구   14268  0.013  0.028  0.3  0.002  12.0    6.0      강북구   \n",
       "...              ...    ...    ...  ...    ...   ...    ...      ...   \n",
       "20171009 천호대로     14  0.037  0.012  0.6  0.005  35.0   20.0    별도측정소   \n",
       "         청계천로     17  0.036  0.018  0.5  0.007  30.0   20.0    별도측정소   \n",
       "         한강대로      1  0.037  0.019  0.5  0.006  32.0   16.0    별도측정소   \n",
       "         홍릉로      27  0.041  0.016  0.5  0.006  33.0   22.0    별도측정소   \n",
       "         화랑로      38  0.034  0.009  0.6  0.004  32.0   17.0    별도측정소   \n",
       "\n",
       "              pm25_level  worst  \n",
       "date     loc                     \n",
       "20161009 강남구        good  False  \n",
       "         강남대로       good  False  \n",
       "         강동구        good  False  \n",
       "         강변북로       good  False  \n",
       "         강북구        good  False  \n",
       "...                  ...    ...  \n",
       "20171009 천호대로     normal  False  \n",
       "         청계천로     normal  False  \n",
       "         한강대로     normal  False  \n",
       "         홍릉로      normal  False  \n",
       "         화랑로      normal  False  \n",
       "\n",
       "[14274 rows x 10 columns]"
      ]
     },
     "execution_count": 33,
     "metadata": {},
     "output_type": "execute_result"
    }
   ],
   "source": [
    "mdf.unstack().stack()"
   ]
  },
  {
   "cell_type": "markdown",
   "metadata": {},
   "source": [
    "#  Visualization"
   ]
  },
  {
   "cell_type": "markdown",
   "metadata": {},
   "source": [
    "<b> 각 행정구역의 PM10, PM2.5 트렌드를 그래프로 확인! </b>"
   ]
  },
  {
   "cell_type": "code",
   "execution_count": 34,
   "metadata": {
    "execution": {
     "iopub.execute_input": "2020-08-03T11:25:49.964141Z",
     "iopub.status.busy": "2020-08-03T11:25:49.964141Z",
     "iopub.status.idle": "2020-08-03T11:25:49.982141Z",
     "shell.execute_reply": "2020-08-03T11:25:49.981151Z",
     "shell.execute_reply.started": "2020-08-03T11:25:49.964141Z"
    }
   },
   "outputs": [],
   "source": [
    "graphdf = airdf.groupby('loc').agg(pm25=('PM2.5','mean'), pm10=('PM10','mean'))"
   ]
  },
  {
   "cell_type": "markdown",
   "metadata": {},
   "source": [
    "## Dataframe에 plot 기능이 추가되어, 간단한 그래프는 직접 Dataframe에서 수행 가능"
   ]
  },
  {
   "cell_type": "markdown",
   "metadata": {
    "execution": {
     "iopub.execute_input": "2020-08-01T09:59:35.155865Z",
     "iopub.status.busy": "2020-08-01T09:59:35.154862Z",
     "iopub.status.idle": "2020-08-01T09:59:35.161867Z",
     "shell.execute_reply": "2020-08-01T09:59:35.160873Z",
     "shell.execute_reply.started": "2020-08-01T09:59:35.155865Z"
    }
   },
   "source": [
    "<b> Dataframe이나 Series에서 plot 함수를 호출 </b>"
   ]
  },
  {
   "cell_type": "code",
   "execution_count": 35,
   "metadata": {
    "execution": {
     "iopub.execute_input": "2020-08-03T11:25:49.983150Z",
     "iopub.status.busy": "2020-08-03T11:25:49.982141Z",
     "iopub.status.idle": "2020-08-03T11:25:50.210138Z",
     "shell.execute_reply": "2020-08-03T11:25:50.209151Z",
     "shell.execute_reply.started": "2020-08-03T11:25:49.983150Z"
    }
   },
   "outputs": [
    {
     "data": {
      "text/plain": [
       "<matplotlib.axes._subplots.AxesSubplot at 0x2335afa9e88>"
      ]
     },
     "execution_count": 35,
     "metadata": {},
     "output_type": "execute_result"
    },
    {
     "name": "stderr",
     "output_type": "stream",
     "text": [
      "C:\\ProgramData\\Anaconda3\\lib\\site-packages\\matplotlib\\backends\\backend_agg.py:214: RuntimeWarning: Glyph 44053 missing from current font.\n",
      "  font.set_text(s, 0.0, flags=flags)\n",
      "C:\\ProgramData\\Anaconda3\\lib\\site-packages\\matplotlib\\backends\\backend_agg.py:214: RuntimeWarning: Glyph 45224 missing from current font.\n",
      "  font.set_text(s, 0.0, flags=flags)\n",
      "C:\\ProgramData\\Anaconda3\\lib\\site-packages\\matplotlib\\backends\\backend_agg.py:214: RuntimeWarning: Glyph 44396 missing from current font.\n",
      "  font.set_text(s, 0.0, flags=flags)\n",
      "C:\\ProgramData\\Anaconda3\\lib\\site-packages\\matplotlib\\backends\\backend_agg.py:214: RuntimeWarning: Glyph 49436 missing from current font.\n",
      "  font.set_text(s, 0.0, flags=flags)\n",
      "C:\\ProgramData\\Anaconda3\\lib\\site-packages\\matplotlib\\backends\\backend_agg.py:214: RuntimeWarning: Glyph 44552 missing from current font.\n",
      "  font.set_text(s, 0.0, flags=flags)\n",
      "C:\\ProgramData\\Anaconda3\\lib\\site-packages\\matplotlib\\backends\\backend_agg.py:214: RuntimeWarning: Glyph 52380 missing from current font.\n",
      "  font.set_text(s, 0.0, flags=flags)\n",
      "C:\\ProgramData\\Anaconda3\\lib\\site-packages\\matplotlib\\backends\\backend_agg.py:214: RuntimeWarning: Glyph 46041 missing from current font.\n",
      "  font.set_text(s, 0.0, flags=flags)\n",
      "C:\\ProgramData\\Anaconda3\\lib\\site-packages\\matplotlib\\backends\\backend_agg.py:214: RuntimeWarning: Glyph 51089 missing from current font.\n",
      "  font.set_text(s, 0.0, flags=flags)\n",
      "C:\\ProgramData\\Anaconda3\\lib\\site-packages\\matplotlib\\backends\\backend_agg.py:214: RuntimeWarning: Glyph 49457 missing from current font.\n",
      "  font.set_text(s, 0.0, flags=flags)\n",
      "C:\\ProgramData\\Anaconda3\\lib\\site-packages\\matplotlib\\backends\\backend_agg.py:214: RuntimeWarning: Glyph 50689 missing from current font.\n",
      "  font.set_text(s, 0.0, flags=flags)\n",
      "C:\\ProgramData\\Anaconda3\\lib\\site-packages\\matplotlib\\backends\\backend_agg.py:214: RuntimeWarning: Glyph 46321 missing from current font.\n",
      "  font.set_text(s, 0.0, flags=flags)\n",
      "C:\\ProgramData\\Anaconda3\\lib\\site-packages\\matplotlib\\backends\\backend_agg.py:214: RuntimeWarning: Glyph 54252 missing from current font.\n",
      "  font.set_text(s, 0.0, flags=flags)\n",
      "C:\\ProgramData\\Anaconda3\\lib\\site-packages\\matplotlib\\backends\\backend_agg.py:214: RuntimeWarning: Glyph 51333 missing from current font.\n",
      "  font.set_text(s, 0.0, flags=flags)\n",
      "C:\\ProgramData\\Anaconda3\\lib\\site-packages\\matplotlib\\backends\\backend_agg.py:214: RuntimeWarning: Glyph 47196 missing from current font.\n",
      "  font.set_text(s, 0.0, flags=flags)\n",
      "C:\\ProgramData\\Anaconda3\\lib\\site-packages\\matplotlib\\backends\\backend_agg.py:214: RuntimeWarning: Glyph 52397 missing from current font.\n",
      "  font.set_text(s, 0.0, flags=flags)\n",
      "C:\\ProgramData\\Anaconda3\\lib\\site-packages\\matplotlib\\backends\\backend_agg.py:214: RuntimeWarning: Glyph 44228 missing from current font.\n",
      "  font.set_text(s, 0.0, flags=flags)\n",
      "C:\\ProgramData\\Anaconda3\\lib\\site-packages\\matplotlib\\backends\\backend_agg.py:183: RuntimeWarning: Glyph 44053 missing from current font.\n",
      "  font.set_text(s, 0, flags=flags)\n",
      "C:\\ProgramData\\Anaconda3\\lib\\site-packages\\matplotlib\\backends\\backend_agg.py:183: RuntimeWarning: Glyph 45224 missing from current font.\n",
      "  font.set_text(s, 0, flags=flags)\n",
      "C:\\ProgramData\\Anaconda3\\lib\\site-packages\\matplotlib\\backends\\backend_agg.py:183: RuntimeWarning: Glyph 44396 missing from current font.\n",
      "  font.set_text(s, 0, flags=flags)\n",
      "C:\\ProgramData\\Anaconda3\\lib\\site-packages\\matplotlib\\backends\\backend_agg.py:183: RuntimeWarning: Glyph 49436 missing from current font.\n",
      "  font.set_text(s, 0, flags=flags)\n",
      "C:\\ProgramData\\Anaconda3\\lib\\site-packages\\matplotlib\\backends\\backend_agg.py:183: RuntimeWarning: Glyph 44552 missing from current font.\n",
      "  font.set_text(s, 0, flags=flags)\n",
      "C:\\ProgramData\\Anaconda3\\lib\\site-packages\\matplotlib\\backends\\backend_agg.py:183: RuntimeWarning: Glyph 52380 missing from current font.\n",
      "  font.set_text(s, 0, flags=flags)\n",
      "C:\\ProgramData\\Anaconda3\\lib\\site-packages\\matplotlib\\backends\\backend_agg.py:183: RuntimeWarning: Glyph 46041 missing from current font.\n",
      "  font.set_text(s, 0, flags=flags)\n",
      "C:\\ProgramData\\Anaconda3\\lib\\site-packages\\matplotlib\\backends\\backend_agg.py:183: RuntimeWarning: Glyph 51089 missing from current font.\n",
      "  font.set_text(s, 0, flags=flags)\n",
      "C:\\ProgramData\\Anaconda3\\lib\\site-packages\\matplotlib\\backends\\backend_agg.py:183: RuntimeWarning: Glyph 49457 missing from current font.\n",
      "  font.set_text(s, 0, flags=flags)\n",
      "C:\\ProgramData\\Anaconda3\\lib\\site-packages\\matplotlib\\backends\\backend_agg.py:183: RuntimeWarning: Glyph 50689 missing from current font.\n",
      "  font.set_text(s, 0, flags=flags)\n",
      "C:\\ProgramData\\Anaconda3\\lib\\site-packages\\matplotlib\\backends\\backend_agg.py:183: RuntimeWarning: Glyph 46321 missing from current font.\n",
      "  font.set_text(s, 0, flags=flags)\n",
      "C:\\ProgramData\\Anaconda3\\lib\\site-packages\\matplotlib\\backends\\backend_agg.py:183: RuntimeWarning: Glyph 54252 missing from current font.\n",
      "  font.set_text(s, 0, flags=flags)\n",
      "C:\\ProgramData\\Anaconda3\\lib\\site-packages\\matplotlib\\backends\\backend_agg.py:183: RuntimeWarning: Glyph 51333 missing from current font.\n",
      "  font.set_text(s, 0, flags=flags)\n",
      "C:\\ProgramData\\Anaconda3\\lib\\site-packages\\matplotlib\\backends\\backend_agg.py:183: RuntimeWarning: Glyph 47196 missing from current font.\n",
      "  font.set_text(s, 0, flags=flags)\n",
      "C:\\ProgramData\\Anaconda3\\lib\\site-packages\\matplotlib\\backends\\backend_agg.py:183: RuntimeWarning: Glyph 52397 missing from current font.\n",
      "  font.set_text(s, 0, flags=flags)\n",
      "C:\\ProgramData\\Anaconda3\\lib\\site-packages\\matplotlib\\backends\\backend_agg.py:183: RuntimeWarning: Glyph 44228 missing from current font.\n",
      "  font.set_text(s, 0, flags=flags)\n"
     ]
    },
    {
     "data": {
      "image/png": "[encoded data removed]",
      "text/plain": [
       "<Figure size 576x396 with 1 Axes>"
      ]
     },
     "metadata": {},
     "output_type": "display_data"
    }
   ],
   "source": [
    "graphdf.plot()"
   ]
  },
  {
   "cell_type": "markdown",
   "metadata": {},
   "source": [
    "## Matplot의 함수를 사용해서도 그래프 출력 가능"
   ]
  },
  {
   "cell_type": "markdown",
   "metadata": {
    "execution": {
     "iopub.execute_input": "2020-08-01T09:59:35.155865Z",
     "iopub.status.busy": "2020-08-01T09:59:35.154862Z",
     "iopub.status.idle": "2020-08-01T09:59:35.161867Z",
     "shell.execute_reply": "2020-08-01T09:59:35.160873Z",
     "shell.execute_reply.started": "2020-08-01T09:59:35.155865Z"
    }
   },
   "source": [
    "<b> plt.subplots 사용해서 fig,ax를 만들고, 이 바탕에 그래프를 출력 </b>"
   ]
  },
  {
   "cell_type": "code",
   "execution_count": 36,
   "metadata": {
    "execution": {
     "iopub.execute_input": "2020-08-03T11:25:50.211140Z",
     "iopub.status.busy": "2020-08-03T11:25:50.211140Z",
     "iopub.status.idle": "2020-08-03T11:25:50.398143Z",
     "shell.execute_reply": "2020-08-03T11:25:50.397152Z",
     "shell.execute_reply.started": "2020-08-03T11:25:50.211140Z"
    }
   },
   "outputs": [
    {
     "data": {
      "text/plain": [
       "<matplotlib.axes._subplots.AxesSubplot at 0x2335af6a6c8>"
      ]
     },
     "execution_count": 36,
     "metadata": {},
     "output_type": "execute_result"
    },
    {
     "name": "stderr",
     "output_type": "stream",
     "text": [
      "C:\\ProgramData\\Anaconda3\\lib\\site-packages\\matplotlib\\backends\\backend_agg.py:214: RuntimeWarning: Glyph 44053 missing from current font.\n",
      "  font.set_text(s, 0.0, flags=flags)\n",
      "C:\\ProgramData\\Anaconda3\\lib\\site-packages\\matplotlib\\backends\\backend_agg.py:214: RuntimeWarning: Glyph 45224 missing from current font.\n",
      "  font.set_text(s, 0.0, flags=flags)\n",
      "C:\\ProgramData\\Anaconda3\\lib\\site-packages\\matplotlib\\backends\\backend_agg.py:214: RuntimeWarning: Glyph 44396 missing from current font.\n",
      "  font.set_text(s, 0.0, flags=flags)\n",
      "C:\\ProgramData\\Anaconda3\\lib\\site-packages\\matplotlib\\backends\\backend_agg.py:214: RuntimeWarning: Glyph 49436 missing from current font.\n",
      "  font.set_text(s, 0.0, flags=flags)\n",
      "C:\\ProgramData\\Anaconda3\\lib\\site-packages\\matplotlib\\backends\\backend_agg.py:214: RuntimeWarning: Glyph 44552 missing from current font.\n",
      "  font.set_text(s, 0.0, flags=flags)\n",
      "C:\\ProgramData\\Anaconda3\\lib\\site-packages\\matplotlib\\backends\\backend_agg.py:214: RuntimeWarning: Glyph 52380 missing from current font.\n",
      "  font.set_text(s, 0.0, flags=flags)\n",
      "C:\\ProgramData\\Anaconda3\\lib\\site-packages\\matplotlib\\backends\\backend_agg.py:214: RuntimeWarning: Glyph 46041 missing from current font.\n",
      "  font.set_text(s, 0.0, flags=flags)\n",
      "C:\\ProgramData\\Anaconda3\\lib\\site-packages\\matplotlib\\backends\\backend_agg.py:214: RuntimeWarning: Glyph 51089 missing from current font.\n",
      "  font.set_text(s, 0.0, flags=flags)\n",
      "C:\\ProgramData\\Anaconda3\\lib\\site-packages\\matplotlib\\backends\\backend_agg.py:214: RuntimeWarning: Glyph 49457 missing from current font.\n",
      "  font.set_text(s, 0.0, flags=flags)\n",
      "C:\\ProgramData\\Anaconda3\\lib\\site-packages\\matplotlib\\backends\\backend_agg.py:214: RuntimeWarning: Glyph 50689 missing from current font.\n",
      "  font.set_text(s, 0.0, flags=flags)\n",
      "C:\\ProgramData\\Anaconda3\\lib\\site-packages\\matplotlib\\backends\\backend_agg.py:214: RuntimeWarning: Glyph 46321 missing from current font.\n",
      "  font.set_text(s, 0.0, flags=flags)\n",
      "C:\\ProgramData\\Anaconda3\\lib\\site-packages\\matplotlib\\backends\\backend_agg.py:214: RuntimeWarning: Glyph 54252 missing from current font.\n",
      "  font.set_text(s, 0.0, flags=flags)\n",
      "C:\\ProgramData\\Anaconda3\\lib\\site-packages\\matplotlib\\backends\\backend_agg.py:214: RuntimeWarning: Glyph 51333 missing from current font.\n",
      "  font.set_text(s, 0.0, flags=flags)\n",
      "C:\\ProgramData\\Anaconda3\\lib\\site-packages\\matplotlib\\backends\\backend_agg.py:214: RuntimeWarning: Glyph 47196 missing from current font.\n",
      "  font.set_text(s, 0.0, flags=flags)\n",
      "C:\\ProgramData\\Anaconda3\\lib\\site-packages\\matplotlib\\backends\\backend_agg.py:214: RuntimeWarning: Glyph 52397 missing from current font.\n",
      "  font.set_text(s, 0.0, flags=flags)\n",
      "C:\\ProgramData\\Anaconda3\\lib\\site-packages\\matplotlib\\backends\\backend_agg.py:214: RuntimeWarning: Glyph 44228 missing from current font.\n",
      "  font.set_text(s, 0.0, flags=flags)\n",
      "C:\\ProgramData\\Anaconda3\\lib\\site-packages\\matplotlib\\backends\\backend_agg.py:183: RuntimeWarning: Glyph 44053 missing from current font.\n",
      "  font.set_text(s, 0, flags=flags)\n",
      "C:\\ProgramData\\Anaconda3\\lib\\site-packages\\matplotlib\\backends\\backend_agg.py:183: RuntimeWarning: Glyph 45224 missing from current font.\n",
      "  font.set_text(s, 0, flags=flags)\n",
      "C:\\ProgramData\\Anaconda3\\lib\\site-packages\\matplotlib\\backends\\backend_agg.py:183: RuntimeWarning: Glyph 44396 missing from current font.\n",
      "  font.set_text(s, 0, flags=flags)\n",
      "C:\\ProgramData\\Anaconda3\\lib\\site-packages\\matplotlib\\backends\\backend_agg.py:183: RuntimeWarning: Glyph 49436 missing from current font.\n",
      "  font.set_text(s, 0, flags=flags)\n",
      "C:\\ProgramData\\Anaconda3\\lib\\site-packages\\matplotlib\\backends\\backend_agg.py:183: RuntimeWarning: Glyph 44552 missing from current font.\n",
      "  font.set_text(s, 0, flags=flags)\n",
      "C:\\ProgramData\\Anaconda3\\lib\\site-packages\\matplotlib\\backends\\backend_agg.py:183: RuntimeWarning: Glyph 52380 missing from current font.\n",
      "  font.set_text(s, 0, flags=flags)\n",
      "C:\\ProgramData\\Anaconda3\\lib\\site-packages\\matplotlib\\backends\\backend_agg.py:183: RuntimeWarning: Glyph 46041 missing from current font.\n",
      "  font.set_text(s, 0, flags=flags)\n",
      "C:\\ProgramData\\Anaconda3\\lib\\site-packages\\matplotlib\\backends\\backend_agg.py:183: RuntimeWarning: Glyph 51089 missing from current font.\n",
      "  font.set_text(s, 0, flags=flags)\n",
      "C:\\ProgramData\\Anaconda3\\lib\\site-packages\\matplotlib\\backends\\backend_agg.py:183: RuntimeWarning: Glyph 49457 missing from current font.\n",
      "  font.set_text(s, 0, flags=flags)\n",
      "C:\\ProgramData\\Anaconda3\\lib\\site-packages\\matplotlib\\backends\\backend_agg.py:183: RuntimeWarning: Glyph 50689 missing from current font.\n",
      "  font.set_text(s, 0, flags=flags)\n",
      "C:\\ProgramData\\Anaconda3\\lib\\site-packages\\matplotlib\\backends\\backend_agg.py:183: RuntimeWarning: Glyph 46321 missing from current font.\n",
      "  font.set_text(s, 0, flags=flags)\n",
      "C:\\ProgramData\\Anaconda3\\lib\\site-packages\\matplotlib\\backends\\backend_agg.py:183: RuntimeWarning: Glyph 54252 missing from current font.\n",
      "  font.set_text(s, 0, flags=flags)\n",
      "C:\\ProgramData\\Anaconda3\\lib\\site-packages\\matplotlib\\backends\\backend_agg.py:183: RuntimeWarning: Glyph 51333 missing from current font.\n",
      "  font.set_text(s, 0, flags=flags)\n",
      "C:\\ProgramData\\Anaconda3\\lib\\site-packages\\matplotlib\\backends\\backend_agg.py:183: RuntimeWarning: Glyph 47196 missing from current font.\n",
      "  font.set_text(s, 0, flags=flags)\n",
      "C:\\ProgramData\\Anaconda3\\lib\\site-packages\\matplotlib\\backends\\backend_agg.py:183: RuntimeWarning: Glyph 52397 missing from current font.\n",
      "  font.set_text(s, 0, flags=flags)\n",
      "C:\\ProgramData\\Anaconda3\\lib\\site-packages\\matplotlib\\backends\\backend_agg.py:183: RuntimeWarning: Glyph 44228 missing from current font.\n",
      "  font.set_text(s, 0, flags=flags)\n"
     ]
    },
    {
     "data": {
      "image/png": "[encoded data removed]",
      "text/plain": [
       "<Figure size 576x396 with 1 Axes>"
      ]
     },
     "metadata": {},
     "output_type": "display_data"
    }
   ],
   "source": [
    "# without Hangul font-family settingkkk\n",
    "fig, ax = plt.subplots()\n",
    "graphdf.plot(ax=ax)  # default: kind='line'"
   ]
  },
  {
   "cell_type": "code",
   "execution_count": 55,
   "metadata": {
    "execution": {
     "iopub.execute_input": "2020-08-03T11:31:09.119226Z",
     "iopub.status.busy": "2020-08-03T11:31:09.118226Z",
     "iopub.status.idle": "2020-08-03T11:31:09.778226Z",
     "shell.execute_reply": "2020-08-03T11:31:09.777226Z",
     "shell.execute_reply.started": "2020-08-03T11:31:09.119226Z"
    }
   },
   "outputs": [
    {
     "data": {
      "text/plain": [
       "<matplotlib.axes._subplots.AxesSubplot at 0x2336518d0c8>"
      ]
     },
     "execution_count": 55,
     "metadata": {},
     "output_type": "execute_result"
    },
    {
     "data": {
      "image/png": "[encoded data removed]",
      "text/plain": [
       "<Figure size 576x396 with 1 Axes>"
      ]
     },
     "metadata": {},
     "output_type": "display_data"
    }
   ],
   "source": [
    "# without Hangul font-family settingkkk\n",
    "fig, ax = plt.subplots()\n",
    "graphdf.plot(kind='bar', ax=ax)"
   ]
  },
  {
   "cell_type": "code",
   "execution_count": 38,
   "metadata": {
    "execution": {
     "iopub.execute_input": "2020-08-03T11:25:51.009141Z",
     "iopub.status.busy": "2020-08-03T11:25:51.008141Z",
     "iopub.status.idle": "2020-08-03T11:25:51.568139Z",
     "shell.execute_reply": "2020-08-03T11:25:51.567141Z",
     "shell.execute_reply.started": "2020-08-03T11:25:51.009141Z"
    }
   },
   "outputs": [
    {
     "data": {
      "text/plain": [
       "<matplotlib.axes._subplots.AxesSubplot at 0x2335c520e08>"
      ]
     },
     "execution_count": 38,
     "metadata": {},
     "output_type": "execute_result"
    },
    {
     "data": {
      "image/png": "[encoded data removed]",
      "text/plain": [
       "<Figure size 576x396 with 1 Axes>"
      ]
     },
     "metadata": {},
     "output_type": "display_data"
    }
   ],
   "source": [
    "# without Hangul font-family settingkkk\n",
    "fig, ax = plt.subplots()\n",
    "graphdf.plot(kind='bar', ax=ax)"
   ]
  },
  {
   "cell_type": "code",
   "execution_count": 53,
   "metadata": {
    "execution": {
     "iopub.execute_input": "2020-08-03T11:31:04.094226Z",
     "iopub.status.busy": "2020-08-03T11:31:04.094226Z",
     "iopub.status.idle": "2020-08-03T11:31:04.375226Z",
     "shell.execute_reply": "2020-08-03T11:31:04.374229Z",
     "shell.execute_reply.started": "2020-08-03T11:31:04.094226Z"
    }
   },
   "outputs": [
    {
     "data": {
      "text/plain": [
       "<matplotlib.axes._subplots.AxesSubplot at 0x233650a0f88>"
      ]
     },
     "execution_count": 53,
     "metadata": {},
     "output_type": "execute_result"
    },
    {
     "data": {
      "image/png": "[encoded data removed]",
      "text/plain": [
       "<Figure size 576x396 with 1 Axes>"
      ]
     },
     "metadata": {},
     "output_type": "display_data"
    }
   ],
   "source": [
    "# without Hangul font-family settingkkk\n",
    "fig, ax = plt.subplots()\n",
    "graphdf['pm25'].plot(kind='hist', ax=ax)"
   ]
  },
  {
   "cell_type": "code",
   "execution_count": 54,
   "metadata": {
    "execution": {
     "iopub.execute_input": "2020-08-03T11:31:05.528226Z",
     "iopub.status.busy": "2020-08-03T11:31:05.527226Z",
     "iopub.status.idle": "2020-08-03T11:31:05.786226Z",
     "shell.execute_reply": "2020-08-03T11:31:05.785225Z",
     "shell.execute_reply.started": "2020-08-03T11:31:05.528226Z"
    }
   },
   "outputs": [
    {
     "data": {
      "text/plain": [
       "<matplotlib.axes._subplots.AxesSubplot at 0x2336512b7c8>"
      ]
     },
     "execution_count": 54,
     "metadata": {},
     "output_type": "execute_result"
    },
    {
     "data": {
      "image/png": "[encoded data removed]",
      "text/plain": [
       "<Figure size 576x396 with 1 Axes>"
      ]
     },
     "metadata": {},
     "output_type": "display_data"
    }
   ],
   "source": [
    "# without Hangul font-family settingkkk\n",
    "fig, ax = plt.subplots()\n",
    "graphdf.plot(kind='scatter', x='pm25', y='pm10', ax=ax)"
   ]
  },
  {
   "cell_type": "code",
   "execution_count": 52,
   "metadata": {
    "execution": {
     "iopub.execute_input": "2020-08-03T11:30:58.576238Z",
     "iopub.status.busy": "2020-08-03T11:30:58.576238Z",
     "iopub.status.idle": "2020-08-03T11:30:58.806227Z",
     "shell.execute_reply": "2020-08-03T11:30:58.786232Z",
     "shell.execute_reply.started": "2020-08-03T11:30:58.576238Z"
    }
   },
   "outputs": [
    {
     "data": {
      "text/plain": [
       "<matplotlib.axes._subplots.AxesSubplot at 0x23364fb4248>"
      ]
     },
     "execution_count": 52,
     "metadata": {},
     "output_type": "execute_result"
    },
    {
     "data": {
      "image/png": "[encoded data removed]",
      "text/plain": [
       "<Figure size 576x396 with 1 Axes>"
      ]
     },
     "metadata": {},
     "output_type": "display_data"
    }
   ],
   "source": [
    "# without Hangul font-family settingkkk\n",
    "fig, ax = plt.subplots()\n",
    "graphdf['pm25'].plot(kind='pie', ax=ax)"
   ]
  },
  {
   "cell_type": "code",
   "execution_count": 56,
   "metadata": {
    "execution": {
     "iopub.execute_input": "2020-08-03T11:31:23.641226Z",
     "iopub.status.busy": "2020-08-03T11:31:23.640227Z",
     "iopub.status.idle": "2020-08-03T11:31:24.265225Z",
     "shell.execute_reply": "2020-08-03T11:31:24.264225Z",
     "shell.execute_reply.started": "2020-08-03T11:31:23.641226Z"
    }
   },
   "outputs": [
    {
     "data": {
      "text/plain": [
       "<matplotlib.axes._subplots.AxesSubplot at 0x23365335c88>"
      ]
     },
     "execution_count": 56,
     "metadata": {},
     "output_type": "execute_result"
    },
    {
     "data": {
      "image/png": "[encoded data removed]",
      "text/plain": [
       "<Figure size 576x396 with 1 Axes>"
      ]
     },
     "metadata": {},
     "output_type": "display_data"
    }
   ],
   "source": [
    "# without Hangul font-family settingkkk\n",
    "fig, ax = plt.subplots()\n",
    "graphdf['pm25'].plot(kind='bar', ax=ax)\n",
    "graphdf['pm10'].plot(kind='line', ax=ax, color='blue')"
   ]
  },
  {
   "cell_type": "markdown",
   "metadata": {},
   "source": [
    "<div class=\"alert alert-block alert-info\">\n",
    "<b> Tip:</b> 그래프이 개별 항목 조절이 가능하다. 아래는 matplotlib 그래프의 주요 항목 이름 <br>\n",
    "    (From Practical Business Python by  Chris Moffitt)\n",
    "</div>"
   ]
  },
  {
   "cell_type": "markdown",
   "metadata": {},
   "source": [
    "<img src=\"http://pbpython.com/images/matplotlib-anatomy.png\" />"
   ]
  },
  {
   "cell_type": "markdown",
   "metadata": {},
   "source": [
    "<div class=\"alert alert-block alert-info\">\n",
    "<b> Tip: </b> 그래프를 출력하는 방법이 여러가지가 있음. 외부 article을 보아도 조금씩 다른 방식을 사용함. 개인적으로 pandas보다는 matplot 방식을 추천</b>\n",
    "</div>"
   ]
  },
  {
   "cell_type": "markdown",
   "metadata": {},
   "source": [
    "## 그래프에서 한글 깨짐을 방지 위한 한글 font 등록 방법\n",
    "(아래 부분도 일단 외워두고, 한글이 깨지는 상황에는 무조건 적으로 사용!)"
   ]
  },
  {
   "cell_type": "markdown",
   "metadata": {},
   "source": [
    "<b> step 1</b>: 먼저, 현재 시스템에 등록된 한글 폰트를 확인. <= 사용할 수 있는 폰트 목록 확인"
   ]
  },
  {
   "cell_type": "code",
   "execution_count": 43,
   "metadata": {
    "execution": {
     "iopub.execute_input": "2020-08-03T11:25:52.817140Z",
     "iopub.status.busy": "2020-08-03T11:25:52.817140Z",
     "iopub.status.idle": "2020-08-03T11:25:53.160143Z",
     "shell.execute_reply": "2020-08-03T11:25:53.159140Z",
     "shell.execute_reply.started": "2020-08-03T11:25:52.817140Z"
    }
   },
   "outputs": [
    {
     "data": {
      "text/plain": [
       "['C:\\\\Windows\\\\Fonts\\\\LTYPEB.TTF',\n",
       " 'C:\\\\WINDOWS\\\\Fonts\\\\constan.ttf',\n",
       " 'C:\\\\Windows\\\\Fonts\\\\REFSPCL.TTF',\n",
       " 'C:\\\\WINDOWS\\\\Fonts\\\\CALIFI.TTF',\n",
       " 'C:\\\\Windows\\\\Fonts\\\\HYBSRB.TTF',\n",
       " 'C:\\\\Windows\\\\Fonts\\\\HYKANB.TTF',\n",
       " 'C:\\\\WINDOWS\\\\Fonts\\\\ahn_m.ttf',\n",
       " 'C:\\\\WINDOWS\\\\Fonts\\\\HMKMOLD.TTF',\n",
       " 'C:\\\\WINDOWS\\\\Fonts\\\\HYMPRL.TTF',\n",
       " 'C:\\\\Windows\\\\Fonts\\\\ENBODB.TTF']"
      ]
     },
     "execution_count": 43,
     "metadata": {},
     "output_type": "execute_result"
    }
   ],
   "source": [
    "import matplotlib.font_manager as fm\n",
    "font_list = fm.findSystemFonts(fontpaths = None, fontext = 'ttf')\n",
    "font_list[:10]"
   ]
  },
  {
   "cell_type": "markdown",
   "metadata": {},
   "source": [
    "<br>\n",
    "<b>step 2 </b>: (방법 1) 현재 노트북 환경에 '나눔고딕' 한글 폰트를 등록. 새로운 노트북에 매번 동일 내용을 추가해야함\n",
    "    \n",
    "<pre>\n",
    "plt.rc('font', family='NanumGothic')\n",
    "</pre>"
   ]
  },
  {
   "cell_type": "code",
   "execution_count": 44,
   "metadata": {
    "execution": {
     "iopub.execute_input": "2020-08-03T11:25:53.161151Z",
     "iopub.status.busy": "2020-08-03T11:25:53.161151Z",
     "iopub.status.idle": "2020-08-03T11:25:53.165144Z",
     "shell.execute_reply": "2020-08-03T11:25:53.164144Z",
     "shell.execute_reply.started": "2020-08-03T11:25:53.161151Z"
    }
   },
   "outputs": [],
   "source": [
    "plt.rc('font', family='NanumGothic')"
   ]
  },
  {
   "cell_type": "markdown",
   "metadata": {},
   "source": [
    "<br>\n",
    "<b> step 2-2 </b>: (방법 2) matplotlib의 설정 파일 (matplotlibrc 파일)에 한글 폰트를 등록하는 방법. <br>\n",
    "한번만 등록하면 새로운 노트북에서도 자동으로 설정이 적용됨 <br><br>\n",
    "\n",
    "<pre>\n",
    "matplotlibrc 파일에서 아래와 같이 내용을 변경\n",
    "\n",
    "font.family : sans-serif  => font.family : NanumGothic\n",
    "axes.unicode_minus: True  => axes.unicode_minus: False  \n",
    "</pre>"
   ]
  },
  {
   "cell_type": "markdown",
   "metadata": {},
   "source": [
    "한글 설정에 대한 상세/추가적인 내용은 https://m.blog.naver.com/itisik/221789012960 글 참조"
   ]
  },
  {
   "cell_type": "markdown",
   "metadata": {},
   "source": [
    "## Matplot의 함수를 사용해서도 여러 개의 그래프(ax)를 하나의 fig에 출력"
   ]
  },
  {
   "cell_type": "markdown",
   "metadata": {},
   "source": [
    "<b> plt 모듀의 subplots을 이용해서 fig, ax를 먼저 선언한 후 그래프 출력 </b>"
   ]
  },
  {
   "cell_type": "code",
   "execution_count": 45,
   "metadata": {
    "execution": {
     "iopub.execute_input": "2020-08-03T11:25:53.166140Z",
     "iopub.status.busy": "2020-08-03T11:25:53.166140Z",
     "iopub.status.idle": "2020-08-03T11:25:54.014138Z",
     "shell.execute_reply": "2020-08-03T11:25:54.013151Z",
     "shell.execute_reply.started": "2020-08-03T11:25:53.166140Z"
    }
   },
   "outputs": [
    {
     "data": {
      "text/plain": [
       "[Text(0.5, 1.0, 'PM10')]"
      ]
     },
     "execution_count": 45,
     "metadata": {},
     "output_type": "execute_result"
    },
    {
     "data": {
      "image/png": "[encoded data removed]",
      "text/plain": [
       "<Figure size 1008x360 with 2 Axes>"
      ]
     },
     "metadata": {},
     "output_type": "display_data"
    }
   ],
   "source": [
    "# prepare the canvas frame\n",
    "fig, (ax0, ax1) = plt.subplots(nrows=1, ncols=2, figsize=(14,5))\n",
    "# set the figure title\n",
    "fig.suptitle('Air Pollution in Seoul City', fontsize=14, fontweight='bold')\n",
    "# left (1st) sub-figure\n",
    "graphdf['pm25'].plot(kind='barh', ax=ax0)\n",
    "ax0.set(title='PM2.5')\n",
    "# right (2nd) sub-figure\n",
    "graphdf['pm10'].plot(kind='barh', ax=ax1)\n",
    "ax1.set(title='PM10')"
   ]
  },
  {
   "cell_type": "markdown",
   "metadata": {},
   "source": [
    "<img src=\"http://pbpython.com/images/matplotlib-pbpython-example-header.png\" />"
   ]
  },
  {
   "cell_type": "markdown",
   "metadata": {},
   "source": [
    "# 그 외"
   ]
  },
  {
   "cell_type": "code",
   "execution_count": 46,
   "metadata": {
    "execution": {
     "iopub.execute_input": "2020-08-03T11:25:54.016139Z",
     "iopub.status.busy": "2020-08-03T11:25:54.015142Z",
     "iopub.status.idle": "2020-08-03T11:25:54.021143Z",
     "shell.execute_reply": "2020-08-03T11:25:54.020151Z",
     "shell.execute_reply.started": "2020-08-03T11:25:54.016139Z"
    }
   },
   "outputs": [],
   "source": [
    "# set the matplotlib default drawing style\n",
    "plt.style.use('ggplot')                   # plt.style.available"
   ]
  },
  {
   "cell_type": "code",
   "execution_count": 47,
   "metadata": {
    "execution": {
     "iopub.execute_input": "2020-08-03T11:25:54.022142Z",
     "iopub.status.busy": "2020-08-03T11:25:54.022142Z",
     "iopub.status.idle": "2020-08-03T11:25:54.924151Z",
     "shell.execute_reply": "2020-08-03T11:25:54.923150Z",
     "shell.execute_reply.started": "2020-08-03T11:25:54.022142Z"
    }
   },
   "outputs": [
    {
     "data": {
      "text/plain": [
       "[Text(0.5, 1.0, 'PM10')]"
      ]
     },
     "execution_count": 47,
     "metadata": {},
     "output_type": "execute_result"
    },
    {
     "data": {
      "image/png": "[encoded data removed]",
      "text/plain": [
       "<Figure size 1008x360 with 2 Axes>"
      ]
     },
     "metadata": {},
     "output_type": "display_data"
    }
   ],
   "source": [
    "# prepare the canvas frame\n",
    "fig, (ax0, ax1) = plt.subplots(nrows=1, ncols=2, figsize=(14,5))\n",
    "# set the figure title\n",
    "fig.suptitle('Air Pollution in Seoul City', fontsize=14, fontweight='bold')\n",
    "# left (1st) sub-figure\n",
    "graphdf['pm25'].plot(kind='barh', ax=ax0)\n",
    "ax0.set(title='PM2.5')\n",
    "# right (2nd) sub-figure\n",
    "graphdf['pm10'].plot(kind='barh', ax=ax1)\n",
    "ax1.set(title='PM10')"
   ]
  },
  {
   "cell_type": "code",
   "execution_count": 48,
   "metadata": {
    "execution": {
     "iopub.execute_input": "2020-08-03T11:25:54.926139Z",
     "iopub.status.busy": "2020-08-03T11:25:54.926139Z",
     "iopub.status.idle": "2020-08-03T11:25:55.212139Z",
     "shell.execute_reply": "2020-08-03T11:25:55.211151Z",
     "shell.execute_reply.started": "2020-08-03T11:25:54.926139Z"
    }
   },
   "outputs": [],
   "source": [
    "#\n",
    "#  fig 작업을 수행\n",
    "#\n",
    "#\n",
    "# save the figure into file\n",
    "fig.savefig('piechart.png', dpi=125)"
   ]
  },
  {
   "cell_type": "code",
   "execution_count": 49,
   "metadata": {
    "execution": {
     "iopub.execute_input": "2020-08-03T11:25:55.213143Z",
     "iopub.status.busy": "2020-08-03T11:25:55.213143Z",
     "iopub.status.idle": "2020-08-03T11:25:55.598139Z",
     "shell.execute_reply": "2020-08-03T11:25:55.597150Z",
     "shell.execute_reply.started": "2020-08-03T11:25:55.213143Z"
    }
   },
   "outputs": [
    {
     "name": "stdout",
     "output_type": "stream",
     "text": [
      "Active code page: 65001\n",
      " Volume in drive D is D30G\n",
      " Volume Serial Number is 701B-706E\n",
      "\n",
      " Directory of d:\\jupyternotebook\\python_anal_atoz\n",
      "\n",
      "2020-08-03  �삤�썑 08:25    <DIR>          .\n",
      "2020-08-03  �삤�썑 08:25    <DIR>          ..\n",
      "2020-08-02  �삤�썑 11:14    <DIR>          .ipynb_checkpoints\n",
      "2020-08-03  �삤�썑 08:25           499,278 advanced_pandas.ipynb\n",
      "2020-08-01  �삤�썑 07:31         1,651,865 basic_pandas.ipynb\n",
      "2020-08-01  �삤�썑 07:31            46,474 jupyter_python.ipynb\n",
      "2020-07-31  �삤�썑 11:42               764 new_result.csv\n",
      "2020-08-03  �삤�썑 08:25            72,463 piechart.png\n",
      "2020-08-02  �삤�썑 11:32           455,221 python_modules.ipynb\n",
      "2020-08-03  �삤�썑 08:05         2,908,962 report.html\n",
      "2017-10-09  �삤�썑 05:07           902,377 seoul_air_polution.csv\n",
      "2020-08-01  �삤�쟾 08:17             1,043 seoul_greenpark.tsv\n",
      "2020-07-29  �삤�썑 09:02         1,134,011 seoul_municipalities_geo.json\n",
      "2020-08-01  �삤�썑 07:31           790,283 Untitled.ipynb\n",
      "              11 File(s)      8,462,741 bytes\n",
      "               3 Dir(s)   6,929,477,632 bytes free\n"
     ]
    }
   ],
   "source": [
    "!dir"
   ]
  },
  {
   "cell_type": "markdown",
   "metadata": {},
   "source": [
    "# Appendix"
   ]
  },
  {
   "cell_type": "markdown",
   "metadata": {},
   "source": [
    "<div class=\"alert alert-block alert-info\">\n",
    "<b> Tip:</b> 데이터에 대한 간략한 통계, 분포를 통한 EDA를 자동으로 report 해주는 모듈 </b>\n",
    "</div>"
   ]
  },
  {
   "cell_type": "raw",
   "metadata": {
    "execution": {
     "iopub.execute_input": "2020-08-03T11:02:30.205142Z",
     "iopub.status.busy": "2020-08-03T11:02:30.204141Z",
     "iopub.status.idle": "2020-08-03T11:03:23.815139Z",
     "shell.execute_reply": "2020-08-03T11:03:23.809142Z",
     "shell.execute_reply.started": "2020-08-03T11:02:30.205142Z"
    }
   },
   "source": [
    "!conda install -c conda-forge pandas-profiling  -y"
   ]
  },
  {
   "cell_type": "code",
   "execution_count": 50,
   "metadata": {
    "execution": {
     "iopub.execute_input": "2020-08-03T11:25:55.599150Z",
     "iopub.status.busy": "2020-08-03T11:25:55.599150Z",
     "iopub.status.idle": "2020-08-03T11:26:17.549150Z",
     "shell.execute_reply": "2020-08-03T11:26:17.549150Z",
     "shell.execute_reply.started": "2020-08-03T11:25:55.599150Z"
    }
   },
   "outputs": [
    {
     "data": {
      "application/vnd.jupyter.widget-view+json": {
       "model_id": "ad45e8462bd34550962498bac491e716",
       "version_major": 2,
       "version_minor": 0
      },
      "text/plain": [
       "HBox(children=(FloatProgress(value=0.0, description='Summarize dataset', max=25.0, style=ProgressStyle(descrip…"
      ]
     },
     "metadata": {},
     "output_type": "display_data"
    },
    {
     "name": "stderr",
     "output_type": "stream",
     "text": [
      "C:\\ProgramData\\Anaconda3\\lib\\site-packages\\matplotlib\\backends\\backend_agg.py:214: RuntimeWarning: Glyph 8722 missing from current font.\n",
      "  font.set_text(s, 0.0, flags=flags)\n",
      "C:\\ProgramData\\Anaconda3\\lib\\site-packages\\matplotlib\\backends\\backend_agg.py:183: RuntimeWarning: Glyph 8722 missing from current font.\n",
      "  font.set_text(s, 0, flags=flags)\n",
      "C:\\ProgramData\\Anaconda3\\lib\\site-packages\\matplotlib\\textpath.py:84: RuntimeWarning: Glyph 8722 missing from current font.\n",
      "  font.set_text(s, 0.0, flags=LOAD_NO_HINTING)\n"
     ]
    },
    {
     "name": "stdout",
     "output_type": "stream",
     "text": [
      "\n"
     ]
    },
    {
     "data": {
      "application/vnd.jupyter.widget-view+json": {
       "model_id": "5a60eba9379b455197819a254f521ab3",
       "version_major": 2,
       "version_minor": 0
      },
      "text/plain": [
       "HBox(children=(FloatProgress(value=0.0, description='Generate report structure', max=1.0, style=ProgressStyle(…"
      ]
     },
     "metadata": {},
     "output_type": "display_data"
    },
    {
     "name": "stdout",
     "output_type": "stream",
     "text": [
      "\n"
     ]
    },
    {
     "data": {
      "application/vnd.jupyter.widget-view+json": {
       "model_id": "673e6ba4eba64587a3324047721f6283",
       "version_major": 2,
       "version_minor": 0
      },
      "text/plain": [
       "HBox(children=(FloatProgress(value=0.0, description='Render HTML', max=1.0, style=ProgressStyle(description_wi…"
      ]
     },
     "metadata": {},
     "output_type": "display_data"
    },
    {
     "name": "stdout",
     "output_type": "stream",
     "text": [
      "\n"
     ]
    },
    {
     "data": {
      "application/vnd.jupyter.widget-view+json": {
       "model_id": "5d39fb148788477ab736a23c51e997c3",
       "version_major": 2,
       "version_minor": 0
      },
      "text/plain": [
       "HBox(children=(FloatProgress(value=0.0, description='Export report to file', max=1.0, style=ProgressStyle(desc…"
      ]
     },
     "metadata": {},
     "output_type": "display_data"
    },
    {
     "name": "stdout",
     "output_type": "stream",
     "text": [
      "\n"
     ]
    }
   ],
   "source": [
    "report = airdf.profile_report()\n",
    "report.to_file(output_file=\"report.html\")"
   ]
  },
  {
   "cell_type": "code",
   "execution_count": 51,
   "metadata": {
    "execution": {
     "iopub.execute_input": "2020-08-03T11:26:17.551144Z",
     "iopub.status.busy": "2020-08-03T11:26:17.551144Z",
     "iopub.status.idle": "2020-08-03T11:26:18.833140Z",
     "shell.execute_reply": "2020-08-03T11:26:18.832140Z",
     "shell.execute_reply.started": "2020-08-03T11:26:17.551144Z"
    }
   },
   "outputs": [
    {
     "data": {
      "text/plain": [
       "True"
      ]
     },
     "execution_count": 51,
     "metadata": {},
     "output_type": "execute_result"
    }
   ],
   "source": [
    "webbrowser.open(\"report.html\", new=0)"
   ]
  }
 ],
 "metadata": {
  "kernelspec": {
   "display_name": "Python 3",
   "language": "python",
   "name": "python3"
  },
  "language_info": {
   "codemirror_mode": {
    "name": "ipython",
    "version": 3
   },
   "file_extension": ".py",
   "mimetype": "text/x-python",
   "name": "python",
   "nbconvert_exporter": "python",
   "pygments_lexer": "ipython3",
   "version": "3.7.6"
  },
  "toc-autonumbering": true
 },
 "nbformat": 4,
 "nbformat_minor": 4
}
